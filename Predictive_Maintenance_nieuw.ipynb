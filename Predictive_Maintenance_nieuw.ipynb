{
 "cells": [
  {
   "cell_type": "markdown",
   "metadata": {},
   "source": [
    "# Predictive Maintenance\n",
    "\n",
    "## Inleiding\n",
    "\n",
    "**Auteurs:** *R. Coenen, Y. Dera, M. Vliex & S. van Wesel* <br>\n",
    "\n",
    "## Inhoudsopgave\n",
    "\n",
    "* [1. Business Understanding](#Chapter1)\n",
    "* [2. Data mining](#Chapter2)\n",
    "* [3. Data Cleaning](#Chapter3)\n",
    "* [4. Data Exploration](#Chapter4)\n",
    "* [5. Feature Engineering](#Chapter5)\n",
    "* [6. Predictive Modeling](#Chapter6)\n",
    "* [7. Data visualization](#Chapter7)\n",
    "\n",
    "---"
   ]
  },
  {
   "cell_type": "markdown",
   "metadata": {},
   "source": [
    "# 1. Business Understanding <a class=\"anchor\" id=\"Chapter1\"></a><br>\n",
    "\n",
    "**Over dit hoofdstuk**\n",
    "In deze fase is het belangrijk om begrip te krijgen voor de probleemstelling van de klant. Het overzichtelijk in kaart brengen van de wens van de opdrachtgever kan er in resulteren dat de gegevens beter begrepen worden en dat de juisite zinvolle inzichten uit de gegevens afgeleid zullen worden. In deze fase wordt de doelstelling van het project gedefinieerd en wordt omschreven welke voorspellingen uitgewerkt moeten worden. \n",
    "\n",
    "## 1.1. Business Understanding <a class=\"anchor\" id=\"Chapter1.1\"></a><br>\n",
    "De opdrachtgever van dit project heeft aan de projectgroep de opdracht verstrekt om een dataset te zoeken die gebruikt kan worden om voorspellingen te doen inzake het onderhoud van machines, deze methodiek heet predictive maintenance.. Het idee achter predictive maintenance is dat door het monitoren van apparatuur/machines met sensoren de life (of fail) cycle gemanaged kan worden en zo uitval van machines op tijd aangepakt\n",
    "kan worden; dit is dan ook gelijk de hoofdvraag van dit project. De vertaalslag van sensor data naar een predictie over bijvoorbeeld de resterende levensduur van een apparaat is echter moeilijk en hierbij komen verschillende technieken uit de datascience en machine learning hoek aan te pas. Aan de projectgroep de taak deze vertaalslag te maken en middels verschillende methodieken uit te werken.\n",
    "\n",
    "Predictive maintenance is een techniek welke gebruik maakt van data analyse tools en technieken om afwijkingen in een organisatie en mogelijke gebreken in apparatuur en processen vroegtijdig te detecteren zodat deze afgehandeld kunnen worden nog vóór dat deze resulteren in een fout {1}. Enerzijds focust predictive maintenance zich op het voorkomen van reactive maintenance {2}, waarbij het anderzijds de kosten voor preventive maintenance {3} probeert te verlagen.\n",
    "\n",
    "Ter verduidelijking, er zijn een drietal vormen van predictive maintenance:\n",
    "\n",
    "<b>Reactive (reactief)</b> - Onderhoud uitvoeren zodra er een probleem is<br>\n",
    "Probleem: onverwachte storingen kunnen duur (kosten) en potentieel gevaarlijk zijn\n",
    "\n",
    "<b>Scheuduled (gepland)</b> - Onderhoud uitvoeren op basis van een (regelmatig) schema<br>\n",
    "Probleem: onnodig onderhoud kan verspilling zijn; mogelijk worden niet alle storingen verholpen\n",
    "\n",
    "<b>Predictive (voorspellend)</b> - Voorspellen wanneer zich problemen zullen voordoen<br>\n",
    "Probleem: moeilijk om nauwkeurige voorspellingen te doen voor complexe apparatuur\n",
    "\n",
    "## 1.2. Doelstelling <a class=\"anchor\" id=\"Chapter1.2\"></a><br>\n",
    "De casusgroep zal op basis van onderzoek een realisatie maken van een pipeline die gaat van ruwe data naar een predictie model.\n",
    "\n",
    "## 1.3. Resultaat <a class=\"anchor\" id=\"Chapter1.3\"></a><br>\n",
    "Een dataset en bijbehordende pipeline (i.c.m. Python scripts in Jupyter notebook vorm) voor predictive maintenance.\n",
    "\n",
    "## 1.4. Onderzoeksvragen <a class=\"anchor\" id=\"Chapter1.4\"></a><br>\n",
    "Voor het onderzoek zijn een aantal onderzoeksvragen opgesteld. Hiervoor luidt de hoofd-onderzoeksvraag: *\"Hoe kunnen machine learning algoritmen toegepast worden op een Predictive Maintenance dataset om voorspellingen te maken over (mogelijke) toekomstige defecten bij machines?\"*\n",
    "\n",
    "**Deelvragen**<br>\n",
    "- Hoe kan de dataset zodanig geprepareerd worden zodat de voorspellende modellen hiervan gebruik kunnen maken?\n",
    "- Welke machine learning algoritmen kunnen gebruikt worden voor het voorspellen van (mogelijke) toekomstige defecten bij machines?\n",
    "\n",
    "## 1.5. Hypothesen <a class=\"anchor\" id=\"Chapter1.5\"></a><br>\n",
    "- De operationele prestaties van de machines hebben invloed op de failures die bij de machines ontstaan\n",
    "- De leeftijd van de machines heeft invloed op het optreden van failures\n",
    "\n",
    "## 1.6. Tools <a class=\"anchor\" id=\"Chapter1.6\"></a><br>\n",
    "Er zijn diverse tools die ingezet zijn bij de realisatie van dit onderzoeksrapport. Deze worden hieronder in de tabel weergeven, inclusief een (beknopte) omschrijving.<br>\n",
    "De modules voor Python zijn in het hoorcollege en discussiecollege van week 4 aan bod gekomen.\n",
    "\n",
    "| Naam              | Soort | Omschrijving | Meer informatie\n",
    "| :----:            | :----:                     | :----:            | :----: |\n",
    "| Python            | Programmeertaal            | Python is een open-source programeertaal welke vaak gebruikt wordt voor machine learning | [python.org](#https://www.python.org/) |\n",
    "| NumPy             | Module voor Python         | Module voor het omgaan met arrays en matrices met de bijbehorende functies               | [numpy.org](#https://numpy.org/)      |\n",
    "| Matplotlib        | Module voor Python         | Module voor grafische toepassingen en visualisaties                                      | [matplotlib.org](#https://matplotlib.org/) |\n",
    "| Seaborn           | Module voor Python         | Module voor high-level visualisaties                                                     | [seaborn.pydata.org](#https://seaborn.pydata.org/) |\n",
    "| Pandas            | Module voor Python         | Module voor het opslaan en manipuleren van datastructuren                                | [pandas.pydata.org](#https://pandas.pydata.org/) |\n",
    "| Scikit-learn      | Module voor Python         | Module voor het toepassen van machine-learningtechnieken                                 | [python.org](#https://www.python.org/) |\n",
    "| Anaconda          | Module voor Python         | Softwaresuite die o.a. Python en diverse (bovengenoemde) libraries, inzake data science, machine learning en data processing, bevat | [anaconda.com/products/individual](#https://www.anaconda.com/products/individual) |\n",
    "| Jupyter Notebook  | (Web-based) Tekstverwerker | Online IDE waarmee Jupyter Notebooks (een variant op markdown bestanden) geschreven kunnen worden, in combinatie met Python programmacode | [jupyter.org](#https://jupyter.org/) "
   ]
  },
  {
   "cell_type": "markdown",
   "metadata": {},
   "source": [
    "# 2. Data Mining <a class=\"anchor\" id=\"Chapter2\"></a><br>\n",
    "**Verzamel en schrap de gegevens die nodig zijn voor het project.**\n",
    "\n",
    "**Over dit hoofdstuk:** <br>\n",
    "In deze fase wordt er een dataset verkregen. Deze dataset kan afkomstig zijn van verschillende bronnen (relationele en niet-relationele databases) en/of formaten (zoals spreadsheets, CSV, tekstbestanden). <br>\n",
    "\n",
    "Datamining is het proces van het verzamelen van de gegevens uit de verschillende bronnen. Deze fase gaat vooraf aan het groeperen en opschonen van gegevens. In deze fase wordt er na gedacht over welke gegevens relevant/nodig zijn voor het project, waar deze te vinden zijn, hoe deze verkregen kan worden en waar deze opgeslagen zal worden om mee aan de slag te gaan.\n",
    "\n",
    "**Stap 1: Welke gegevens zijn relevant voor dit project?** <br>\n",
    "In de opdrachtomschrijving van de opdrachtgever werd er gevraagd naar het voorspellen van onderhoudsmomenten voor machines, op basis van sensoren. Hierdoor zou uitval van de machines vroegtijdig aangepakt kunnen worden en eventueel de resterende levensduur in kaart gebracht worden. In dit geval is de sensordata aanwezig, onderhoudshistorie en informatie inzake failures en errors.\n",
    "\n",
    "**Stap 2: Waar zijn deze gegevens te vinden?** <br>\n",
    "De dataset waarmee gewerkt wordt in dit project is te raadplegen op [Kaggle](https://www.kaggle.com/arnabbiswas1/microsoft-azure-predictive-maintenance). Kaggle is een dochteronderneming van [Google](https://www.google.com/) en is een online platform/community, gericht op datawetenschappers en beoefenaars van machine learning. Deze website biedt gebruikers de mogelijkheid om datasets te vinden en te publiceren evenals dat gebruikers de mogelijkheid hebben om direct aan de slag te kunnen gaan met de datasets. \n",
    "\n",
    "De 'Microsoft Azure Predictive Maintenance' wordt voor dit project dus gedownload vanaf Kaggle. Deze dataset is echter in het verleden beschikbaar gesteld door [Microsoft](https://www.microsoft.com/) als een project onder de noemer 'Azure AI Notebooks for Predictive Maintenance'. Dit project is echter op 15 oktober 2020 beëindigd{1}. De dataset is via Kaggle wel nog te downloaden.\n",
    "\n",
    "**Stap 3: Hoe kan deze data verkregen worden?** <br>\n",
    "Via Kaggle zijn de 5, destijds door Microsoft beschikbaar gestelde, gegevens te vinden. Deze zijn opgeslagen en gepubliceerd in een CSV-formaat (kommagescheiden bestand). Deze dataset bestaat uit 5 delen: errors (1), failures (2), machines (3), maint (4) en telemtry (5). \n",
    "\n",
    "**Stap 4: Waar wordt de data opgeslagen (zodat er mee gewerkt kan worden)?** <br>\n",
    "Er wordt een centrale [GitHub](https://www.github.com/) omgeving aangemaakt waarbinnen de datasets worden opgeslagen. Deze omgeving biedt ook de mogelijkheid om het onderzoeksrapport te uploaden en de verschillende versies van de verschillende projectleden bij te houden inclusief een versiehistorie en de mogelijkheid om alle nieuwe revisies samen te voegen tot één gezamelijk bestand.\n",
    "\n",
    "**Stap 5: Een blik werpen op de data** <br>\n",
    "De dataset bestaat uit de volgende gegevens:\n",
    "- **Machinecondities en gebruik**: De bedrijfsomstandigheden (de omstandigheden wanneer de machine aan staat) van een machine, b.v. gegevens verzameld van sensoren.\n",
    "- **Storingshistorie**: De storingshistorie van een machine of onderdeel binnen de machine.\n",
    "- **Onderhoudshistorie**: De reparatiehistorie van een machine, b.v. foutcodes, eerdere onderhoudsactiviteiten of vervanging van onderdelen.\n",
    "- **Machinekenmerken**: De kenmerken van een machine, b.v. merk en model, locatie etc.\n",
    "\n",
    "En bevat de volgende kenmerken:\n",
    "- **Telemetrie-tijdreeksgegevens (PdM_telemetry.csv)**: het bestaat uit het uurgemiddelde van spanning, rotatie, druk en trillingen verzameld van 100 machines voor het jaar 2015.\n",
    "- **Fout (PdM_errors.csv)**: Dit zijn fouten die de machines tegenkomen terwijl ze in bedrijf (actief) zijn. Aangezien deze fouten de machines niet afsluiten, worden deze niet als storingen beschouwd. De foutdatum en -tijden worden afgerond op het dichtstbijzijnde uur, aangezien de telemetriegegevens tegen een uurtarief worden verzameld.\n",
    "- **Onderhoud (PdM_maint.csv)**: Als een onderdeel van een machine wordt vervangen, wordt dat als record vastgelegd in deze tabel. Onderdelen worden vervangen in twee situaties: <br>\n",
    "1. Tijdens het reguliere geplande bezoek heeft de monteur het vervangen (Proactief Onderhoud) <br> \n",
    "2. Een onderdeel gaat kapot en vervolgens voert de monteur een ongepland onderhoud uit om het onderdeel te vervangen (Reactief Onderhoud). Dit wordt beschouwd als een storing en de bijbehorende gegevens worden vastgelegd onder Storingen. Onderhoudsgegevens hebben records voor zowel 2014 als 2015. Deze gegevens worden afgerond op het dichtstbijzijnde uur, aangezien de telemetriegegevens tegen een uurtarief worden verzameld.\n",
    "- **Storingen (PdM_failures.csv)**: Elk record vertegenwoordigt de vervanging van een onderdeel als gevolg van een storing. Deze gegevens zijn een subset van onderhoudsgegevens. Deze gegevens worden afgerond op het dichtstbijzijnde uur, aangezien de telemetriegegevens tegen een uurtarief worden verzameld.\n",
    "- **Metadata van machines (PdM_Machines.csv)**: modeltype en leeftijd van de machines.\n",
    "\n",
    "*Tabel 1: Data Dictionary*\n",
    "\n",
    "| Feature   | Omschrijving | Voorbeeld data    | Data Type | Type variabele | Meeteenheid | (Oorspronkelijke) databron |\n",
    "| ----------| -------------| ----------------- | ----------| ---------------| ------------|  --------------------------|\n",
    "| machineID | Iedere machine wordt gekenmerkt door een uniek identificatienummer | 1 | Int64 | Kwalitatief (discreet) | n.v.t | PdM_machines.csv |\n",
    "| model     | Er zijn verschillende soorten modellen, die gekenmerkt worden door een modelnummer | model 3 | text | Kwalitatief (discreet) | n.v.t |PdM_machines.csv |\n",
    "| age       | De leeftijd van de machines/compontenten | 18 | Int64 | Kwantitatief (discreet) | Maanden | PdM_machines.csv |\n",
    "| datetime  | Geeft de datum en tijd weer | 3-1-2015 07:00:00 | datetime | Kwantitatief (continue) | Uren, minuten, seconde | PdM_errors.csv     |\n",
    "| errorID   | Iedere error wordt gekenmerkt door een (uniek) error nummer | error1 | text | Kwalitatief (discreet) | n.v.t | PdM_errors.csv     |\n",
    "| failure   | Geeft aan welk component gefaald is | comp4 | text | Kwalitatief (discreet) | Binair | PdM_failures.csv |\n",
    "| comp      | Ieder component wordt gekenmerkt door een componentnummer | comp2 | text | Kwalitatief (discreet) | n.v.t | PdM_maint.csv |\n",
    "| volt      | De elektrische spanning in volt | 176217853015625 | Int64 | Kwantitatief (continue)| voltage ($V$) | PdM_maint.csv |\n",
    "| rotate    | Aantal rotaties per minuut | 418504078221616   | Int64 | Kwantitatief (continue) | Rotaties per minuut ($RPM$) | PdM_maint.csv  |\n",
    "| pressure  | Uitgeoefende druk in Kilo pascal (=0,01 bar) | 113077935462083   | Int64 | Kwantitatief (continue) | Kilo Pascal ($kPa$) (1 kPa = 0,01 bar) | PdM_maint.csv  |\n",
    "| vibration | Periodieke beweging van een voorwerp of medium | 450876857639276 | Int64 | Kwantitatief (continue) | Herz ($Hz$) | PdM_maint.csv |"
   ]
  },
  {
   "cell_type": "code",
   "execution_count": 43,
   "metadata": {},
   "outputs": [],
   "source": [
    "# Het importeren van de benodigde bilbiotheken\n",
    "import numpy as np #Library voor het kunnen werken met matrixen\n",
    "import pandas as pd #Library voor data frame manipulatie\n",
    "import matplotlib.pyplot as plt #Library voor het visualiseren van grafieken etc.\n",
    "import seaborn as sb #Uitbreiding op matplotlib voor het mogelijk mooier maken van visualisaties\n",
    "\n",
    "from sklearn.utils import resample #Library voor het downsamplen van de dataset (nivelleren failures)\n",
    "from numpy.polynomial.polynomial import polyfit #Import polyfit module voor Pearson R\n",
    "from imblearn import under_sampling, over_sampling \n",
    "from imblearn.over_sampling import SMOTE #Library voor het opschalen van dataframes. Om dit te gebruiken dient imblearn geïnstalleerd te zijn:\n",
    "        # pip install imblearn\n",
    "        # conda install -c-forge imbalanced-learn\n",
    "        # https://stackoverflow.com/questions/50376990/modulenotfounderror-no-module-named-imblearn\n",
    "\n",
    "from sklearn.model_selection import train_test_split\n",
    "from sklearn.metrics import plot_confusion_matrix\n",
    "from sklearn.linear_model import LogisticRegression\n",
    "from sklearn.preprocessing import scale\n",
    "from sklearn.svm import SVC \n",
    "from sklearn.model_selection import GridSearchCV"
   ]
  },
  {
   "cell_type": "code",
   "execution_count": 44,
   "metadata": {},
   "outputs": [],
   "source": [
    "# Het inlezen van de bestanden\n",
    "dfTelemetry = pd.read_csv('data/PdM_telemetry.csv')\n",
    "dfErrors = pd.read_csv('data/PdM_errors.csv')\n",
    "dfMaint = pd.read_csv('data/PdM_maint.csv')\n",
    "dfFailures = pd.read_csv('data/PdM_failures.csv')\n",
    "dfMachines = pd.read_csv('data/PdM_machines.csv')"
   ]
  },
  {
   "cell_type": "code",
   "execution_count": 45,
   "metadata": {},
   "outputs": [
    {
     "data": {
      "text/html": [
       "<div>\n",
       "<style scoped>\n",
       "    .dataframe tbody tr th:only-of-type {\n",
       "        vertical-align: middle;\n",
       "    }\n",
       "\n",
       "    .dataframe tbody tr th {\n",
       "        vertical-align: top;\n",
       "    }\n",
       "\n",
       "    .dataframe thead th {\n",
       "        text-align: right;\n",
       "    }\n",
       "</style>\n",
       "<table border=\"1\" class=\"dataframe\">\n",
       "  <thead>\n",
       "    <tr style=\"text-align: right;\">\n",
       "      <th></th>\n",
       "      <th>datetime</th>\n",
       "      <th>machineID</th>\n",
       "      <th>volt</th>\n",
       "      <th>rotate</th>\n",
       "      <th>pressure</th>\n",
       "      <th>vibration</th>\n",
       "    </tr>\n",
       "  </thead>\n",
       "  <tbody>\n",
       "    <tr>\n",
       "      <th>0</th>\n",
       "      <td>2015-01-01 06:00:00</td>\n",
       "      <td>1</td>\n",
       "      <td>176.217853</td>\n",
       "      <td>418.504078</td>\n",
       "      <td>113.077935</td>\n",
       "      <td>45.087686</td>\n",
       "    </tr>\n",
       "    <tr>\n",
       "      <th>1</th>\n",
       "      <td>2015-01-01 07:00:00</td>\n",
       "      <td>1</td>\n",
       "      <td>162.879223</td>\n",
       "      <td>402.747490</td>\n",
       "      <td>95.460525</td>\n",
       "      <td>43.413973</td>\n",
       "    </tr>\n",
       "    <tr>\n",
       "      <th>2</th>\n",
       "      <td>2015-01-01 08:00:00</td>\n",
       "      <td>1</td>\n",
       "      <td>170.989902</td>\n",
       "      <td>527.349825</td>\n",
       "      <td>75.237905</td>\n",
       "      <td>34.178847</td>\n",
       "    </tr>\n",
       "    <tr>\n",
       "      <th>3</th>\n",
       "      <td>2015-01-01 09:00:00</td>\n",
       "      <td>1</td>\n",
       "      <td>162.462833</td>\n",
       "      <td>346.149335</td>\n",
       "      <td>109.248561</td>\n",
       "      <td>41.122144</td>\n",
       "    </tr>\n",
       "    <tr>\n",
       "      <th>4</th>\n",
       "      <td>2015-01-01 10:00:00</td>\n",
       "      <td>1</td>\n",
       "      <td>157.610021</td>\n",
       "      <td>435.376873</td>\n",
       "      <td>111.886648</td>\n",
       "      <td>25.990511</td>\n",
       "    </tr>\n",
       "  </tbody>\n",
       "</table>\n",
       "</div>"
      ],
      "text/plain": [
       "              datetime  machineID        volt      rotate    pressure  \\\n",
       "0  2015-01-01 06:00:00          1  176.217853  418.504078  113.077935   \n",
       "1  2015-01-01 07:00:00          1  162.879223  402.747490   95.460525   \n",
       "2  2015-01-01 08:00:00          1  170.989902  527.349825   75.237905   \n",
       "3  2015-01-01 09:00:00          1  162.462833  346.149335  109.248561   \n",
       "4  2015-01-01 10:00:00          1  157.610021  435.376873  111.886648   \n",
       "\n",
       "   vibration  \n",
       "0  45.087686  \n",
       "1  43.413973  \n",
       "2  34.178847  \n",
       "3  41.122144  \n",
       "4  25.990511  "
      ]
     },
     "execution_count": 45,
     "metadata": {},
     "output_type": "execute_result"
    }
   ],
   "source": [
    "#Het tonen van de data (standaard toont de .head functie de eerste 5 rijen van de code) \n",
    "dfTelemetry.head()"
   ]
  },
  {
   "cell_type": "code",
   "execution_count": 46,
   "metadata": {},
   "outputs": [
    {
     "data": {
      "text/html": [
       "<div>\n",
       "<style scoped>\n",
       "    .dataframe tbody tr th:only-of-type {\n",
       "        vertical-align: middle;\n",
       "    }\n",
       "\n",
       "    .dataframe tbody tr th {\n",
       "        vertical-align: top;\n",
       "    }\n",
       "\n",
       "    .dataframe thead th {\n",
       "        text-align: right;\n",
       "    }\n",
       "</style>\n",
       "<table border=\"1\" class=\"dataframe\">\n",
       "  <thead>\n",
       "    <tr style=\"text-align: right;\">\n",
       "      <th></th>\n",
       "      <th>datetime</th>\n",
       "      <th>machineID</th>\n",
       "      <th>errorID</th>\n",
       "    </tr>\n",
       "  </thead>\n",
       "  <tbody>\n",
       "    <tr>\n",
       "      <th>0</th>\n",
       "      <td>2015-01-03 07:00:00</td>\n",
       "      <td>1</td>\n",
       "      <td>error1</td>\n",
       "    </tr>\n",
       "    <tr>\n",
       "      <th>1</th>\n",
       "      <td>2015-01-03 20:00:00</td>\n",
       "      <td>1</td>\n",
       "      <td>error3</td>\n",
       "    </tr>\n",
       "    <tr>\n",
       "      <th>2</th>\n",
       "      <td>2015-01-04 06:00:00</td>\n",
       "      <td>1</td>\n",
       "      <td>error5</td>\n",
       "    </tr>\n",
       "    <tr>\n",
       "      <th>3</th>\n",
       "      <td>2015-01-10 15:00:00</td>\n",
       "      <td>1</td>\n",
       "      <td>error4</td>\n",
       "    </tr>\n",
       "    <tr>\n",
       "      <th>4</th>\n",
       "      <td>2015-01-22 10:00:00</td>\n",
       "      <td>1</td>\n",
       "      <td>error4</td>\n",
       "    </tr>\n",
       "  </tbody>\n",
       "</table>\n",
       "</div>"
      ],
      "text/plain": [
       "              datetime  machineID errorID\n",
       "0  2015-01-03 07:00:00          1  error1\n",
       "1  2015-01-03 20:00:00          1  error3\n",
       "2  2015-01-04 06:00:00          1  error5\n",
       "3  2015-01-10 15:00:00          1  error4\n",
       "4  2015-01-22 10:00:00          1  error4"
      ]
     },
     "execution_count": 46,
     "metadata": {},
     "output_type": "execute_result"
    }
   ],
   "source": [
    "#Het tonen van de data (standaard toont de .head functie de eerste 5 rijen van de code) \n",
    "dfErrors.head()"
   ]
  },
  {
   "cell_type": "code",
   "execution_count": 47,
   "metadata": {},
   "outputs": [
    {
     "data": {
      "text/html": [
       "<div>\n",
       "<style scoped>\n",
       "    .dataframe tbody tr th:only-of-type {\n",
       "        vertical-align: middle;\n",
       "    }\n",
       "\n",
       "    .dataframe tbody tr th {\n",
       "        vertical-align: top;\n",
       "    }\n",
       "\n",
       "    .dataframe thead th {\n",
       "        text-align: right;\n",
       "    }\n",
       "</style>\n",
       "<table border=\"1\" class=\"dataframe\">\n",
       "  <thead>\n",
       "    <tr style=\"text-align: right;\">\n",
       "      <th></th>\n",
       "      <th>datetime</th>\n",
       "      <th>machineID</th>\n",
       "      <th>comp</th>\n",
       "    </tr>\n",
       "  </thead>\n",
       "  <tbody>\n",
       "    <tr>\n",
       "      <th>0</th>\n",
       "      <td>2014-06-01 06:00:00</td>\n",
       "      <td>1</td>\n",
       "      <td>comp2</td>\n",
       "    </tr>\n",
       "    <tr>\n",
       "      <th>1</th>\n",
       "      <td>2014-07-16 06:00:00</td>\n",
       "      <td>1</td>\n",
       "      <td>comp4</td>\n",
       "    </tr>\n",
       "    <tr>\n",
       "      <th>2</th>\n",
       "      <td>2014-07-31 06:00:00</td>\n",
       "      <td>1</td>\n",
       "      <td>comp3</td>\n",
       "    </tr>\n",
       "    <tr>\n",
       "      <th>3</th>\n",
       "      <td>2014-12-13 06:00:00</td>\n",
       "      <td>1</td>\n",
       "      <td>comp1</td>\n",
       "    </tr>\n",
       "    <tr>\n",
       "      <th>4</th>\n",
       "      <td>2015-01-05 06:00:00</td>\n",
       "      <td>1</td>\n",
       "      <td>comp4</td>\n",
       "    </tr>\n",
       "  </tbody>\n",
       "</table>\n",
       "</div>"
      ],
      "text/plain": [
       "              datetime  machineID   comp\n",
       "0  2014-06-01 06:00:00          1  comp2\n",
       "1  2014-07-16 06:00:00          1  comp4\n",
       "2  2014-07-31 06:00:00          1  comp3\n",
       "3  2014-12-13 06:00:00          1  comp1\n",
       "4  2015-01-05 06:00:00          1  comp4"
      ]
     },
     "execution_count": 47,
     "metadata": {},
     "output_type": "execute_result"
    }
   ],
   "source": [
    "#Het tonen van de data (standaard toont de .head functie de eerste 5 rijen van de code) \n",
    "dfMaint.head()"
   ]
  },
  {
   "cell_type": "code",
   "execution_count": 48,
   "metadata": {},
   "outputs": [
    {
     "data": {
      "text/html": [
       "<div>\n",
       "<style scoped>\n",
       "    .dataframe tbody tr th:only-of-type {\n",
       "        vertical-align: middle;\n",
       "    }\n",
       "\n",
       "    .dataframe tbody tr th {\n",
       "        vertical-align: top;\n",
       "    }\n",
       "\n",
       "    .dataframe thead th {\n",
       "        text-align: right;\n",
       "    }\n",
       "</style>\n",
       "<table border=\"1\" class=\"dataframe\">\n",
       "  <thead>\n",
       "    <tr style=\"text-align: right;\">\n",
       "      <th></th>\n",
       "      <th>datetime</th>\n",
       "      <th>machineID</th>\n",
       "      <th>failure</th>\n",
       "    </tr>\n",
       "  </thead>\n",
       "  <tbody>\n",
       "    <tr>\n",
       "      <th>0</th>\n",
       "      <td>2015-01-05 06:00:00</td>\n",
       "      <td>1</td>\n",
       "      <td>comp4</td>\n",
       "    </tr>\n",
       "    <tr>\n",
       "      <th>1</th>\n",
       "      <td>2015-03-06 06:00:00</td>\n",
       "      <td>1</td>\n",
       "      <td>comp1</td>\n",
       "    </tr>\n",
       "    <tr>\n",
       "      <th>2</th>\n",
       "      <td>2015-04-20 06:00:00</td>\n",
       "      <td>1</td>\n",
       "      <td>comp2</td>\n",
       "    </tr>\n",
       "    <tr>\n",
       "      <th>3</th>\n",
       "      <td>2015-06-19 06:00:00</td>\n",
       "      <td>1</td>\n",
       "      <td>comp4</td>\n",
       "    </tr>\n",
       "    <tr>\n",
       "      <th>4</th>\n",
       "      <td>2015-09-02 06:00:00</td>\n",
       "      <td>1</td>\n",
       "      <td>comp4</td>\n",
       "    </tr>\n",
       "  </tbody>\n",
       "</table>\n",
       "</div>"
      ],
      "text/plain": [
       "              datetime  machineID failure\n",
       "0  2015-01-05 06:00:00          1   comp4\n",
       "1  2015-03-06 06:00:00          1   comp1\n",
       "2  2015-04-20 06:00:00          1   comp2\n",
       "3  2015-06-19 06:00:00          1   comp4\n",
       "4  2015-09-02 06:00:00          1   comp4"
      ]
     },
     "execution_count": 48,
     "metadata": {},
     "output_type": "execute_result"
    }
   ],
   "source": [
    "#Het tonen van de data (standaard toont de .head functie de eerste 5 rijen van de code) \n",
    "dfFailures.head()"
   ]
  },
  {
   "cell_type": "code",
   "execution_count": 49,
   "metadata": {},
   "outputs": [
    {
     "data": {
      "text/html": [
       "<div>\n",
       "<style scoped>\n",
       "    .dataframe tbody tr th:only-of-type {\n",
       "        vertical-align: middle;\n",
       "    }\n",
       "\n",
       "    .dataframe tbody tr th {\n",
       "        vertical-align: top;\n",
       "    }\n",
       "\n",
       "    .dataframe thead th {\n",
       "        text-align: right;\n",
       "    }\n",
       "</style>\n",
       "<table border=\"1\" class=\"dataframe\">\n",
       "  <thead>\n",
       "    <tr style=\"text-align: right;\">\n",
       "      <th></th>\n",
       "      <th>machineID</th>\n",
       "      <th>model</th>\n",
       "      <th>age</th>\n",
       "    </tr>\n",
       "  </thead>\n",
       "  <tbody>\n",
       "    <tr>\n",
       "      <th>0</th>\n",
       "      <td>1</td>\n",
       "      <td>model3</td>\n",
       "      <td>18</td>\n",
       "    </tr>\n",
       "    <tr>\n",
       "      <th>1</th>\n",
       "      <td>2</td>\n",
       "      <td>model4</td>\n",
       "      <td>7</td>\n",
       "    </tr>\n",
       "    <tr>\n",
       "      <th>2</th>\n",
       "      <td>3</td>\n",
       "      <td>model3</td>\n",
       "      <td>8</td>\n",
       "    </tr>\n",
       "    <tr>\n",
       "      <th>3</th>\n",
       "      <td>4</td>\n",
       "      <td>model3</td>\n",
       "      <td>7</td>\n",
       "    </tr>\n",
       "    <tr>\n",
       "      <th>4</th>\n",
       "      <td>5</td>\n",
       "      <td>model3</td>\n",
       "      <td>2</td>\n",
       "    </tr>\n",
       "  </tbody>\n",
       "</table>\n",
       "</div>"
      ],
      "text/plain": [
       "   machineID   model  age\n",
       "0          1  model3   18\n",
       "1          2  model4    7\n",
       "2          3  model3    8\n",
       "3          4  model3    7\n",
       "4          5  model3    2"
      ]
     },
     "execution_count": 49,
     "metadata": {},
     "output_type": "execute_result"
    }
   ],
   "source": [
    "#Het tonen van de data (standaard toont de .head functie de eerste 5 rijen van de code) \n",
    "dfMachines.head()"
   ]
  },
  {
   "cell_type": "markdown",
   "metadata": {},
   "source": [
    "Bovenstaande dataframes worden op een later moment samengevoegd tot één dataframe (zie hoofdstuk 3)."
   ]
  },
  {
   "cell_type": "code",
   "execution_count": 50,
   "metadata": {},
   "outputs": [
    {
     "data": {
      "text/plain": [
       "(876100, 6)"
      ]
     },
     "execution_count": 50,
     "metadata": {},
     "output_type": "execute_result"
    }
   ],
   "source": [
    "# Het vertonen van het aantal rijen en het aantal kolommen\n",
    "dfTelemetry.shape"
   ]
  },
  {
   "cell_type": "markdown",
   "metadata": {},
   "source": [
    "Zoals te zien zijn er maarliefst 876.100 records aanwezig in de telemetrie logfiles."
   ]
  },
  {
   "cell_type": "code",
   "execution_count": 51,
   "metadata": {},
   "outputs": [
    {
     "data": {
      "text/plain": [
       "100"
      ]
     },
     "execution_count": 51,
     "metadata": {},
     "output_type": "execute_result"
    }
   ],
   "source": [
    "dfTelemetry.machineID.nunique()"
   ]
  },
  {
   "cell_type": "markdown",
   "metadata": {},
   "source": [
    "Deze zijn verzameld over 100 machines, zoals hierboven weergegeven. Op dit stadium zijn de oorspronkelijke bronbestanden ingeladen en is het mogelijk deze op te gaan schonen waar nodig. Dit gebeurt in het volgende hoofdstuk. "
   ]
  },
  {
   "cell_type": "markdown",
   "metadata": {},
   "source": [
    "# 3. Data Preprocessing <a class=\"anchor\" id=\"Chapter3\"></a><br>\n",
    "Dit hoofdstuk gaat in op het gereed maken en voorbewerken van de dataset. Oorspronkelijk bestaat de dataset uit 5 losse csv bestanden die tot één document samengevoegd dient te worden. Het samenvoegen van het document gebeurd in de paragraaf [Data Wrangling](#Chapter3.1). Vervolgens worden stappen ondernomen om enerzijds vast te stellen of data cleaning benodigd is na het samenvoegen van de data en anderzijds deze zaken op te lossen. Dit is terug te vinden in [paragraaf 3.2.](#Chapter3.2) Zo bestaat dit hoofdstuk uit de twee grote componenten voor het gereedmaken van de data voordat deze verkend kan worden; \n",
    "+ *Data Wrangling*: Het samenvoegen van brondata tot één dataframe.\n",
    "+ *Data Cleaning*: Het identificeren van fouten in de data en deze afhandelen."
   ]
  },
  {
   "cell_type": "markdown",
   "metadata": {},
   "source": [
    "## 3.1. Data Wrangling <a class=\"anchor\" id=\"Chapter3.1\"></a><br>\n",
    "Data wrangling betreft het op elkaar laten passen van de data. Hiermee wordt bedoelt het leggen van [relaties](https://www.techopedia.com/definition/21677/relation#:~:text=In%20relational%20databases%2C%20a%20relationship,key%20of%20the%20other%20table.&text=Relation%2C%20therefore%2C%20is%20the%20defining,also%20be%20known%20as%20relationship.) tussen de tabellen. Het samenvoegen van de bronnen volgt een aantal stappen. Deze worden onderverdeeld in stapnummers en parallel gedocumenteerd en uitgevoerd.  "
   ]
  },
  {
   "cell_type": "markdown",
   "metadata": {},
   "source": [
    "### 3.1.1. Data Wrangling stap 1 <a class=\"anchor\" id=\"Chapter3.1.1\"></a><br>\n",
    "De eerste stap voor het op elkaar laten passen is het inzichtelijk maken van het datamodel. Middels gebruik te maken van [Microsoft PowerBI](https://powerbi.microsoft.com/nl-nl/) wordt een model opgesteld waarbij de relaties tussen de tabellen geïdentificeerd kunnen worden. Dit heeft als resultaat het onderstaat Entity Attribute Relation Diagram (EARD):\n",
    "\n",
    "<img src=\"img/Oorspronkelijk_dataModel.png\" alt=\"oorspronkelijk datamodel\" width=\"650\"/><br>\n",
    "*Oorspronkelijk datamodel* <br>\n",
    "\n",
    "Onderstaande tabel omschrijft de relaties tussen de tabellen met een verdere diepgaande omschrijving om extra verheldering te bieden. \n",
    "\n",
    "*Relaties in model*\n",
    "|Tabel 1 (van)|Tabel 2 (naar)|Type relatie|Omschrijving|\n",
    "|:---:|:---:|---|---|\n",
    "|PDM_Machines|PDM_Maint|1 op 0 of meer (1...0*)|De relatie tussen de tabellen definieerd dat één machine 0 of meer keer onderhoud zal ondergaan|\n",
    "|PDM_Machines|PDM_Failures|1 op 0 of meer (1...0*)|De relatie tussen de tabellen definieerd dat één machine 0 of meer failures kan hebben|\n",
    "|PDM_Machines|PDM_Errors|1 op 0 of meer (1...0*)|De relatie tussen de tabellen definieerd dat één machine 0 of meer errors kan hebben|\n",
    "|PDM_Machines|PDM_Telemetry|1 op 1 of meer (1...1*)|De relatie tussen de tabellen definieerd dat één machine minstens één keer gemeten is in de operationele staat|\n",
    "\n",
    "Echter, op basis van diepgaander onderzoek blijkt dat de tabellen anders samengevoegd dienen te worden. Dit komt door een verschillende aantal opvallende zaken waarmee rekening gehouden dient te worden bij het samenvoegen van de bronbestanden. Deze opvallende zaken zijn: \n",
    "\n",
    "+ Een Error hoeft niet altijd tot een failure te leiden en dient gezien te worden als een aparte tabel. \n",
    "+ De tabellen PDM_Maint en PDM_Failures zijn aan elkaar gelinkt. Een failure leidt namenlijk altijd tot onderhoud. Maar onderhoud wordt niet alleen uitgevoerd door de gevolgen van een failure.\n",
    "\n",
    "Deze twee zaken dienen in acht genomen te worden bij de volgende stappen, dit zal uiteindelijk ook leiden tot een ander model. "
   ]
  },
  {
   "cell_type": "markdown",
   "metadata": {},
   "source": [
    "### 3.1.2. Data Wrangling stap 2 <a class=\"anchor\" id=\"Chapter3.1.2\"></a><br>\n",
    "Nu bekend is hoe data onderling is gerelateerd aan elkaar, is het van belang op basis van de opvallende zaken het gehele dataframe op te gaan bouwen. Hiervan is de eerste stap direct het afhandelen van de tweede opvallende zaak (relatie tussen failures en maintenance tabel). \n",
    "\n",
    "**1.**<br>\n",
    "De eerste samenvoeging wordt gedaan en krijgt de naam df1. df1 is een left join van de maintenance tabel op de failures tabel. Hierbij worden vanuit de PDM_Maint de kolommen ```datetime```, ```machineID``` en ```comp``` meegenomen. Vanuit de rechter tabel (PDM_failure) worden de kolommen ```datetime```, ```machineID``` en ```failure``` meegenomen. Hierbij is het mogelijk dat comp en failure op elkaar gejoined worden aangezien de inhoud van de rijen hetzelfde is. Een voorbeeld van de inhoud van de [comp] is namenlijk \"comp4\", deze waarde kan ook terug komen in de kolom failure van PDM_failures. Onderstaande regel toont de code hiervoor. \n",
    "\n",
    "```df1 = pd.merge(dfMaint, dfFailures, how='left', left_on=['datetime', 'machineID', 'comp'], right_on = ['datetime', 'machineID', 'failure'])```\n",
    "\n",
    "**2.**<br>\n",
    "Nadat de tabellen zijn samengevoegd is het van belang de lege waardes (Nan) in de 'failure' kolom op te vullen met een 0. Dit wordt gedaan om aan te duiden dat wanneer er een 0 staat, er geen failure op heeft getreden. Dit wordt uitgevoerd met de regel: \n",
    "\n",
    "```df1['failure'] = df1['failure'].fillna(0)```\n",
    "\n",
    "**3.**<br>\n",
    "Vervolgens is het van belang dat wanneer er een failure op heeft getreden (de rijen in de kolom [failure] die een waarde hebben), deze waarde op 1 gezet wordt. Hiermee wordt de kolom [failure] omgezet naar een binaire waarde. Wanneer dit is uitgevoerd indiceert een '1' in de kolom [failure] een failure, en een '0' geen failure. Het corresponderende component wanneer een failure optradt, is te zien in de kolom [comp]. Om dit te verwezenlijken wordt de volgende regel code uitgevoerd: \n",
    "\n",
    "```df1.loc[((df1.failure == 'comp1') | (df1.failure == 'comp2') | (df1.failure == 'comp3') | (df1.failure == 'comp4')), 'failure'] = '1'```\n",
    "\n",
    "**4.**<br>\n",
    "Vervolgens wordt in een laatste sub-stap een regel code uitgevoerd om de datatype kolom [failure] om te zetten naar een integer datatype. Dit wordt gedaan om er later berekeningen over te kunnen doen. \n",
    "\n",
    "```df1['failure'] = df1['failure'].astype(int)```\n",
    "\n",
    "Alle stappen worden in onderstaande codeblock uitgevoerd. "
   ]
  },
  {
   "cell_type": "code",
   "execution_count": 52,
   "metadata": {},
   "outputs": [],
   "source": [
    "# #Left join failures on maintenance to create df1\n",
    "df1 = pd.merge(dfMaint, dfFailures, how='left', left_on=['datetime', 'machineID', 'comp'], right_on = ['datetime', 'machineID', 'failure'])\n",
    "df1['failure'] = df1['failure'].fillna(0) #indicates maint was not a failure\n",
    "df1.loc[((df1.failure == 'comp1') | (df1.failure == 'comp2') | (df1.failure == 'comp3') | (df1.failure == 'comp4')), 'failure'] = '1' #indicates maintenance was a failure\n",
    "df1['failure'] = df1['failure'].astype(int)"
   ]
  },
  {
   "cell_type": "markdown",
   "metadata": {},
   "source": [
    "### 3.1.3. Data Wrangling stap 3 <a class=\"anchor\" id=\"Chapter3.1.3\"></a><br>\n",
    "De volgende stap in het samenvoegen van de dataset betreft het gereed maken van de Error tabel. De Error tabel voegt per error een nieuwe rij toe wat resulteert in redundante data. Een voorbeeld hiervan is bijvoorbeeld:\n",
    "\n",
    "|datetime|machineID|errorID|\n",
    "|---|---|---|\n",
    "|7/18/2020 : 06:00:00|1|error1|\n",
    "|7/18/2020 : 06:00:00|1|error2|\n",
    "\n",
    "De twee rijen in de tabel worden redundant gezien op basis van de datetime en machineID. Het kan dus voorkomen dat een machine op één tijdstip meerdere errors krijgt. Om dit af te handelen worden een aantal stappen uitgevoerd. \n",
    "\n",
    "**1.** <br>\n",
    "De eerste stap van het gereed maken van de errors tabel is het toekennen van het oorspronkelijke dataframe aan df2. Hierna worden vijf nieuwe kolommen aangemaakt met de namen *Error1*, *Error2*, *Error3*, *Error4* en *Error5*. De waardes voor deze kolommen worden vervolgens allemaal op *0* gezet. Onderstaande code zorgt ervoor dat dit gerealiseerd wordt: \n",
    "\n",
    "```python\n",
    "df2 = dfErrors\n",
    "df2['Error1'] = 0\n",
    "df2['Error2'] = 0\n",
    "df2['Error3'] = 0\n",
    "df2['Error4'] = 0\n",
    "df2['Error5'] = 0\n",
    "```\n",
    "**2.** <br>\n",
    "De volgende stap in het gereedmaken van de error tabel (vanaf nu df2 genoemd) is het lokaliseren van de errorwaardes in de *errorID* kolom. Vervolgens wordt aan de bijpassende kolom waarde *1* toegevoegd. Op deze manier ontstaat een binaire waarde in een kolom. Dit betekent dat de rijen uit het eerdere voorbeeld er als volgt uit komen te zien: \n",
    "\n",
    "|datetime|machineID|errorID|Error1|Error2|Error3|Error4|Error5\n",
    "|---|---|---|---|---|---|---|---|\n",
    "|7/18/2020 : 06:00:00|1|error1|1|0|0|0|0|\n",
    "|7/18/2020 : 06:00:00|1|error2|0|1|0|0|0|\n",
    "\n",
    "Om dit te verwezenlijken wordt het onderstaande stuk code uitgevoerd: \n",
    "\n",
    "```python\n",
    "df2.loc[(df2['errorID'] == 'error1'), 'Error1'] = 1\n",
    "df2.loc[(df2['errorID'] == 'error2'), 'Error2'] = 1\n",
    "df2.loc[(df2['errorID'] == 'error3'), 'Error3'] = 1\n",
    "df2.loc[(df2['errorID'] == 'error4'), 'Error4'] = 1\n",
    "df2.loc[(df2['errorID'] == 'error5'), 'Error5'] = 1\n",
    "```\n",
    "\n",
    "**3.** <br>\n",
    "De derde stap is het groeperen van de rijen waarin de rijen alsnog dubbel staan. In de voorbeeldtabel is te zien dat de rijen nog steeds dubbel staan. Dit wordt middels een groupby afgehandeld op basis van de *datetime* en *machineID* kolom. Dit zal gebeuren voor iedere Error{n} kolom met een lengte van 5. Hiervoor zal de som opgeteld worden. Dit wordt verwezenlijkt middels onderstaande regel code. \n",
    "\n",
    "```python\n",
    "df2 = df2.groupby(['datetime', 'machineID'])[[f'Error{n}' for n in range (1,6)]].sum() \n",
    "```\n",
    "\n",
    "Alle stappen worden in onderstaand codeblock uitgevoerd. "
   ]
  },
  {
   "cell_type": "code",
   "execution_count": 53,
   "metadata": {},
   "outputs": [],
   "source": [
    "#Clean error table to create df2, df2 = cleansed dfErrors tbl. \n",
    "df2 = dfErrors\n",
    "df2['Error1'] = 0\n",
    "df2['Error2'] = 0\n",
    "df2['Error3'] = 0\n",
    "df2['Error4'] = 0\n",
    "df2['Error5'] = 0\n",
    "\n",
    "df2.loc[(df2['errorID'] == 'error1'), 'Error1'] = 1\n",
    "df2.loc[(df2['errorID'] == 'error2'), 'Error2'] = 1\n",
    "df2.loc[(df2['errorID'] == 'error3'), 'Error3'] = 1\n",
    "df2.loc[(df2['errorID'] == 'error4'), 'Error4'] = 1\n",
    "df2.loc[(df2['errorID'] == 'error5'), 'Error5'] = 1\n",
    "\n",
    "# # df2 = df2.groupby(['machineID', 'datetime']).sum() #Groups on all cols.\n",
    "df2 = df2.groupby(['datetime', 'machineID'])[[f'Error{n}' for n in range (1,6)]].sum() #Groups errorID cols only"
   ]
  },
  {
   "cell_type": "markdown",
   "metadata": {},
   "source": [
    "### 3.1.4. Data Wrangling stap 4 <a class=\"anchor\" id=\"Chapter3.1.4\"></a><br>\n",
    "De vierde stap betreft het samenvoegen van de *telemetry* tabel in *df2* (zojuist gereed gemaakte error tabel) Ook hier worden een aantal onderliggende stappen uitgevoerd om te komen tot *df3*. \n",
    "\n",
    "**1.** <br>\n",
    "De eerste stap betreft het mergen van dfTelemetry met df2 om te komen tot df3. Dit wordt gedaan door een left join van dfTelemetry op df2 te doen. Hierbij worden op de kolommen *machineID* en *datetime* gekoppeld die in beiden voorkomen. Deze join zorgt ervoor dat alle rijen uit de dfTelemetry meegenomen worden en hieraan de df2 rijen en kolommen aan toe worden gevoegd. \n",
    "\n",
    "```python\n",
    "df3 = pd.merge(dfTelemetry, df2, how='left', left_on=['machineID', 'datetime'], right_on=['machineID', 'datetime'])\n",
    "```\n",
    "\n",
    "Dit leidt tot de volgende handelingen die gedaan dient te worden. Wanneer nu df3 wordt bekeken ontstaat er namelijk het volgende waarbij alle reeds aangemaakte kolommen (Error1 t/m 5) weer op NaN zijn gezet: \n",
    "\n",
    "|datetime|machineID|volt|rotate|pressure|vibration|Error1|Error2|Error3|Error4|Error5|\n",
    "|---|---|---|---|---|---|---|---|---|---|---|\n",
    "|2015-01-01 06:00:00|1|176.217853|418.504078|113.077935|45.087686|NaN|NaN|NaN|NaN|NaN|\n",
    "|2015-01-01 07:00:00|1|162.879223|402.747490|95.460525|43.413973|NaN|NaN|NaN|NaN|NaN|\n",
    "\n",
    "**2.** <br>\n",
    "Het afhandelen van de NaN waardes gebeurd in 5 regels code waarbij iedere Error{x} wordt gevuld met een *0*. Dit gebeurd middels onderstaande code:\n",
    "\n",
    "```python\n",
    "df3['Error1'] = df3['Error1'].fillna(0)\n",
    "df3['Error2'] = df3['Error2'].fillna(0)\n",
    "df3['Error3'] = df3['Error3'].fillna(0)\n",
    "df3['Error4'] = df3['Error4'].fillna(0)\n",
    "df3['Error5'] = df3['Error5'].fillna(0)\n",
    "```\n",
    "\n",
    "**3.** <br>\n",
    "De laatste handeling die betreffende df3 gedaan dient te worden is het omzetten van het datatype naar een integer. Momenteel is het een object (string) door het samenvoegen van de dataframes. Middels onderstaande code worden de datatypes (dtypes) voor alle Error{x} kolommen omgezet naar een integer(32)\n",
    "\n",
    "```python\n",
    "df3.Error1 = df3.Error1.astype(int)\n",
    "df3.Error2 = df3.Error2.astype(int)\n",
    "df3.Error3 = df3.Error3.astype(int)\n",
    "df3.Error4 = df3.Error4.astype(int)\n",
    "df3.Error5 = df3.Error5.astype(int)\n",
    "```\n",
    "\n",
    "Dit leidt tot een voorbeeldtabel als (waarbij de kolommen Error1, Error2, Error3, Error4 en Error5 het datatype integer(32) hebben gekregen):\n",
    "\n",
    "|datetime|machineID|volt|rotate|pressure|vibration|Error1|Error2|Error3|Error4|Error5|\n",
    "|---|---|---|---|---|---|---|---|---|---|---|\n",
    "|2015-01-01 06:00:00|1|176.217853|418.504078|113.077935|45.087686|1|0|0|0|0|\n",
    "|2015-01-01 07:00:00|1|162.879223|402.747490|95.460525|43.413973|0|1|0|0|0|\n",
    "\n",
    "Alle code wordt in onderstaande codeblock uitgevoerd."
   ]
  },
  {
   "cell_type": "code",
   "execution_count": 54,
   "metadata": {},
   "outputs": [],
   "source": [
    "##Create df3 by joining dfTelemetry on df2\n",
    "df3 = pd.merge(dfTelemetry, df2, how='left', left_on=['machineID', 'datetime'], right_on=['machineID', 'datetime'])\n",
    "\n",
    "df3['Error1'] = df3['Error1'].fillna(0)\n",
    "df3['Error2'] = df3['Error2'].fillna(0)\n",
    "df3['Error3'] = df3['Error3'].fillna(0)\n",
    "df3['Error4'] = df3['Error4'].fillna(0)\n",
    "df3['Error5'] = df3['Error5'].fillna(0)\n",
    "\n",
    "df3.Error1 = df3.Error1.astype(int)\n",
    "df3.Error2 = df3.Error2.astype(int)\n",
    "df3.Error3 = df3.Error3.astype(int)\n",
    "df3.Error4 = df3.Error4.astype(int)\n",
    "df3.Error5 = df3.Error5.astype(int)"
   ]
  },
  {
   "cell_type": "markdown",
   "metadata": {},
   "source": [
    "### 3.1.5. Data Wrangling stap 5 <a class=\"anchor\" id=\"Chapter3.1.5\"></a><br>\n",
    "De vijfde stap betreft het samenvoegen van de zojuist aangemaakte df3 op de machines tabel. Dit betreft een relatief gemakkelijke merge die wordt gedaan middels een right join van machines op df3. Hiermee worden alle rijen van de oorspronkelijke dfTelemetry bewaard en worden de kolommen model en age vanuit de tabel machines toegevoegd. Deze join wordt gedaan enkel op de sleutel *machineID* aangezien dit de enige kolom is die beiden dataframes hebben. Onderstaande code voert dit uit gevolgd met het daaronder staande vooebeeld:\n",
    "\n",
    "```python\n",
    "df4 = pd.merge(dfMachines, df3, how='right', left_on=['machineID'], right_on=['machineID'])\n",
    "```\n",
    "\n",
    "\n",
    "|machineID|model|age|datetime|volt|rotate|pressure|vibration|Error1|Error2|Error3|Error4|Error5|\n",
    "|---|---|---|---|---|---|---|---|---|---|---|---|---|\n",
    "|1|model3|18|2015-01-01 06:00:00|176.217853|418.504078|113.077935|45.087686|1|0|0|0|0|\n",
    "|1|model3|18|2015-01-01 07:00:00|162.879223|402.747490|95.460525|43.413973|0|1|0|0|0|\n",
    "\n",
    "Alle code wordt in onderstaand codeblock uitgevoerd."
   ]
  },
  {
   "cell_type": "code",
   "execution_count": 55,
   "metadata": {},
   "outputs": [],
   "source": [
    "## Create df4 by joining machines on df3\n",
    "df4 = pd.merge(dfMachines, df3, how='right', left_on=['machineID'], right_on=['machineID'])"
   ]
  },
  {
   "cell_type": "markdown",
   "metadata": {},
   "source": [
    "### 3.1.6. Data Wrangling stap 6 <a class=\"anchor\" id=\"Chapter3.1.6\"></a><br>\n",
    "De zesde stap is het aanmaken van de volledige dataset. Op dit punt zijn de drie linkse tabellen samengevoegd tot df4 en de twee rechtse tabellen tot df1. df5 wordt de samenvoeging van deze twee dataframes waarbij een right join van df1 op df4 wordt gedaan op basis van de kolommen *machineID* en *datetime*. Hiermee worden alle oorspronkelijke rijen van de oude dataset dfTelemetry bewaard (zie code). \n",
    "\n",
    "```python\n",
    "df5 = pd.merge(df1, df4, how='right', left_on=['machineID', 'datetime'], right_on=['machineID', 'datetime'])\n",
    "```\n",
    "\n",
    "Echter is het mogelijk dat hier problemen ontstaan doordat er veel lege waardes in de *comp* en *failure* kolom ontstaan, dit is terug te zien in het onderstaande voorbeeld: \n",
    "\n",
    "|datetime|machineID|comp|failure|model|age|volt|rotate|pressure|vibration|Error1|Error2|Error3|Error4|Error5|\n",
    "|---|---|---|---|---|---|---|---|---|---|---|---|---|---|---|\n",
    "|2015-01-01 06:00:00|1|comp4|1|model3|18|179.303153|499.777962|111.833028|52.383097|0|0|0|0|0|\n",
    "|2015-01-01 07:00:00|1|comp1|0|model3|18|179.303153|499.777962|111.833028|52.383097|0|0|0|0|0|\n",
    "|2016-01-01 02:00:00|100|NaN|NaN|model4|5|179.438162|395.222827|102.290715|50.771941|0|0|0|0|0|\n",
    "|2016-01-01 07:00:00|100|NaN|NaN|model4|5|189.617555|446.207972|98.180607|35.123072|0|0|0|0|0|\n",
    "\n",
    "Om problemen te voorkomen wordt een alternatieve dataset opgebouwd die is gefocust op een kleinere dataframe. Dit wordt in de volgende stap afgehandeld.\n",
    "\n",
    "Alle code wordt in onderstaand codeblock uitgevoerd. "
   ]
  },
  {
   "cell_type": "code",
   "execution_count": 56,
   "metadata": {},
   "outputs": [],
   "source": [
    "## Create df5 by joining df1 on df4\n",
    "df5 = pd.merge(df1, df4, how='right', left_on=['machineID', 'datetime'], right_on=['machineID', 'datetime'])\n",
    "df = df5"
   ]
  },
  {
   "cell_type": "markdown",
   "metadata": {},
   "source": [
    "### 3.1.7. Data Wrangling stap 7 <a class=\"anchor\" id=\"Chapter3.1.7\"></a><br>\n",
    "Om het zojuist opgedane \"probleem\" te verhelpen, wordt een kleinere dataframe opgebouwd op dezelfde wijze als df5 is ontwikkeld. Echter wordt er nu gebruik gemaakt van een inner join zodat er geen lege waardes in kolommen zullen voorkomen. Dit resulteert tevens in een kleinere dataset met slechts(!) 2886 rijen. Deze zogenoemende dfSmall dataframe wordt uitgevoerd middels de regel code: \n",
    "\n",
    "```python\n",
    "dfSmall = pd.merge(df1, df4)\n",
    "```\n",
    "\n",
    "Hiermee ontstaat het volgende: \n",
    "\n",
    "|datetime|machineID|comp|failure|model|age|volt|rotate|pressure|vibration|Error1|Error2|Error3|Error4|Error5|\n",
    "|---|---|---|---|---|---|---|---|---|---|---|---|---|---|---|\n",
    "|2015-01-01 06:00:00|1|comp4|1|model3|18|179.303153|499.777962|111.833028|52.383097|0|0|0|0|0|\n",
    "|2015-01-01 07:00:00|1|comp1|0|model3|18|179.303153|499.777962|111.833028|52.383097|0|0|0|0|0|\n",
    "|2015-12-09 06:00:00|100|comp2|1|model4|5|144.720190|377.188361|109.995936|28.433400|0|0|0|0|0|\n",
    "|2015-12-24 06:00:00|100|comp2|0|model4|5|154.408466|535.776651|102.614263|30.723456|0|0|0|0|0|\n",
    "\n",
    "alle code wordt in onderstaand codeblock uitgevoerd."
   ]
  },
  {
   "cell_type": "code",
   "execution_count": 57,
   "metadata": {},
   "outputs": [],
   "source": [
    "#Create dfSmall by inner joining df1 on df4\n",
    "dfSmall = pd.merge(df1, df4)"
   ]
  },
  {
   "cell_type": "markdown",
   "metadata": {},
   "source": [
    "### 3.1.8. Additieve handelingen data wrangling<a class=\"anchor\" id=\"Chapter3.1.8.\"></a><br>\n",
    "Op dit punt van het wrangling proces bestaan er zo twee dataframes, df en een kleinere versie hiervan, dfSmall. Hierover werden in een later stadium van het onderzoek additieve handelingen uitgevoerd die te maken hadden met het aanpassen van de oorspronkelijke dataframes. Vanaf deze paragraaf wordt er dieper in gegaan op deze handelingen en wordt bestaande code niet verder aangepast om verwarring en fouten in de code te voorkomen. De additieve handelingen worden voor zowel df als dfSmall uitgevoerd waar relevant.  "
   ]
  },
  {
   "cell_type": "markdown",
   "metadata": {},
   "source": [
    "#### 3.1.8.1. Opsplitsen van datetime kolom<a class=\"anchor\" id=\"Chapter3.1.8.1\"></a><br>\n",
    "Vanuit het oogpunt hoe schoon de data is, werd besloten de datetime kolom op te splitsen in een kolom ```date``` en ```timestamp```. Hiermee werd de kolom datetime minder overzichtelijk en maakte het dit mogelijk deze datatypes van de kolommen apart te behandelen. Dit was mogelijk in de toekomst van belang bij het trainen van modellen. Onderstaande twee code blokken voeren de handelingen voor dfSmall en df uit. "
   ]
  },
  {
   "cell_type": "code",
   "execution_count": 58,
   "metadata": {},
   "outputs": [
    {
     "data": {
      "text/html": [
       "<div>\n",
       "<style scoped>\n",
       "    .dataframe tbody tr th:only-of-type {\n",
       "        vertical-align: middle;\n",
       "    }\n",
       "\n",
       "    .dataframe tbody tr th {\n",
       "        vertical-align: top;\n",
       "    }\n",
       "\n",
       "    .dataframe thead th {\n",
       "        text-align: right;\n",
       "    }\n",
       "</style>\n",
       "<table border=\"1\" class=\"dataframe\">\n",
       "  <thead>\n",
       "    <tr style=\"text-align: right;\">\n",
       "      <th></th>\n",
       "      <th>date</th>\n",
       "      <th>timestamp</th>\n",
       "      <th>machineID</th>\n",
       "      <th>comp</th>\n",
       "      <th>failure</th>\n",
       "      <th>model</th>\n",
       "      <th>age</th>\n",
       "      <th>volt</th>\n",
       "      <th>rotate</th>\n",
       "      <th>pressure</th>\n",
       "      <th>vibration</th>\n",
       "      <th>Error1</th>\n",
       "      <th>Error2</th>\n",
       "      <th>Error3</th>\n",
       "      <th>Error4</th>\n",
       "      <th>Error5</th>\n",
       "    </tr>\n",
       "  </thead>\n",
       "  <tbody>\n",
       "    <tr>\n",
       "      <th>0</th>\n",
       "      <td>2015-01-05</td>\n",
       "      <td>06:00:00</td>\n",
       "      <td>1</td>\n",
       "      <td>comp4</td>\n",
       "      <td>1</td>\n",
       "      <td>model3</td>\n",
       "      <td>18</td>\n",
       "      <td>179.303153</td>\n",
       "      <td>499.777962</td>\n",
       "      <td>111.833028</td>\n",
       "      <td>52.383097</td>\n",
       "      <td>0</td>\n",
       "      <td>0</td>\n",
       "      <td>0</td>\n",
       "      <td>0</td>\n",
       "      <td>0</td>\n",
       "    </tr>\n",
       "    <tr>\n",
       "      <th>1</th>\n",
       "      <td>2015-01-05</td>\n",
       "      <td>06:00:00</td>\n",
       "      <td>1</td>\n",
       "      <td>comp1</td>\n",
       "      <td>0</td>\n",
       "      <td>model3</td>\n",
       "      <td>18</td>\n",
       "      <td>179.303153</td>\n",
       "      <td>499.777962</td>\n",
       "      <td>111.833028</td>\n",
       "      <td>52.383097</td>\n",
       "      <td>0</td>\n",
       "      <td>0</td>\n",
       "      <td>0</td>\n",
       "      <td>0</td>\n",
       "      <td>0</td>\n",
       "    </tr>\n",
       "    <tr>\n",
       "      <th>2</th>\n",
       "      <td>2015-01-20</td>\n",
       "      <td>06:00:00</td>\n",
       "      <td>1</td>\n",
       "      <td>comp3</td>\n",
       "      <td>0</td>\n",
       "      <td>model3</td>\n",
       "      <td>18</td>\n",
       "      <td>157.774510</td>\n",
       "      <td>442.816748</td>\n",
       "      <td>105.160692</td>\n",
       "      <td>42.135127</td>\n",
       "      <td>0</td>\n",
       "      <td>0</td>\n",
       "      <td>0</td>\n",
       "      <td>0</td>\n",
       "      <td>0</td>\n",
       "    </tr>\n",
       "    <tr>\n",
       "      <th>3</th>\n",
       "      <td>2015-01-20</td>\n",
       "      <td>06:00:00</td>\n",
       "      <td>1</td>\n",
       "      <td>comp1</td>\n",
       "      <td>0</td>\n",
       "      <td>model3</td>\n",
       "      <td>18</td>\n",
       "      <td>157.774510</td>\n",
       "      <td>442.816748</td>\n",
       "      <td>105.160692</td>\n",
       "      <td>42.135127</td>\n",
       "      <td>0</td>\n",
       "      <td>0</td>\n",
       "      <td>0</td>\n",
       "      <td>0</td>\n",
       "      <td>0</td>\n",
       "    </tr>\n",
       "    <tr>\n",
       "      <th>4</th>\n",
       "      <td>2015-02-04</td>\n",
       "      <td>06:00:00</td>\n",
       "      <td>1</td>\n",
       "      <td>comp4</td>\n",
       "      <td>0</td>\n",
       "      <td>model3</td>\n",
       "      <td>18</td>\n",
       "      <td>198.120032</td>\n",
       "      <td>438.210053</td>\n",
       "      <td>89.040265</td>\n",
       "      <td>41.887215</td>\n",
       "      <td>0</td>\n",
       "      <td>0</td>\n",
       "      <td>0</td>\n",
       "      <td>0</td>\n",
       "      <td>0</td>\n",
       "    </tr>\n",
       "  </tbody>\n",
       "</table>\n",
       "</div>"
      ],
      "text/plain": [
       "         date timestamp  machineID   comp  failure   model  age        volt  \\\n",
       "0  2015-01-05  06:00:00          1  comp4        1  model3   18  179.303153   \n",
       "1  2015-01-05  06:00:00          1  comp1        0  model3   18  179.303153   \n",
       "2  2015-01-20  06:00:00          1  comp3        0  model3   18  157.774510   \n",
       "3  2015-01-20  06:00:00          1  comp1        0  model3   18  157.774510   \n",
       "4  2015-02-04  06:00:00          1  comp4        0  model3   18  198.120032   \n",
       "\n",
       "       rotate    pressure  vibration  Error1  Error2  Error3  Error4  Error5  \n",
       "0  499.777962  111.833028  52.383097       0       0       0       0       0  \n",
       "1  499.777962  111.833028  52.383097       0       0       0       0       0  \n",
       "2  442.816748  105.160692  42.135127       0       0       0       0       0  \n",
       "3  442.816748  105.160692  42.135127       0       0       0       0       0  \n",
       "4  438.210053   89.040265  41.887215       0       0       0       0       0  "
      ]
     },
     "execution_count": 58,
     "metadata": {},
     "output_type": "execute_result"
    }
   ],
   "source": [
    "## --------Aanmaken date en timestamp kolom dfSmall--------------------\n",
    "##if statement om errors te voorkomen wanneer de code meerdere malen wordt uitgevoerd\n",
    "if 'datetime' in dfSmall:\n",
    "    ##Het aanmaken van de date en timestamp kolom met een spatie als delimiter\n",
    "    dfSmall[['date', 'timestamp']] = dfSmall['datetime'].str.split(' ',expand=True)\n",
    "    ##Het verwijderen van de oorspronkelijke datetime kolom\n",
    "    dfSmall.drop('datetime', axis=1, inplace=True)\n",
    "    ##Correct zetten van de volgorde (index) van de kolommen\n",
    "    col_names = ['date', 'timestamp', 'machineID', 'comp', 'failure', 'model', 'age', 'volt', 'rotate', 'pressure', 'vibration', 'Error1', 'Error2', 'Error3', 'Error4', 'Error5']\n",
    "    dfSmall = dfSmall.reindex(columns=col_names)\n",
    "else:\n",
    "    dfSmall = dfSmall\n",
    "\n",
    "dfSmall.head()"
   ]
  },
  {
   "cell_type": "code",
   "execution_count": 59,
   "metadata": {},
   "outputs": [],
   "source": [
    "## --------Aanmaken date en timestamp kolom df--------------------\n",
    "##if statement om errors te voorkomen wanneer de code meerdere malen wordt uitgevoerd\n",
    "if 'datetime' in df:\n",
    "    ##Het aanmaken van de date en timestamp kolom met een spatie als delimiter\n",
    "    df[['date', 'timestamp']] = df['datetime'].str.split(' ',expand=True)\n",
    "    ##Het verwijderen van de oorspronkelijke datetime kolom\n",
    "    df.drop('datetime', axis=1, inplace=True)\n",
    "    ##Correct zetten van de volgorde (index) van de kolommen\n",
    "    col_names = ['date', 'timestamp', 'machineID', 'comp', 'failure', 'model', 'age', 'volt', 'rotate', 'pressure', 'vibration', 'Error1', 'Error2', 'Error3', 'Error4', 'Error5']\n",
    "    df = df.reindex(columns=col_names)\n",
    "else:\n",
    "    df = df"
   ]
  },
  {
   "cell_type": "markdown",
   "metadata": {},
   "source": [
    "#### 3.1.8.2 Alternatieve code stap 3: One-hot-encoding<a class=\"anchor\" id=\"Chapter3.1.8.2\"></a><br>\n",
    "In een later stadium van het project kwam aan het licht dat de stappen die zijn ondernomen in stap 3, one-hot-encoding worden genoemd. One-hot-encoding is het proces voor het opstellen van kolommen die gebaseerd zijn op categorieën. Hierbij worden de kolommen met meerdere waardes (bijvoorbeeld model1, model2, model3, model4) opgesplitst in 4 kolommen en een *0* en *1* ingevuld. Aangezien op dit punt de code al staat waarbij de errors al zijn gecodeerd, is het van belang dit ook nog voor comp en model gedaan dient te worden. Deze laatste stappen gelden als aanvulling en zijn leidend voor de rest van het project. Onderstaande code zorgt ervoor dat de kolommen comp en model worden herzien middels one-hot-encoding. Dit was zoals vermeld al reeds gedaan voor errorID maar op een andere wijze. Hierbij wordt eerst dfsmall voorzien van one-hot-encoding en vervolgens de gehele df."
   ]
  },
  {
   "cell_type": "code",
   "execution_count": 60,
   "metadata": {},
   "outputs": [
    {
     "data": {
      "text/html": [
       "<div>\n",
       "<style scoped>\n",
       "    .dataframe tbody tr th:only-of-type {\n",
       "        vertical-align: middle;\n",
       "    }\n",
       "\n",
       "    .dataframe tbody tr th {\n",
       "        vertical-align: top;\n",
       "    }\n",
       "\n",
       "    .dataframe thead th {\n",
       "        text-align: right;\n",
       "    }\n",
       "</style>\n",
       "<table border=\"1\" class=\"dataframe\">\n",
       "  <thead>\n",
       "    <tr style=\"text-align: right;\">\n",
       "      <th></th>\n",
       "      <th>date</th>\n",
       "      <th>timestamp</th>\n",
       "      <th>machineID</th>\n",
       "      <th>failure</th>\n",
       "      <th>age</th>\n",
       "      <th>volt</th>\n",
       "      <th>rotate</th>\n",
       "      <th>pressure</th>\n",
       "      <th>vibration</th>\n",
       "      <th>Error1</th>\n",
       "      <th>...</th>\n",
       "      <th>Error4</th>\n",
       "      <th>Error5</th>\n",
       "      <th>comp_1</th>\n",
       "      <th>comp_2</th>\n",
       "      <th>comp_3</th>\n",
       "      <th>comp_4</th>\n",
       "      <th>model_1</th>\n",
       "      <th>model_2</th>\n",
       "      <th>model_3</th>\n",
       "      <th>model_4</th>\n",
       "    </tr>\n",
       "  </thead>\n",
       "  <tbody>\n",
       "    <tr>\n",
       "      <th>0</th>\n",
       "      <td>2015-01-05</td>\n",
       "      <td>06:00:00</td>\n",
       "      <td>1</td>\n",
       "      <td>1</td>\n",
       "      <td>18</td>\n",
       "      <td>179.303153</td>\n",
       "      <td>499.777962</td>\n",
       "      <td>111.833028</td>\n",
       "      <td>52.383097</td>\n",
       "      <td>0</td>\n",
       "      <td>...</td>\n",
       "      <td>0</td>\n",
       "      <td>0</td>\n",
       "      <td>0</td>\n",
       "      <td>0</td>\n",
       "      <td>0</td>\n",
       "      <td>1</td>\n",
       "      <td>0</td>\n",
       "      <td>0</td>\n",
       "      <td>1</td>\n",
       "      <td>0</td>\n",
       "    </tr>\n",
       "    <tr>\n",
       "      <th>1</th>\n",
       "      <td>2015-01-05</td>\n",
       "      <td>06:00:00</td>\n",
       "      <td>1</td>\n",
       "      <td>0</td>\n",
       "      <td>18</td>\n",
       "      <td>179.303153</td>\n",
       "      <td>499.777962</td>\n",
       "      <td>111.833028</td>\n",
       "      <td>52.383097</td>\n",
       "      <td>0</td>\n",
       "      <td>...</td>\n",
       "      <td>0</td>\n",
       "      <td>0</td>\n",
       "      <td>1</td>\n",
       "      <td>0</td>\n",
       "      <td>0</td>\n",
       "      <td>0</td>\n",
       "      <td>0</td>\n",
       "      <td>0</td>\n",
       "      <td>1</td>\n",
       "      <td>0</td>\n",
       "    </tr>\n",
       "    <tr>\n",
       "      <th>2</th>\n",
       "      <td>2015-01-20</td>\n",
       "      <td>06:00:00</td>\n",
       "      <td>1</td>\n",
       "      <td>0</td>\n",
       "      <td>18</td>\n",
       "      <td>157.774510</td>\n",
       "      <td>442.816748</td>\n",
       "      <td>105.160692</td>\n",
       "      <td>42.135127</td>\n",
       "      <td>0</td>\n",
       "      <td>...</td>\n",
       "      <td>0</td>\n",
       "      <td>0</td>\n",
       "      <td>0</td>\n",
       "      <td>0</td>\n",
       "      <td>1</td>\n",
       "      <td>0</td>\n",
       "      <td>0</td>\n",
       "      <td>0</td>\n",
       "      <td>1</td>\n",
       "      <td>0</td>\n",
       "    </tr>\n",
       "    <tr>\n",
       "      <th>3</th>\n",
       "      <td>2015-01-20</td>\n",
       "      <td>06:00:00</td>\n",
       "      <td>1</td>\n",
       "      <td>0</td>\n",
       "      <td>18</td>\n",
       "      <td>157.774510</td>\n",
       "      <td>442.816748</td>\n",
       "      <td>105.160692</td>\n",
       "      <td>42.135127</td>\n",
       "      <td>0</td>\n",
       "      <td>...</td>\n",
       "      <td>0</td>\n",
       "      <td>0</td>\n",
       "      <td>1</td>\n",
       "      <td>0</td>\n",
       "      <td>0</td>\n",
       "      <td>0</td>\n",
       "      <td>0</td>\n",
       "      <td>0</td>\n",
       "      <td>1</td>\n",
       "      <td>0</td>\n",
       "    </tr>\n",
       "    <tr>\n",
       "      <th>4</th>\n",
       "      <td>2015-02-04</td>\n",
       "      <td>06:00:00</td>\n",
       "      <td>1</td>\n",
       "      <td>0</td>\n",
       "      <td>18</td>\n",
       "      <td>198.120032</td>\n",
       "      <td>438.210053</td>\n",
       "      <td>89.040265</td>\n",
       "      <td>41.887215</td>\n",
       "      <td>0</td>\n",
       "      <td>...</td>\n",
       "      <td>0</td>\n",
       "      <td>0</td>\n",
       "      <td>0</td>\n",
       "      <td>0</td>\n",
       "      <td>0</td>\n",
       "      <td>1</td>\n",
       "      <td>0</td>\n",
       "      <td>0</td>\n",
       "      <td>1</td>\n",
       "      <td>0</td>\n",
       "    </tr>\n",
       "  </tbody>\n",
       "</table>\n",
       "<p>5 rows × 22 columns</p>\n",
       "</div>"
      ],
      "text/plain": [
       "         date timestamp  machineID  failure  age        volt      rotate  \\\n",
       "0  2015-01-05  06:00:00          1        1   18  179.303153  499.777962   \n",
       "1  2015-01-05  06:00:00          1        0   18  179.303153  499.777962   \n",
       "2  2015-01-20  06:00:00          1        0   18  157.774510  442.816748   \n",
       "3  2015-01-20  06:00:00          1        0   18  157.774510  442.816748   \n",
       "4  2015-02-04  06:00:00          1        0   18  198.120032  438.210053   \n",
       "\n",
       "     pressure  vibration  Error1  ...  Error4  Error5  comp_1  comp_2  comp_3  \\\n",
       "0  111.833028  52.383097       0  ...       0       0       0       0       0   \n",
       "1  111.833028  52.383097       0  ...       0       0       1       0       0   \n",
       "2  105.160692  42.135127       0  ...       0       0       0       0       1   \n",
       "3  105.160692  42.135127       0  ...       0       0       1       0       0   \n",
       "4   89.040265  41.887215       0  ...       0       0       0       0       0   \n",
       "\n",
       "   comp_4  model_1  model_2  model_3  model_4  \n",
       "0       1        0        0        1        0  \n",
       "1       0        0        0        1        0  \n",
       "2       0        0        0        1        0  \n",
       "3       0        0        0        1        0  \n",
       "4       1        0        0        1        0  \n",
       "\n",
       "[5 rows x 22 columns]"
      ]
     },
     "execution_count": 60,
     "metadata": {},
     "output_type": "execute_result"
    }
   ],
   "source": [
    "## --------one-hot-encoding dfSmall--------------------\n",
    "##One-hot-encoding voor comp en model\n",
    "##If-statement voor het voorkomen van errors bij meerdere keren uitvoeren\n",
    "if 'comp' and 'model' in dfSmall:\n",
    "    ##Het aanmaken van dummies voor one hot encoding voor dfSmall\n",
    "    dfSmall_encoded = pd.get_dummies(dfSmall, columns=['comp', 'model'])\n",
    "    ##Het hernoemen van de kolommen\n",
    "    dfSmall_encoded.rename(columns={\n",
    "                            'comp_comp1': 'comp_1', 'comp_comp2': 'comp_2', 'comp_comp3': 'comp_3', 'comp_comp4': 'comp_4',\n",
    "                            'model_model1': 'model_1', 'model_model2': 'model_2', 'model_model3': 'model_3', 'model_model4': 'model_4'},\n",
    "                            inplace=True)\n",
    "##Else-statement als de code als een eerder is uitgevoerd\n",
    "else: \n",
    "    dfSmall_encoded = dfSmall\n",
    "\n",
    "dfSmall_encoded.head()"
   ]
  },
  {
   "cell_type": "code",
   "execution_count": 61,
   "metadata": {},
   "outputs": [
    {
     "data": {
      "text/html": [
       "<div>\n",
       "<style scoped>\n",
       "    .dataframe tbody tr th:only-of-type {\n",
       "        vertical-align: middle;\n",
       "    }\n",
       "\n",
       "    .dataframe tbody tr th {\n",
       "        vertical-align: top;\n",
       "    }\n",
       "\n",
       "    .dataframe thead th {\n",
       "        text-align: right;\n",
       "    }\n",
       "</style>\n",
       "<table border=\"1\" class=\"dataframe\">\n",
       "  <thead>\n",
       "    <tr style=\"text-align: right;\">\n",
       "      <th></th>\n",
       "      <th>date</th>\n",
       "      <th>timestamp</th>\n",
       "      <th>machineID</th>\n",
       "      <th>failure</th>\n",
       "      <th>age</th>\n",
       "      <th>volt</th>\n",
       "      <th>rotate</th>\n",
       "      <th>pressure</th>\n",
       "      <th>vibration</th>\n",
       "      <th>Error1</th>\n",
       "      <th>...</th>\n",
       "      <th>Error4</th>\n",
       "      <th>Error5</th>\n",
       "      <th>comp_1</th>\n",
       "      <th>comp_2</th>\n",
       "      <th>comp_3</th>\n",
       "      <th>comp_4</th>\n",
       "      <th>model_1</th>\n",
       "      <th>model_2</th>\n",
       "      <th>model_3</th>\n",
       "      <th>model_4</th>\n",
       "    </tr>\n",
       "  </thead>\n",
       "  <tbody>\n",
       "    <tr>\n",
       "      <th>0</th>\n",
       "      <td>2015-01-01</td>\n",
       "      <td>06:00:00</td>\n",
       "      <td>1</td>\n",
       "      <td>NaN</td>\n",
       "      <td>18</td>\n",
       "      <td>176.217853</td>\n",
       "      <td>418.504078</td>\n",
       "      <td>113.077935</td>\n",
       "      <td>45.087686</td>\n",
       "      <td>0</td>\n",
       "      <td>...</td>\n",
       "      <td>0</td>\n",
       "      <td>0</td>\n",
       "      <td>0</td>\n",
       "      <td>0</td>\n",
       "      <td>0</td>\n",
       "      <td>0</td>\n",
       "      <td>0</td>\n",
       "      <td>0</td>\n",
       "      <td>1</td>\n",
       "      <td>0</td>\n",
       "    </tr>\n",
       "    <tr>\n",
       "      <th>1</th>\n",
       "      <td>2015-01-01</td>\n",
       "      <td>07:00:00</td>\n",
       "      <td>1</td>\n",
       "      <td>NaN</td>\n",
       "      <td>18</td>\n",
       "      <td>162.879223</td>\n",
       "      <td>402.747490</td>\n",
       "      <td>95.460525</td>\n",
       "      <td>43.413973</td>\n",
       "      <td>0</td>\n",
       "      <td>...</td>\n",
       "      <td>0</td>\n",
       "      <td>0</td>\n",
       "      <td>0</td>\n",
       "      <td>0</td>\n",
       "      <td>0</td>\n",
       "      <td>0</td>\n",
       "      <td>0</td>\n",
       "      <td>0</td>\n",
       "      <td>1</td>\n",
       "      <td>0</td>\n",
       "    </tr>\n",
       "    <tr>\n",
       "      <th>2</th>\n",
       "      <td>2015-01-01</td>\n",
       "      <td>08:00:00</td>\n",
       "      <td>1</td>\n",
       "      <td>NaN</td>\n",
       "      <td>18</td>\n",
       "      <td>170.989902</td>\n",
       "      <td>527.349825</td>\n",
       "      <td>75.237905</td>\n",
       "      <td>34.178847</td>\n",
       "      <td>0</td>\n",
       "      <td>...</td>\n",
       "      <td>0</td>\n",
       "      <td>0</td>\n",
       "      <td>0</td>\n",
       "      <td>0</td>\n",
       "      <td>0</td>\n",
       "      <td>0</td>\n",
       "      <td>0</td>\n",
       "      <td>0</td>\n",
       "      <td>1</td>\n",
       "      <td>0</td>\n",
       "    </tr>\n",
       "    <tr>\n",
       "      <th>3</th>\n",
       "      <td>2015-01-01</td>\n",
       "      <td>09:00:00</td>\n",
       "      <td>1</td>\n",
       "      <td>NaN</td>\n",
       "      <td>18</td>\n",
       "      <td>162.462833</td>\n",
       "      <td>346.149335</td>\n",
       "      <td>109.248561</td>\n",
       "      <td>41.122144</td>\n",
       "      <td>0</td>\n",
       "      <td>...</td>\n",
       "      <td>0</td>\n",
       "      <td>0</td>\n",
       "      <td>0</td>\n",
       "      <td>0</td>\n",
       "      <td>0</td>\n",
       "      <td>0</td>\n",
       "      <td>0</td>\n",
       "      <td>0</td>\n",
       "      <td>1</td>\n",
       "      <td>0</td>\n",
       "    </tr>\n",
       "    <tr>\n",
       "      <th>4</th>\n",
       "      <td>2015-01-01</td>\n",
       "      <td>10:00:00</td>\n",
       "      <td>1</td>\n",
       "      <td>NaN</td>\n",
       "      <td>18</td>\n",
       "      <td>157.610021</td>\n",
       "      <td>435.376873</td>\n",
       "      <td>111.886648</td>\n",
       "      <td>25.990511</td>\n",
       "      <td>0</td>\n",
       "      <td>...</td>\n",
       "      <td>0</td>\n",
       "      <td>0</td>\n",
       "      <td>0</td>\n",
       "      <td>0</td>\n",
       "      <td>0</td>\n",
       "      <td>0</td>\n",
       "      <td>0</td>\n",
       "      <td>0</td>\n",
       "      <td>1</td>\n",
       "      <td>0</td>\n",
       "    </tr>\n",
       "  </tbody>\n",
       "</table>\n",
       "<p>5 rows × 22 columns</p>\n",
       "</div>"
      ],
      "text/plain": [
       "         date timestamp  machineID  failure  age        volt      rotate  \\\n",
       "0  2015-01-01  06:00:00          1      NaN   18  176.217853  418.504078   \n",
       "1  2015-01-01  07:00:00          1      NaN   18  162.879223  402.747490   \n",
       "2  2015-01-01  08:00:00          1      NaN   18  170.989902  527.349825   \n",
       "3  2015-01-01  09:00:00          1      NaN   18  162.462833  346.149335   \n",
       "4  2015-01-01  10:00:00          1      NaN   18  157.610021  435.376873   \n",
       "\n",
       "     pressure  vibration  Error1  ...  Error4  Error5  comp_1  comp_2  comp_3  \\\n",
       "0  113.077935  45.087686       0  ...       0       0       0       0       0   \n",
       "1   95.460525  43.413973       0  ...       0       0       0       0       0   \n",
       "2   75.237905  34.178847       0  ...       0       0       0       0       0   \n",
       "3  109.248561  41.122144       0  ...       0       0       0       0       0   \n",
       "4  111.886648  25.990511       0  ...       0       0       0       0       0   \n",
       "\n",
       "   comp_4  model_1  model_2  model_3  model_4  \n",
       "0       0        0        0        1        0  \n",
       "1       0        0        0        1        0  \n",
       "2       0        0        0        1        0  \n",
       "3       0        0        0        1        0  \n",
       "4       0        0        0        1        0  \n",
       "\n",
       "[5 rows x 22 columns]"
      ]
     },
     "execution_count": 61,
     "metadata": {},
     "output_type": "execute_result"
    }
   ],
   "source": [
    "# # --------one-hot-encoding df--------------------\n",
    "##One-hot-encoding voor comp en model\n",
    "##If-statement voor het voorkomen van errors bij meerdere keren uitvoeren\n",
    "if 'comp' and 'model' in df:\n",
    "    ##Het aanmaken van dummies voor one hot encoding voor dfSmall\n",
    "    df_encoded = pd.get_dummies(df, columns=['comp', 'model'])\n",
    "    ##Het hernoemen van de kolommen\n",
    "    df_encoded.rename(columns={\n",
    "                            'comp_comp1': 'comp_1', 'comp_comp2': 'comp_2', 'comp_comp3': 'comp_3', 'comp_comp4': 'comp_4',\n",
    "                            'model_model1': 'model_1', 'model_model2': 'model_2', 'model_model3': 'model_3', 'model_model4': 'model_4'},\n",
    "                            inplace=True)\n",
    "##Else-statement als de code als een eerder is uitgevoerd\n",
    "else: \n",
    "    df_encoded = df\n",
    "\n",
    "df_encoded.head()"
   ]
  },
  {
   "cell_type": "markdown",
   "metadata": {},
   "source": [
    "#### 3.1.8.3 Het nivelleren van failures<a class=\"anchor\" id=\"Chapter3.1.8.3\"></a><br>\n",
    "Middels een code uit te voeren (```dfSmall_encoded['failure'].values_count()``` en ```df_encoded['failure'].values_count()```) werd gedurende het onderzoek geconstateerd dat het aantal non-failures groter is dan de failures. Dit zou mogelijk problemen opleveren wanneer modellen getraind zouden worden. Hiermee ontstond namelijk de kans dat modellen bevooroordeeld getraind werden doordat de modellen er sneller vanuit zouden gaan dat er geen failure op zou treden (doordat deze vele malen meer voorkomt dan non-failures). Door het uitvoeren van de code kwam in beiden gevallen naar voor dat er een totaal van *2143* non-failures (niet gefaalde machines) en slechts *743* failures (gefaalde machines) zijn gemeten. Dit betekent dat er een totaal van *1400* meer non-failures voorkomen in de datasets. "
   ]
  },
  {
   "cell_type": "code",
   "execution_count": 62,
   "metadata": {},
   "outputs": [
    {
     "name": "stdout",
     "output_type": "stream",
     "text": [
      "Verhouding non-failures en failures in dfSmall_encoded: \n",
      " 0    2143\n",
      "1     743\n",
      "Name: failure, dtype: int64 \n",
      "\n",
      "Verhouding non-failures en failures in df_encoded: \n",
      " 0.0    2143\n",
      "1.0     743\n",
      "Name: failure, dtype: int64\n"
     ]
    }
   ],
   "source": [
    "print('Verhouding non-failures en failures in dfSmall_encoded: \\n', dfSmall_encoded['failure'].value_counts(), '\\n')\n",
    "print('Verhouding non-failures en failures in df_encoded: \\n', df_encoded['failure'].value_counts())"
   ]
  },
  {
   "cell_type": "markdown",
   "metadata": {},
   "source": [
    "Het afhandelen van dit fenomeen kan gedaan worden door de dataframes te downsampelen. Echter betekent dit dat voor de gehele df er relatief tot de oorspronkelijke hoeveelheid data gezien zeer weinig rijen overblijven. Wanneer dit voor de grote df gedaan zal worden, betekent dit dat df en dfsmall gelijk aan elkaar zouden worden. Hierom werd er gekozen het nivelleren van de aantal failures alleen voor de dfSmall uit te voeren. Het nivelleren gebeurd zodanig dat beide waardes slechts 743 keer voorkomen in de kolom failure. Onderstaande codeblok nivelleert het aantal failures in de dfSmall dataframe."
   ]
  },
  {
   "cell_type": "code",
   "execution_count": 63,
   "metadata": {},
   "outputs": [],
   "source": [
    "## --------Nivelleren van failures 0 en 1 in dfSmall--------------------\n",
    "##Het opslaan van de failures en non-failures in aparte variabelen\n",
    "dfSmall_failure = dfSmall_encoded[dfSmall_encoded['failure'] == 1]\n",
    "dfSmall_no_failure = dfSmall_encoded[dfSmall_encoded['failure'] == 0]\n",
    "\n",
    "##Het downsampelen van de failures\n",
    "dfSmall_failure_downsampled = resample(\n",
    "                        dfSmall_failure,\n",
    "                        replace=False,\n",
    "                        n_samples=743,\n",
    "                        random_state=42)\n",
    "\n",
    "##Het downsampelen van de non-failures\n",
    "dfSmall_no_failure_downsampled = resample(\n",
    "                        dfSmall_no_failure,\n",
    "                        replace=False,\n",
    "                        n_samples=743,\n",
    "                        random_state=42)\n",
    "\n",
    "#Het samenvoegen van de twee variabelen\n",
    "dfSmall_encoded_leveled_failures = pd.concat([dfSmall_failure_downsampled, dfSmall_no_failure_downsampled])"
   ]
  },
  {
   "cell_type": "markdown",
   "metadata": {},
   "source": [
    "Wanneer bovenstaande code wordt uitgevoerd ontstaat er een nieuw dataframe genaamd *dfSmall_encoded_leveled_failures* met een totaal aantal failures *743* en non failures *743*. Dit is op te vragen door de regel code ```dfSmall_encoded_leveled_failures['failure'].value_counts()``` in onderstaande codeblok uit te voeren."
   ]
  },
  {
   "cell_type": "code",
   "execution_count": 64,
   "metadata": {},
   "outputs": [
    {
     "data": {
      "text/plain": [
       "1    743\n",
       "0    743\n",
       "Name: failure, dtype: int64"
      ]
     },
     "execution_count": 64,
     "metadata": {},
     "output_type": "execute_result"
    }
   ],
   "source": [
    "##Validatie voor genivelleerde failures\n",
    "dfSmall_encoded_leveled_failures['failure'].value_counts()"
   ]
  },
  {
   "cell_type": "markdown",
   "metadata": {},
   "source": [
    "#### 3.1.8.4 Het opschalen van failures als tegenhanger van het nivelleren van failures<a class=\"anchor\" id=\"Chapter3.1.8.4\"></a><br>\n",
    "Als tegenhanger van het nivelleren van de failures in het dataframe is het tevens mogelijk de minority groep op te schalen. Dit wordt gedaan middels de [Synthethic Minority Oversampling Technique (SMOTE)](https://towardsdatascience.com/5-smote-techniques-for-oversampling-your-imbalance-data-b8155bdbe2b5). Hierbij wordt een nearest neighbour algoritme toegepast om synthetische data te ontwikkelen en zo invulling te geven aan de mindere groep (minority) wat in dit geval de failures betreffen. Hiermee ontstaat een grotere dataset waarbij fictieve data wordt gegenereerd op synthetische wijze. SMOTE is één van de vele methodieken om slecht gebalanceerde klassen in datasets af te handelen. [Deze website](https://www.analyticsvidhya.com/blog/2020/07/10-techniques-to-deal-with-class-imbalance-in-machine-learning/) toont een overzicht van de technieken. Hierbij werd echter voor SMOTE gekozen gezien dit synthetische data betreft die tot stand komt op een gefundeerde manier. Het algoritme zorgt er namenlijk niet voor dat er redundantie in de dataset ontstaat. \n",
    "\n",
    "Het opschalen van de failures wordt gedaan voor de dataframe *dfSmall_encoded* en zal een nieuw dataframe tot stand brengen. Dit dataframe dient uiteindelijk als tegenhanger van de dfSmall_encoded_leveled_failures gebruikt te worden."
   ]
  },
  {
   "cell_type": "markdown",
   "metadata": {},
   "source": [
    "**Stap 1: In kaart brengen ongelijkheid**<br>\n",
    "De eerste stap voor het opschalen van de failures is het daadwerkelijk in kaart brengen van de verdeling van failures en non-failures. Onderstaande codeblok toont de verdeling voor de dataframe waarbij een barchart wordt gebruikt voor het weergeven van de verdeling in failures en non-failures. Vervolgens is er een scatterplot ontwikkelt dat laat zien hoe de verdeling van failures en non-failures ligt waarbij de pressure en age van de machines op de x- en y as worden gezet. De regel code die gewenst wordt te gebruiken dient als enige niet uit gecomment te worden samen met de regel ```df_example = dfSmall_encoded[['pressure', 'age', 'failure']]``` "
   ]
  },
  {
   "cell_type": "code",
   "execution_count": 65,
   "metadata": {},
   "outputs": [
    {
     "name": "stderr",
     "output_type": "stream",
     "text": [
      "D:\\01_Sander\\03_Programmas\\Serious shit\\Anaconda\\lib\\site-packages\\seaborn\\_decorators.py:43: FutureWarning: Pass the following variable as a keyword arg: x. From version 0.12, the only valid positional argument will be `data`, and passing other arguments without an explicit keyword will result in an error or misinterpretation.\n",
      "  FutureWarning\n"
     ]
    },
    {
     "data": {
      "text/plain": [
       "0    2143\n",
       "1     743\n",
       "Name: failure, dtype: int64"
      ]
     },
     "execution_count": 65,
     "metadata": {},
     "output_type": "execute_result"
    },
    {
     "data": {
      "image/png": "[encoded data removed]",
      "text/plain": [
       "<Figure size 432x288 with 1 Axes>"
      ]
     },
     "metadata": {
      "needs_background": "light"
     },
     "output_type": "display_data"
    }
   ],
   "source": [
    "df_exampleUpscale1 = dfSmall_encoded[['pressure', 'age', 'failure']]\n",
    "\n",
    "##Barchart om de verdeling van failures & non-failures in kaart te brengen, comment onderstaande regel code wanneer de scatterplot wordt gebruikt\n",
    "sb.countplot(df_exampleUpscale1['failure'])\n",
    "\n",
    "##Scatterplot om de verdeling van failures & non-failures in kaart te brengen, comment onderstaande regel code wanneer de barchart wordt gebruikt\n",
    "# sb.scatterplot(data = df_exampleUpscale1, x='pressure', y='age', hue='failure')\n",
    "\n",
    "##Het tellen van de unieke waardes voor failures en non-failures in het dataframe waarbij 0: non-failure, 1: failure\n",
    "df_exampleUpscale1['failure'].value_counts()"
   ]
  },
  {
   "cell_type": "markdown",
   "metadata": {},
   "source": [
    "**Stap 2: Het oversampelen van de data**<br>\n"
   ]
  },
  {
   "cell_type": "code",
   "execution_count": 66,
   "metadata": {},
   "outputs": [
    {
     "data": {
      "text/html": [
       "<div>\n",
       "<style scoped>\n",
       "    .dataframe tbody tr th:only-of-type {\n",
       "        vertical-align: middle;\n",
       "    }\n",
       "\n",
       "    .dataframe tbody tr th {\n",
       "        vertical-align: top;\n",
       "    }\n",
       "\n",
       "    .dataframe thead th {\n",
       "        text-align: right;\n",
       "    }\n",
       "</style>\n",
       "<table border=\"1\" class=\"dataframe\">\n",
       "  <thead>\n",
       "    <tr style=\"text-align: right;\">\n",
       "      <th></th>\n",
       "      <th>machineID</th>\n",
       "      <th>age</th>\n",
       "      <th>volt</th>\n",
       "      <th>rotate</th>\n",
       "      <th>pressure</th>\n",
       "      <th>vibration</th>\n",
       "      <th>Error1</th>\n",
       "      <th>Error2</th>\n",
       "      <th>Error3</th>\n",
       "      <th>Error4</th>\n",
       "      <th>Error5</th>\n",
       "      <th>comp_1</th>\n",
       "      <th>comp_2</th>\n",
       "      <th>comp_3</th>\n",
       "      <th>comp_4</th>\n",
       "      <th>model_1</th>\n",
       "      <th>model_2</th>\n",
       "      <th>model_3</th>\n",
       "      <th>model_4</th>\n",
       "      <th>failure</th>\n",
       "    </tr>\n",
       "  </thead>\n",
       "  <tbody>\n",
       "    <tr>\n",
       "      <th>0</th>\n",
       "      <td>1</td>\n",
       "      <td>18</td>\n",
       "      <td>179.303153</td>\n",
       "      <td>499.777962</td>\n",
       "      <td>111.833028</td>\n",
       "      <td>52.383097</td>\n",
       "      <td>0</td>\n",
       "      <td>0</td>\n",
       "      <td>0</td>\n",
       "      <td>0</td>\n",
       "      <td>0</td>\n",
       "      <td>0</td>\n",
       "      <td>0</td>\n",
       "      <td>0</td>\n",
       "      <td>1</td>\n",
       "      <td>0</td>\n",
       "      <td>0</td>\n",
       "      <td>1</td>\n",
       "      <td>0</td>\n",
       "      <td>1</td>\n",
       "    </tr>\n",
       "    <tr>\n",
       "      <th>1</th>\n",
       "      <td>1</td>\n",
       "      <td>18</td>\n",
       "      <td>179.303153</td>\n",
       "      <td>499.777962</td>\n",
       "      <td>111.833028</td>\n",
       "      <td>52.383097</td>\n",
       "      <td>0</td>\n",
       "      <td>0</td>\n",
       "      <td>0</td>\n",
       "      <td>0</td>\n",
       "      <td>0</td>\n",
       "      <td>1</td>\n",
       "      <td>0</td>\n",
       "      <td>0</td>\n",
       "      <td>0</td>\n",
       "      <td>0</td>\n",
       "      <td>0</td>\n",
       "      <td>1</td>\n",
       "      <td>0</td>\n",
       "      <td>0</td>\n",
       "    </tr>\n",
       "    <tr>\n",
       "      <th>2</th>\n",
       "      <td>1</td>\n",
       "      <td>18</td>\n",
       "      <td>157.774510</td>\n",
       "      <td>442.816748</td>\n",
       "      <td>105.160692</td>\n",
       "      <td>42.135127</td>\n",
       "      <td>0</td>\n",
       "      <td>0</td>\n",
       "      <td>0</td>\n",
       "      <td>0</td>\n",
       "      <td>0</td>\n",
       "      <td>0</td>\n",
       "      <td>0</td>\n",
       "      <td>1</td>\n",
       "      <td>0</td>\n",
       "      <td>0</td>\n",
       "      <td>0</td>\n",
       "      <td>1</td>\n",
       "      <td>0</td>\n",
       "      <td>0</td>\n",
       "    </tr>\n",
       "    <tr>\n",
       "      <th>3</th>\n",
       "      <td>1</td>\n",
       "      <td>18</td>\n",
       "      <td>157.774510</td>\n",
       "      <td>442.816748</td>\n",
       "      <td>105.160692</td>\n",
       "      <td>42.135127</td>\n",
       "      <td>0</td>\n",
       "      <td>0</td>\n",
       "      <td>0</td>\n",
       "      <td>0</td>\n",
       "      <td>0</td>\n",
       "      <td>1</td>\n",
       "      <td>0</td>\n",
       "      <td>0</td>\n",
       "      <td>0</td>\n",
       "      <td>0</td>\n",
       "      <td>0</td>\n",
       "      <td>1</td>\n",
       "      <td>0</td>\n",
       "      <td>0</td>\n",
       "    </tr>\n",
       "    <tr>\n",
       "      <th>4</th>\n",
       "      <td>1</td>\n",
       "      <td>18</td>\n",
       "      <td>198.120032</td>\n",
       "      <td>438.210053</td>\n",
       "      <td>89.040265</td>\n",
       "      <td>41.887215</td>\n",
       "      <td>0</td>\n",
       "      <td>0</td>\n",
       "      <td>0</td>\n",
       "      <td>0</td>\n",
       "      <td>0</td>\n",
       "      <td>0</td>\n",
       "      <td>0</td>\n",
       "      <td>0</td>\n",
       "      <td>1</td>\n",
       "      <td>0</td>\n",
       "      <td>0</td>\n",
       "      <td>1</td>\n",
       "      <td>0</td>\n",
       "      <td>0</td>\n",
       "    </tr>\n",
       "    <tr>\n",
       "      <th>...</th>\n",
       "      <td>...</td>\n",
       "      <td>...</td>\n",
       "      <td>...</td>\n",
       "      <td>...</td>\n",
       "      <td>...</td>\n",
       "      <td>...</td>\n",
       "      <td>...</td>\n",
       "      <td>...</td>\n",
       "      <td>...</td>\n",
       "      <td>...</td>\n",
       "      <td>...</td>\n",
       "      <td>...</td>\n",
       "      <td>...</td>\n",
       "      <td>...</td>\n",
       "      <td>...</td>\n",
       "      <td>...</td>\n",
       "      <td>...</td>\n",
       "      <td>...</td>\n",
       "      <td>...</td>\n",
       "      <td>...</td>\n",
       "    </tr>\n",
       "    <tr>\n",
       "      <th>4281</th>\n",
       "      <td>93</td>\n",
       "      <td>17</td>\n",
       "      <td>173.086652</td>\n",
       "      <td>420.357122</td>\n",
       "      <td>115.940914</td>\n",
       "      <td>46.749376</td>\n",
       "      <td>0</td>\n",
       "      <td>0</td>\n",
       "      <td>0</td>\n",
       "      <td>0</td>\n",
       "      <td>0</td>\n",
       "      <td>0</td>\n",
       "      <td>0</td>\n",
       "      <td>0</td>\n",
       "      <td>0</td>\n",
       "      <td>0</td>\n",
       "      <td>0</td>\n",
       "      <td>0</td>\n",
       "      <td>0</td>\n",
       "      <td>1</td>\n",
       "    </tr>\n",
       "    <tr>\n",
       "      <th>4282</th>\n",
       "      <td>56</td>\n",
       "      <td>16</td>\n",
       "      <td>146.055292</td>\n",
       "      <td>366.678683</td>\n",
       "      <td>95.183483</td>\n",
       "      <td>44.141858</td>\n",
       "      <td>0</td>\n",
       "      <td>0</td>\n",
       "      <td>0</td>\n",
       "      <td>0</td>\n",
       "      <td>0</td>\n",
       "      <td>0</td>\n",
       "      <td>1</td>\n",
       "      <td>0</td>\n",
       "      <td>0</td>\n",
       "      <td>0</td>\n",
       "      <td>0</td>\n",
       "      <td>0</td>\n",
       "      <td>0</td>\n",
       "      <td>1</td>\n",
       "    </tr>\n",
       "    <tr>\n",
       "      <th>4283</th>\n",
       "      <td>50</td>\n",
       "      <td>18</td>\n",
       "      <td>186.339899</td>\n",
       "      <td>442.686800</td>\n",
       "      <td>97.951232</td>\n",
       "      <td>51.316136</td>\n",
       "      <td>0</td>\n",
       "      <td>0</td>\n",
       "      <td>0</td>\n",
       "      <td>0</td>\n",
       "      <td>0</td>\n",
       "      <td>0</td>\n",
       "      <td>0</td>\n",
       "      <td>0</td>\n",
       "      <td>1</td>\n",
       "      <td>0</td>\n",
       "      <td>0</td>\n",
       "      <td>0</td>\n",
       "      <td>0</td>\n",
       "      <td>1</td>\n",
       "    </tr>\n",
       "    <tr>\n",
       "      <th>4284</th>\n",
       "      <td>97</td>\n",
       "      <td>11</td>\n",
       "      <td>183.812900</td>\n",
       "      <td>375.312529</td>\n",
       "      <td>122.492666</td>\n",
       "      <td>42.071005</td>\n",
       "      <td>0</td>\n",
       "      <td>0</td>\n",
       "      <td>0</td>\n",
       "      <td>0</td>\n",
       "      <td>0</td>\n",
       "      <td>0</td>\n",
       "      <td>0</td>\n",
       "      <td>0</td>\n",
       "      <td>0</td>\n",
       "      <td>0</td>\n",
       "      <td>0</td>\n",
       "      <td>0</td>\n",
       "      <td>0</td>\n",
       "      <td>1</td>\n",
       "    </tr>\n",
       "    <tr>\n",
       "      <th>4285</th>\n",
       "      <td>42</td>\n",
       "      <td>14</td>\n",
       "      <td>132.905258</td>\n",
       "      <td>389.525062</td>\n",
       "      <td>100.151199</td>\n",
       "      <td>40.621617</td>\n",
       "      <td>0</td>\n",
       "      <td>0</td>\n",
       "      <td>0</td>\n",
       "      <td>0</td>\n",
       "      <td>0</td>\n",
       "      <td>0</td>\n",
       "      <td>1</td>\n",
       "      <td>0</td>\n",
       "      <td>0</td>\n",
       "      <td>0</td>\n",
       "      <td>0</td>\n",
       "      <td>0</td>\n",
       "      <td>0</td>\n",
       "      <td>1</td>\n",
       "    </tr>\n",
       "  </tbody>\n",
       "</table>\n",
       "<p>4286 rows × 20 columns</p>\n",
       "</div>"
      ],
      "text/plain": [
       "      machineID  age        volt      rotate    pressure  vibration  Error1  \\\n",
       "0             1   18  179.303153  499.777962  111.833028  52.383097       0   \n",
       "1             1   18  179.303153  499.777962  111.833028  52.383097       0   \n",
       "2             1   18  157.774510  442.816748  105.160692  42.135127       0   \n",
       "3             1   18  157.774510  442.816748  105.160692  42.135127       0   \n",
       "4             1   18  198.120032  438.210053   89.040265  41.887215       0   \n",
       "...         ...  ...         ...         ...         ...        ...     ...   \n",
       "4281         93   17  173.086652  420.357122  115.940914  46.749376       0   \n",
       "4282         56   16  146.055292  366.678683   95.183483  44.141858       0   \n",
       "4283         50   18  186.339899  442.686800   97.951232  51.316136       0   \n",
       "4284         97   11  183.812900  375.312529  122.492666  42.071005       0   \n",
       "4285         42   14  132.905258  389.525062  100.151199  40.621617       0   \n",
       "\n",
       "      Error2  Error3  Error4  Error5  comp_1  comp_2  comp_3  comp_4  model_1  \\\n",
       "0          0       0       0       0       0       0       0       1        0   \n",
       "1          0       0       0       0       1       0       0       0        0   \n",
       "2          0       0       0       0       0       0       1       0        0   \n",
       "3          0       0       0       0       1       0       0       0        0   \n",
       "4          0       0       0       0       0       0       0       1        0   \n",
       "...      ...     ...     ...     ...     ...     ...     ...     ...      ...   \n",
       "4281       0       0       0       0       0       0       0       0        0   \n",
       "4282       0       0       0       0       0       1       0       0        0   \n",
       "4283       0       0       0       0       0       0       0       1        0   \n",
       "4284       0       0       0       0       0       0       0       0        0   \n",
       "4285       0       0       0       0       0       1       0       0        0   \n",
       "\n",
       "      model_2  model_3  model_4  failure  \n",
       "0           0        1        0        1  \n",
       "1           0        1        0        0  \n",
       "2           0        1        0        0  \n",
       "3           0        1        0        0  \n",
       "4           0        1        0        0  \n",
       "...       ...      ...      ...      ...  \n",
       "4281        0        0        0        1  \n",
       "4282        0        0        0        1  \n",
       "4283        0        0        0        1  \n",
       "4284        0        0        0        1  \n",
       "4285        0        0        0        1  \n",
       "\n",
       "[4286 rows x 20 columns]"
      ]
     },
     "execution_count": 66,
     "metadata": {},
     "output_type": "execute_result"
    }
   ],
   "source": [
    "##Het over sampelen van de data\n",
    "smote=SMOTE(random_state=101)\n",
    "##Het definiëren van X en y waarden die oversampled dienen te worden. X betreffen alle kolommen behalve failure, y betreft de failure kolom.\n",
    "XtoOver, ytoOver = smote.fit_resample(dfSmall_encoded[['machineID', 'age', 'volt', 'rotate', 'pressure', 'vibration',\n",
    "                                           'Error1', 'Error2', 'Error3', 'Error4', 'Error5',\n",
    "                                           'comp_1', 'comp_2', 'comp_3', 'comp_4',\n",
    "                                           'model_1', 'model_2', 'model_3', 'model_4'\n",
    "                                           ]],\n",
    "                          dfSmall_encoded['failure'])\n",
    "\n",
    "##Aanmaken nieuw dataframe waarbij failures zijn oversampled op basis van SMOTE. Hierbij worden datetime en timestamp weggelaten aangezien deze datatypen niet worden geaccepteerd door SMOTE\n",
    "dfSmall_oversampled = pd.DataFrame(XtoOver, columns=['machineID', 'age', 'volt', 'rotate', 'pressure', 'vibration',\n",
    "                                           'Error1', 'Error2', 'Error3', 'Error4', 'Error5',\n",
    "                                           'comp_1', 'comp_2', 'comp_3', 'comp_4',\n",
    "                                           'model_1', 'model_2', 'model_3', 'model_4'\n",
    "                                           ])\n",
    "dfSmall_oversampled['failure'] = ytoOver\n",
    "dfSmall_oversampled"
   ]
  },
  {
   "cell_type": "markdown",
   "metadata": {},
   "source": [
    "**Stap 3: Het valideren van het nieuwe dataframe**<br>\n",
    "Nu het dataframe is opgeschaald kan deze vergeleken worden met de voorgaande evaluatie waar df_example werd aangemaakt. Door op dezelfde wijze de data in kaart te brengen wordt nu inzichtelijk gemaakt dat het aantal failures is opgeschaald naar hetzelfde aantal non-failures dat er bestond. Zo onstaan er een totaal van 2143 failures en 2143 non-failures in het nieuwe dataframe. Onderstaande codeblok toont verschillende regels code die afzonderlijk van elkaar uitgevoerd kunnen worden om te valideren dat het nieuwe dataframe df_oversampled beschikt over evenveel failures als non-failures. "
   ]
  },
  {
   "cell_type": "code",
   "execution_count": 67,
   "metadata": {},
   "outputs": [
    {
     "name": "stderr",
     "output_type": "stream",
     "text": [
      "D:\\01_Sander\\03_Programmas\\Serious shit\\Anaconda\\lib\\site-packages\\seaborn\\_decorators.py:43: FutureWarning: Pass the following variable as a keyword arg: x. From version 0.12, the only valid positional argument will be `data`, and passing other arguments without an explicit keyword will result in an error or misinterpretation.\n",
      "  FutureWarning\n"
     ]
    },
    {
     "data": {
      "text/plain": [
       "1    2143\n",
       "0    2143\n",
       "Name: failure, dtype: int64"
      ]
     },
     "execution_count": 67,
     "metadata": {},
     "output_type": "execute_result"
    },
    {
     "data": {
      "image/png": "[encoded data removed]",
      "text/plain": [
       "<Figure size 432x288 with 1 Axes>"
      ]
     },
     "metadata": {
      "needs_background": "light"
     },
     "output_type": "display_data"
    }
   ],
   "source": [
    "##Barchart om de verdeling van failures & non-failures in kaart te brengen, comment onderstaande regel code wanneer de scatterplot wordt gebruikt\n",
    "sb.countplot(dfSmall_oversampled['failure'])\n",
    "\n",
    "##Scatterplot om de verdeling van failures & non-failures in kaart te brengen, comment onderstaande regel code wanneer de barchart wordt gebruikt\n",
    "# sb.scatterplot(data = dfSmall_oversampled, x='pressure', y='age', hue='failure')\n",
    "\n",
    "##Het tellen van de unieke waardes voor failures en non-failures in het dataframe waarbij 0: non-failure, 1: failure\n",
    "dfSmall_oversampled['failure'].value_counts()"
   ]
  },
  {
   "cell_type": "markdown",
   "metadata": {},
   "source": [
    "#### 3.1.8.5 Op voorhand splitsen algemene testset<a class=\"anchor\" id=\"Chapter3.1.8.5\"></a><br>\n",
    "Om aan het einde van de rit een valide evaluatie te kunnen maken omtrent het beste model is het van belang dat er een dataset wordt geselecteerd die als testset kan dienen wanneer modellen getraind zijn. Dit betreft een statische dataset dat niet middels train_test_split wordt ontwikkelt. Deze dataset worden de eerste 500 rijen van het dataframe dfSmall_oversampled en zal pas gebruikt worden bij het maken van voorspellingen door de getrainde modellen.\n",
    "\n",
    "Om dit concept tot goede orde te voltooien worden de eerste 500 rijen van de dfSmall_oversampled dataframe in een nieuwe variabele opgeslagen. Dit wordt het nieuwe dataframe dfSmall_oversampled_test. Vervolgens dient er een if statement gemaakt te worden die controleert of de lengte van de dfSmall_oversampled nog 4286 is. Wanneer dit het geval is, is het van belang de eerste 500 rijen van dit dataframe te verwijderen aangezien deze 500 rijen (die zijn geselecteerd als statische testset) niet meegenomen mogen worden bij het trainen van modellen. Wanneer dit wel zou gebeuren spreekt men van overfitting en wordt het model op een deel van deze 500 rijen alsnog getraind, terwijl het van belang is dat dit als \"nieuwe data\" gezien wordt wanneer het model geëvalueerd wordt. "
   ]
  },
  {
   "cell_type": "code",
   "execution_count": 68,
   "metadata": {},
   "outputs": [],
   "source": [
    "##Aanmaken nieuwe dataframe op basis van dfSmall_oversampled\n",
    "dfSmall_oversampled_test = dfSmall_oversampled[0:500]\n",
    "\n",
    "##Verwijderen eerste 500 rijen van dfSmall_oversampled om te voorkomen dat modellen deze rijen meenemen tijdens het trainen\n",
    "if len(dfSmall_oversampled) == 4286:\n",
    "    dfSmall_oversampled.drop(dfSmall_oversampled.index[:500], inplace=True, axis=0)"
   ]
  },
  {
   "cell_type": "markdown",
   "metadata": {},
   "source": [
    "### 3.1.9. Overzicht dataframes<a class=\"anchor\" id=\"Chapter3.1.9.\"></a><br>\n",
    "Op dit punt zijn veel handelingen uitgevoerd omtrent de oorspronkelijke data. Om deze reden is onderstaand overzicht gecreëerd om inzicht te krijgen in de uiteindelijke dataframes die zijn ontwikkeld en welke handelingen hierop zijn uitgevoerd. Deze datasets zullen gebruikt worden bij het trainen van de modellen. \n",
    "\n",
    "|Dataframe|Omschrijving|Eigenschappen|\n",
    "|---|---|---|\n",
    "|df|Oorspronkelijk grote dataframe geabseerd op joins om maximaal aantal rijen te behouden|- Samengevoegde bronbestanden|\n",
    "|**df_encoded**|Oorspronkelijk grote dataframe waarbij kolommen zijn ondervonden aan one-hot-encoding|- Samengevoegde bronbestanden<br> - Kolommen model, error en comp one-hot-encoded. Kan mogelijk gebruikt worden voor het trainen van modellen.|\n",
    "|dfSmall|Kleine dataframe gefocust op failures waardoor null-values niet meer in de dataframe voorkomen|- Samengevoegde bronbestanden gefocust op failures. Dient niet gebruikt te worden voor het trainen van modellen.|\n",
    "|**dfSmall_encoded**|Kleine dataframe gefocust op failures waardoor null-values niet meer in de dataframe voorkomen|- Samengevoegde bronbestanden gefocust op failures<br> - Kolommen model, error en comp one-hot-encoded. Kan gebruikt worden voor het trainen van modellen, echter dient hierbij gelet te worden op het feit dat het aantal failures niet genivelleerd is.|\n",
    "|**dfSmall_encoded_leveled_failures**|Kleine dataframe gefocust op failures waardoor null-values niet meer in de dataframe voorkomen|- Samengevoegde bronbestanden gefocust op failures<br> - Kolommen model, error en comp one-hot-encoded.<br>- Aantal failures genivelleerd middels down sampling. Deze dataset wordt sterk aangeraden om te gebruiken voor het trainen van modellen in combinatie met de dataframe dfSmall_encoded.|\n",
    "|**dfSmall_oversampled**|Kleine dataframe ontwikkelt als tegenhanger van dfsmall_encoded_leveled_failures waarbij de aantal failures zijn opgeschaald richting hetzelfde aantal non-failures. Het dataframe kent een totaal van 4286 rijen waarbij een even groot aantal failures als non-failures voorkomt.|- Samengevoegde bronbestanden gefocust op failures<br> - Kolommen model, error en comp one-hot-encoded. <br> - Failures opgeschaald naar hetzelfde aantal failures op basis van het SMOTE principe. |\n",
    "|**dfSmall_oversampled_test**|Dataframe dat op voorhand wordt gemaakt om uiteindelijk een valide evaluatie te maken tussen modellen die getraind worden. Dit dataframe kent een totaal van 500 statische rijen dat als testset gebruikt wordt wanneer de modellen getraind zijn.| - Eerste 500 rijen van dfSmall_oversampled geselecteerd.|"
   ]
  },
  {
   "cell_type": "markdown",
   "metadata": {},
   "source": [
    "## 3.2. Data Cleaning <a class=\"anchor\" id=\"Chapter3.2\"></a><br>\n",
    "\n",
    "Deze paragraaf gaat in op het afhandelen van fouten (ook wel artifacts en errors genoemd). Hierbij zijn errors fouten die niet teruggedraaid kunnen worden en artifacts \"bugs\" die zijn opgetreden gedurende preprocessing/cleaning processen. Dit betekent dat de paragraaf alleen in gaat op de fouten die zijn voortgekomen uit het voorgaande proces, ook wel de artifacten. De [eerste stap](#Chapter3.2.1) hierbij is het controleren en goed zetten van de datatypes waar nodig voor de datasets die gebruikt zullen worden bij het trainen van de modellen.  "
   ]
  },
  {
   "cell_type": "markdown",
   "metadata": {},
   "source": [
    "### 3.2.1. Corrigeren datatypes <a class=\"anchor\" id=\"Chapter3.2.1\"></a><br>\n",
    "Gedurende het samenvoegen en bewerken van de oorspronkelijke datasets is het mogelijk dat datatypes van de kolommen hierbij verkeerd is komen te staan. Een voorbeeld hiervan dat een ```pd.concat``` functie er mogelijk voor dat integers omgezet worden naar floats. Ter referentie van een overzicht van de datatypes werd [deze website](https://pbpython.com/pandas_dtypes.html) gebruikt. Het corrigeren van de datatypes zorgt ervoor dat toekomstige modellen de waardes kunnen gebruiken om er berekeningen mee te doen.  "
   ]
  },
  {
   "cell_type": "markdown",
   "metadata": {},
   "source": [
    "**Stap 1: Achterhalen datatypes**<br>\n",
    "Om te achterhalen welke datatypes de kolommen hebben wordt eerst de regel code ```<dataframe>.dtypes``` uitgevoerd wat inzicht geeft in de datatypes. Onderstaande codeblokken voeren deze code uit voor de dataframes *df_encoded*, *dfSmall_encoded* en *dfSmall_encoded_leveled_failures*. Een overzicht van de datatypes van iedere kolom (feature) is terug te vinden onder de laatste regel code. "
   ]
  },
  {
   "cell_type": "code",
   "execution_count": 69,
   "metadata": {},
   "outputs": [
    {
     "data": {
      "text/plain": [
       "date          object\n",
       "timestamp     object\n",
       "machineID      int64\n",
       "failure      float64\n",
       "age            int64\n",
       "volt         float64\n",
       "rotate       float64\n",
       "pressure     float64\n",
       "vibration    float64\n",
       "Error1         int32\n",
       "Error2         int32\n",
       "Error3         int32\n",
       "Error4         int32\n",
       "Error5         int32\n",
       "comp_1         uint8\n",
       "comp_2         uint8\n",
       "comp_3         uint8\n",
       "comp_4         uint8\n",
       "model_1        uint8\n",
       "model_2        uint8\n",
       "model_3        uint8\n",
       "model_4        uint8\n",
       "dtype: object"
      ]
     },
     "execution_count": 69,
     "metadata": {},
     "output_type": "execute_result"
    }
   ],
   "source": [
    "##Printen van datatypes voor het dataframe df_encoded\n",
    "df_encoded.dtypes"
   ]
  },
  {
   "cell_type": "code",
   "execution_count": 70,
   "metadata": {},
   "outputs": [
    {
     "data": {
      "text/plain": [
       "date          object\n",
       "timestamp     object\n",
       "machineID      int64\n",
       "failure        int32\n",
       "age            int64\n",
       "volt         float64\n",
       "rotate       float64\n",
       "pressure     float64\n",
       "vibration    float64\n",
       "Error1         int32\n",
       "Error2         int32\n",
       "Error3         int32\n",
       "Error4         int32\n",
       "Error5         int32\n",
       "comp_1         uint8\n",
       "comp_2         uint8\n",
       "comp_3         uint8\n",
       "comp_4         uint8\n",
       "model_1        uint8\n",
       "model_2        uint8\n",
       "model_3        uint8\n",
       "model_4        uint8\n",
       "dtype: object"
      ]
     },
     "execution_count": 70,
     "metadata": {},
     "output_type": "execute_result"
    }
   ],
   "source": [
    "##Printen van datatypes voor het dataframe dfSmall_encoded\n",
    "dfSmall_encoded.dtypes"
   ]
  },
  {
   "cell_type": "code",
   "execution_count": 71,
   "metadata": {},
   "outputs": [
    {
     "data": {
      "text/plain": [
       "date          object\n",
       "timestamp     object\n",
       "machineID      int64\n",
       "failure        int32\n",
       "age            int64\n",
       "volt         float64\n",
       "rotate       float64\n",
       "pressure     float64\n",
       "vibration    float64\n",
       "Error1         int32\n",
       "Error2         int32\n",
       "Error3         int32\n",
       "Error4         int32\n",
       "Error5         int32\n",
       "comp_1         uint8\n",
       "comp_2         uint8\n",
       "comp_3         uint8\n",
       "comp_4         uint8\n",
       "model_1        uint8\n",
       "model_2        uint8\n",
       "model_3        uint8\n",
       "model_4        uint8\n",
       "dtype: object"
      ]
     },
     "execution_count": 71,
     "metadata": {},
     "output_type": "execute_result"
    }
   ],
   "source": [
    "##Printen van datatypes voor het dataframe dfSmall_encoded_leveled_failures\n",
    "dfSmall_encoded_leveled_failures.dtypes"
   ]
  },
  {
   "cell_type": "markdown",
   "metadata": {},
   "source": [
    "Onderstaande tabel toont een overzicht van de datatypes voor iedere kolom per dataframe samen met de beoogde datatypes. Aan de hand van dit overzicht zullen de datatypes correct worden gewijzigd. Alle *schuingedrukte* datatypes zijn verkeerd ten opzichte van het beoogde datatype. Dit zijn dus de foute datatypes die in de volgende stap gecorrigeerd worden.  \n",
    "\n",
    "|Kolom|Beoogd datatype|Huidig dataType in df_encoded|Huidig dataType in dfSmall_encoded|Huidig dataType in dfSmall_encoded_leveled_failures|\n",
    "|---|---|---|---|---|\n",
    "|date|object (string)|object (string)|object (string)|object (string)|\n",
    "|timestamp|object (string)|object (string)|object (string)|object (string)|\n",
    "|machineID|int64|int64|int64|int64|\n",
    "|failure|bool|*float64*|*int32*|*int32*|\n",
    "|age|int64|int64|int64|int64|\n",
    "|volt|float64|float64|float64|float64|\n",
    "|rotate|float64|float64|float64|float64|\n",
    "|pressure|float64|float64|float64|float64|\n",
    "|vibration|float64|float64|float64|float64|\n",
    "|Error1|bool|*int32*|*int32*|*int32*|\n",
    "|Error2|bool|*int32*|*int32*|*int32*|\n",
    "|Error3|bool|*int32*|*int32*|*int32*|\n",
    "|Error4|bool|*int32*|*int32*|*int32*|\n",
    "|Error5|bool|*int32*|*int32*|*int32*|\n",
    "|comp_1|bool|*uint8*|*uint8*|*uint8*|\n",
    "|comp_2|bool|*uint8*|*uint8*|*uint8*|\n",
    "|comp_3|bool|*uint8*|*uint8*|*uint8*|\n",
    "|comp_4|bool|*uint8*|*uint8*|*uint8*|\n",
    "|model_1|bool|*uint8*|*uint8*|*uint8*|\n",
    "|model_2|bool|*uint8*|*uint8*|*uint8*|\n",
    "|model_3|bool|*uint8*|*uint8*|*uint8*|\n",
    "|model_4|bool|*uint8*|*uint8*|*uint8*|"
   ]
  },
  {
   "cell_type": "markdown",
   "metadata": {},
   "source": [
    "**Stap 2: Corrigeren datatypes**<br>\n",
    "Nu bekend is welke datatypes verkeerd zijn ten opzichte van de beoogde, worden deze in onderstaande 3 blokken code aangepast waarbij het eerste blok in gaat op df_ecoded, het tweede op dfSmall_encoded en het derde op dfSmall_encoded_leveled_failures. Wanneer de onderstaande 3 codeblokken zijn uitgevoerd staan de datatypes van de kolommen correct zoals gewenst en kan er verder mee gewerkt worden. "
   ]
  },
  {
   "cell_type": "code",
   "execution_count": 72,
   "metadata": {},
   "outputs": [],
   "source": [
    "##---------Corrigeren datatypes df_encoded------------------\n",
    "##Omzetten datatypes voor kolommen failure, Error1 t/m Error5, comp_1 t/m comp_4 en model_1 t/m model_4\n",
    "\n",
    "#Omzetten datatype failure kolom\n",
    "df_encoded['failure'] = df_encoded['failure'].astype('bool')\n",
    "\n",
    "#Omzetten datatypes error kolommen\n",
    "df_encoded[[f'Error{n}' for n in range (1,6)]] = df_encoded[[f'Error{n}' for n in range (1,6)]].astype('bool')\n",
    "\n",
    "#Omzetten datatypes comp_ kolommen\n",
    "df_encoded[[f'comp_{n}' for n in range (1,5)]] = df_encoded[[f'comp_{n}' for n in range (1,5)]].astype('bool')\n",
    "\n",
    "#Omzetten datatypes model_ kolommen\n",
    "df_encoded[[f'model_{n}' for n in range (1,5)]] = df_encoded[[f'model_{n}' for n in range (1,5)]].astype('bool')\n",
    "\n",
    "##Optionele check voor datatypes, uncomment voor gebruik\n",
    "#df_encoded.dtypes"
   ]
  },
  {
   "cell_type": "code",
   "execution_count": 73,
   "metadata": {},
   "outputs": [],
   "source": [
    "##---------Corrigeren datatypes dfSmall_encoded------------------\n",
    "##Omzetten datatypes voor kolommen failure, Error1 t/m Error5, comp_1 t/m comp_4 en model_1 t/m model_4\n",
    "\n",
    "##Omzetten datatype failure kolom\n",
    "dfSmall_encoded['failure'] = dfSmall_encoded['failure'].astype('bool')\n",
    "\n",
    "##Omzetten datatypes error kolommen\n",
    "dfSmall_encoded[[f'Error{n}' for n in range (1,6)]] = dfSmall_encoded[[f'Error{n}' for n in range (1,6)]].astype('bool')\n",
    "\n",
    "##Omzetten datatypes comp_ kolommen\n",
    "dfSmall_encoded[[f'comp_{n}' for n in range (1,5)]] = dfSmall_encoded[[f'comp_{n}' for n in range (1,5)]].astype('bool')\n",
    "\n",
    "##Omzetten datatypes model_ kolommen\n",
    "dfSmall_encoded[[f'model_{n}' for n in range (1,5)]] = dfSmall_encoded[[f'model_{n}' for n in range (1,5)]].astype('bool')\n",
    "\n",
    "##Optionele check voor datatypes, uncomment voor gebruik\n",
    "#dfSmall_encoded.dtypes"
   ]
  },
  {
   "cell_type": "code",
   "execution_count": 74,
   "metadata": {},
   "outputs": [],
   "source": [
    "##---------Corrigeren datatypes dfSmall_encoded_leveled_failures------------------\n",
    "##Omzetten datatypes voor kolommen failure, Error1 t/m Error5, comp_1 t/m comp_4 en model_1 t/m model_4\n",
    "\n",
    "##Omzetten datatype failure kolom\n",
    "dfSmall_encoded_leveled_failures['failure'] = dfSmall_encoded_leveled_failures['failure'].astype('bool')\n",
    "\n",
    "##Omzetten datatypes error kolommen\n",
    "dfSmall_encoded_leveled_failures[[f'Error{n}' for n in range (1,6)]] = dfSmall_encoded_leveled_failures[[f'Error{n}' for n in range (1,6)]].astype('bool')\n",
    "\n",
    "##Omzetten datatypes comp_ kolommen\n",
    "dfSmall_encoded_leveled_failures[[f'comp_{n}' for n in range (1,5)]] = dfSmall_encoded_leveled_failures[[f'comp_{n}' for n in range (1,5)]].astype('bool')\n",
    "\n",
    "##Omzetten datatypes model_ kolommen\n",
    "dfSmall_encoded_leveled_failures[[f'model_{n}' for n in range (1,5)]] = dfSmall_encoded_leveled_failures[[f'model_{n}' for n in range (1,5)]].astype('bool')\n",
    "\n",
    "## Optionele check voor datatypes, uncomment voor gebruik\n",
    "#dfSmall_encoded_leveled_failures.dtypes"
   ]
  },
  {
   "cell_type": "markdown",
   "metadata": {},
   "source": [
    "# 4. Data Exploration <a class=\"anchor\" id=\"Chapter4\"></a><br>\n",
    "In dit hoofdstuk worden verschillende verwachtingen vanuit het perspectief van de dataset geformuleerd. Deze verwachtingen zijn gebaseerd op de kennis over de data die in voorgaande hoofdstukken is opgedaan. Deze verwachtingen worden in een later stadium bevestigd of ontkracht middels de realisatie van machine learning modellen. Wanneer men verwachtingen opstelt vanuiit de data, spreekt men over een *hypothesis driven* approach voor het ontwikkelen van een data science project. Allereerst worden in dit hoofdstuk de verwachtingen opgesteld waarna vervolgens een correlatie heatmap wordt ontwikkelt om de relaties tussen de verwachtingen (variabelen) in kaart te brengen. Vervolgens wordt een selectie gemaakt van features en de target (wat er voorspelt dient te worden). Tot slot worden deze variabelen in kaart gebracht middels nuttige visualisaties. Dit allen wordt waar nodig onderbouwt met literatuur."
   ]
  },
  {
   "cell_type": "markdown",
   "metadata": {},
   "source": [
    "## 4.1. Verwachtingen <a class=\"anchor\" id=\"Chapter4.1\"></a><br>\n",
    "In deze paragraaf worden de verwachtingen vanuit de data opgesteld. Eerder is in [paragraaf 1.5](#Chapter1.5) de verwachting genoemd dat de operationele prestaties van de machines invloed hebben op de failures die bij de machines ontstaan. Deze verwachting wordt onderstaande uitgesplitst in meerdere sub-verwachtingen. \n",
    "\n",
    "**Sub-verwachtingen:**<br>\n",
    "1. Het voltage van de machines heeft invloed op het optreden van failures.\n",
    "2. De rotatie van/in de machines heeft invloed op het optreden van failures.\n",
    "3. De druk van/binnen de machines heeft invloed op het optreden van failures.\n",
    "4. De vibratie van de machines heeft invloed op het optreden van failures.\n",
    "\n",
    "Ook is in [paragraaf 1.5](#Chapter1.5) de verwachting genoemd dat de leeftijd van de machine invloed heeft op de failures van de machines. Deze verwachtingen worden in de volgende paragrafen gevisualiseerd waarbij eerst wordt gekeken naar de hoogste correlaties tussen de variabelen."
   ]
  },
  {
   "cell_type": "markdown",
   "metadata": {},
   "source": [
    "## 4.2. Correlatie heatmap <a class=\"anchor\" id=\"Chapyer4.2\"></a><br>\n",
    "Om het verband tussen de onafhankelijke variabelen (features) zoals bijvoorbeeld voltage en de afhankelijke variabele (target) \"failure\" in kaart te brengen wordt er een correlatie heatmap gerealiseerd. In de correlatie heatmap kan worden afgelezen of er een negatieve, positieve of geen correlatie (verband) aanwezig is tussen een onafhankelijke en afhankelijke variabele. Middels het identificeren van correlaties wordt bekend of de onafhankelijke variabele invloed heeft op de afhankelijke variabele en kunnen de eerder beschreven verwachtingen onderbouwd worden.\n",
    "\n",
    "Voor elke verwachting, beschreven in de voorgaande paragraaf, wordt de correlatie tussen de onafhankelijke en afhankelijke variabele inclusief de betekenis beschreven in onderstaande tabel. In de tabel wordt ook aangegeven hoe sterk of zwak een correlatie is. De identificatie hiervan is gebaseerd op een tabel uit de bron [Correlatie](https://www.scribbr.nl/statistiek/correlatie/).\n",
    "\n",
    "| Verwachting | Correlatie | Betekenis Correlatie |\n",
    "|---|---|---|\n",
    "| Voltage heeft invloed op failure | 0.11 | Het betreft hier een zeer lage positieve correlatie. Wanneer het voltage van een machine toeneemt zal ook de kans op een failure toenemen. |\n",
    "| Rotation heeft invloed op failure | - 0.19 | Het betreft hier een zeer lage negatieve correlatie. Wanneer de rotatie van/in een machine toeneemt zal de kans op een failure afnemen. |\n",
    "| Pressure heeft invloed op failure | 0.15 | Het betreft hier een zeer lage positieve correlatie. Wanneer de druk (pressure) van/binnen een machine toeneemt zal ook de kans op een failure toenemen. |\n",
    "| Vibration heeft invloed op failure | 0.20 | Het betreft hier een zeer lage positieve correlatie. Wanneer de vibratie van een machine toeneemt zal ook de kans op een failure toenemen. |\n",
    "| Age heeft invloed op failure | 0.13 | Het betreft een zeer lage positieve correlatie. Wanneer de leeftijd (age) van een machine toeneemt zal ook de kans op een failure toenemen |\n",
    "\n",
    "Op basis van de correlatie heatmap kan geconcludeerd worden dat voor iedere verwachting de onafhankelijke variabele (feature) een lichte invloed heeft op de afhankelijke variabele (target) \"failure\"."
   ]
  },
  {
   "cell_type": "code",
   "execution_count": 75,
   "metadata": {},
   "outputs": [
    {
     "data": {
      "text/plain": [
       "<AxesSubplot:>"
      ]
     },
     "execution_count": 75,
     "metadata": {},
     "output_type": "execute_result"
    },
    {
     "data": {
      "image/png": "[encoded data removed]",
      "text/plain": [
       "<Figure size 1080x576 with 2 Axes>"
      ]
     },
     "metadata": {
      "needs_background": "light"
     },
     "output_type": "display_data"
    }
   ],
   "source": [
    "plt.figure(figsize=[15,8])\n",
    "sb.heatmap(df.corr(),annot=True)"
   ]
  },
  {
   "cell_type": "markdown",
   "metadata": {},
   "source": [
    "## 4.3. Visuele inzichten <a class=\"anchor\" id=\"Chapyer4.3\"></a><br>\n",
    "Om meer inzicht te krijgen in de features (onafhankelijke variabelen) en target (afhankelijke variabele) gaat deze paragraaf dieper in op het visualiseren en inzichtelijk maken van de datapunten. Voor iedere onafhankelijke variabele worden een aantal overzichtelijke en nuttige visualisaties ontwikkelt die helpen bij het begrijpen van de data. Wanneer deze visualisaties goed zijn opgezet, helpt dit bij het begrijpen van de data wat bevorderlijk is voor het toekomstige ontwikkelen van de modellen. \n",
    "\n",
    "Om te beginnen worden eerst de failures in het algemeen in kaart gebracht. Hierbij worden zinvolle visualisaties ontwikkelt die gebruik kunnen maken van features die niet in de hypothesen voorkomen (maar mogelijk wel gebruikt kunnen worden om te filteren). Deze eerste algemene visualisaties van de failures geven richting aan de visualisaties die daarop volgen. Alle opvallende zaken uit [paragraaf 4.3.1](#Chapter4.3.1) worden namelijk mee genomen om in de daarop volgende paragrafen hier dieper op in te gaan."
   ]
  },
  {
   "cell_type": "markdown",
   "metadata": {},
   "source": [
    "### 4.3.1. Visuele inzichten failures <a class=\"anchor\" id=\"Chapter4.3.1\"></a><br>\n",
    "De eerste inzichten worden zoals vermeld gemaakt vanuit het opzicht van de failures. Zo wordt er gekeken naar: \n",
    "\n",
    "- Hoeveelheid failures per machine\n",
    "- Toename van failures over leeftijd van de machine\n",
    "- Hoeveelheid failures per leeftijd (age) van de machine\n",
    "- Hoeveelheid failures per component"
   ]
  },
  {
   "cell_type": "code",
   "execution_count": 76,
   "metadata": {},
   "outputs": [
    {
     "data": {
      "image/png": "[encoded data removed]",
      "text/plain": [
       "<Figure size 1800x936 with 2 Axes>"
      ]
     },
     "metadata": {
      "needs_background": "light"
     },
     "output_type": "display_data"
    }
   ],
   "source": [
    "#groeperen van de data op basis van machineID en failure\n",
    "failureGroupMachineId = dfSmall_encoded['failure'].groupby(dfSmall_encoded['machineID']).sum().reset_index()\n",
    "\n",
    "#Definiëren x en y\n",
    "xFailureGroupMachineId = failureGroupMachineId['machineID']\n",
    "yFailureGroupMachineId = failureGroupMachineId['failure']\n",
    "#Optionele grenswaarde die kan bepalen welke machines weergegeven dienen te worden\n",
    "zFailureGroupMachineId = failureGroupMachineId.loc[failureGroupMachineId['failure'] >= 5].copy()\n",
    "\n",
    "#Aanmaken figuur en assen \n",
    "figFailureGroupMachineId, (ax1, ax2) = plt.subplots(2, 1, figsize=(23,35))\n",
    "figFailureGroupMachineId.set_figheight(13)\n",
    "figFailureGroupMachineId.set_figwidth(25)\n",
    "\n",
    "##-----------Hoeveelheid failures per machine-----------------\n",
    "\n",
    "#Aanmaken barchart op ax1\n",
    "bcFailureGroupMachineId = ax1.bar(xFailureGroupMachineId, yFailureGroupMachineId, label='failures per machine', align='center')\n",
    "ax1.set_title('aantal failures per machine')\n",
    "ax1.set_ylabel('aantal failures')\n",
    "ax1.set_xlabel('machine')\n",
    "ax1.bar_label(bcFailureGroupMachineId, padding=6)\n",
    "#Zetten van de xticks\n",
    "ax1.set_xticks(np.arange(min(xFailureGroupMachineId), max(xFailureGroupMachineId)+1, 1.0))\n",
    "#Zetten van de yticks\n",
    "ax1.set_yticks(np.arange(min(yFailureGroupMachineId), max(yFailureGroupMachineId)+1, 1.0))\n",
    "#aanmaken legenda\n",
    "ax1.legend()\n",
    "\n",
    "##-----------Toename van failures over leeftijd van de machine-----------------\n",
    "\n",
    "#Aanmaken scatterplot op ax2\n",
    "spFailureGroupMachineId = ax2.scatter(xFailureGroupMachineId, yFailureGroupMachineId, label='failures toename per leeftijd')\n",
    "ax2.set_title('Toename failures over leeftijd')\n",
    "ax2.set_ylabel('Failure')\n",
    "ax2.set_xlabel('Leeftijd machine')\n",
    "#Zetten van coordinaten in de scatterplot\n",
    "for i, j in zip(xFailureGroupMachineId, yFailureGroupMachineId):\n",
    "    ax2.text(i, j+0.5, '({}, {})'.format(i, j))\n",
    "#Pearson R correlatie coefficient lijn\n",
    "a, b = polyfit(xFailureGroupMachineId, yFailureGroupMachineId, 1)\n",
    "ax2.plot(xFailureGroupMachineId, a + b * xFailureGroupMachineId, '-', label='Pearson Correlatie')\n",
    "#Zetten van de xticks\n",
    "ax2.set_xticks(np.arange(min(xFailureGroupMachineId)-1, max(xFailureGroupMachineId)+1, 5.0))\n",
    "#Zetten van de yticks\n",
    "ax2.set_yticks(np.arange(min(yFailureGroupMachineId)-1, max(yFailureGroupMachineId)+1, 1.0))\n",
    "ax2.legend()\n",
    "\n",
    "plt.tight_layout()\n",
    "plt.show()"
   ]
  },
  {
   "cell_type": "code",
   "execution_count": 77,
   "metadata": {},
   "outputs": [
    {
     "data": {
      "image/png": "[encoded data removed]",
      "text/plain": [
       "<Figure size 1800x1008 with 2 Axes>"
      ]
     },
     "metadata": {
      "needs_background": "light"
     },
     "output_type": "display_data"
    }
   ],
   "source": [
    "##-----------Hoeveelheid failures per leeftijd (age) van de machine-----------------\n",
    "#groeperen van de data op basis van age en failure\n",
    "failureGroupMachineAge = dfSmall_encoded['failure'].groupby(dfSmall_encoded['age']).sum().reset_index()\n",
    "failureGroupMachineComp = dfSmall_encoded['failure'].groupby(dfSmall['comp']).sum().reset_index()\n",
    "\n",
    "#Definiëren x en y voor machine failure en age\n",
    "xFailureGroupMachineAge = failureGroupMachineAge['age']\n",
    "yFailureGroupMachineAge = failureGroupMachineAge['failure']\n",
    "#Optionele grenswaarde die kan bepalen welke machines weergegeven dienen te worden\n",
    "zFailureGroupMachineAge = failureGroupMachineAge.loc[failureGroupMachineAge['failure'] >= 5].copy()\n",
    "\n",
    "#Definiëren van x en y voor machine component chart\n",
    "xFailureGroupMachineComp = failureGroupMachineComp['comp']\n",
    "yFailureGroupMachineComp = failureGroupMachineComp['failure']\n",
    "\n",
    "#Aanmaken figuur en assen \n",
    "figFailureGroupMachineAge, (ax1, ax2) = plt.subplots(2, 1, figsize=(35,55))\n",
    "figFailureGroupMachineAge.set_figheight(14)\n",
    "figFailureGroupMachineAge.set_figwidth(25)\n",
    "\n",
    "##-----------Hoeveelheid failures per leeftijd (age) van de machine-----------------\n",
    "\n",
    "#Aanmaken barchart op ax1\n",
    "bcFailureGroupMachineAge = ax1.bar(xFailureGroupMachineAge, yFailureGroupMachineAge, label='failures per leeftijd machine', align='center')\n",
    "ax1.set_title('Failures per leeftijd machine')\n",
    "ax1.set_ylabel('aantal failures')\n",
    "ax1.set_xlabel('leeftijd')\n",
    "ax1.bar_label(bcFailureGroupMachineAge, padding=6)\n",
    "#Zetten van de xticks\n",
    "ax1.set_xticks(np.arange(min(xFailureGroupMachineAge), max(xFailureGroupMachineAge)+1, 1.0))\n",
    "#aanmaken legenda\n",
    "ax1.legend()\n",
    "\n",
    "#Aanmaken barchart op ax2\n",
    "bcFailureGroupMachineComp = ax2.bar(xFailureGroupMachineComp, yFailureGroupMachineComp, label='Failures per component', align='center')\n",
    "ax2.set_title('Failures per component')\n",
    "ax2.set_ylabel('aantal failures')\n",
    "ax2.set_xlabel('Component')\n",
    "ax2.bar_label(bcFailureGroupMachineComp, padding=6)\n",
    "#Zetten van de xticks\n",
    "# ax2.set_xticks(np.arange(min(xFailureGroupMachineAge), max(xFailureGroupMachineAge)+1, 1.0))\n",
    "#aanmaken legenda\n",
    "ax2.legend()\n",
    "\n",
    "plt.show()"
   ]
  },
  {
   "cell_type": "markdown",
   "metadata": {},
   "source": [
    "### 4.3.2. Visuele inzichten volt <a class=\"anchor\" id=\"Chapter4.3.2\"></a><br>\n",
    "De eerste visualisaties omtrent de prestaties van de machines gaat in op de verwachting dat volt invloed zou hebben op het falen van de machine. Hiervoor wordt in deze paragraaf volt inzichtelijk gemaakt op verschillende manieren. Onderstaande code laten de volgende onderwerpen zien:\n",
    "\n",
    "- Algemene statistiek van voltage (aantal rijen, gemiddelde, standaardafwijking, minimale waarde etc.)\n",
    "- Algemene verdeling van data in de volt kolom middels een boxplot\n",
    "- Distributie van volt (over alle machines)\n"
   ]
  },
  {
   "cell_type": "code",
   "execution_count": 78,
   "metadata": {},
   "outputs": [
    {
     "data": {
      "text/plain": [
       "count    2886.000000\n",
       "mean      172.320941\n",
       "std        16.557797\n",
       "min       115.638391\n",
       "25%       161.240643\n",
       "50%       171.961489\n",
       "75%       182.836200\n",
       "max       235.493717\n",
       "Name: volt, dtype: float64"
      ]
     },
     "execution_count": 78,
     "metadata": {},
     "output_type": "execute_result"
    }
   ],
   "source": [
    "##Omschrijven van de algemene kentallen van de voltage kolom\n",
    "dfSmall_encoded['volt'].describe()"
   ]
  },
  {
   "cell_type": "code",
   "execution_count": 79,
   "metadata": {},
   "outputs": [
    {
     "data": {
      "text/plain": [
       "<Figure size 432x288 with 0 Axes>"
      ]
     },
     "metadata": {},
     "output_type": "display_data"
    },
    {
     "data": {
      "image/png": "[encoded data removed]",
      "text/plain": [
       "<Figure size 1080x360 with 2 Axes>"
      ]
     },
     "metadata": {
      "needs_background": "light"
     },
     "output_type": "display_data"
    }
   ],
   "source": [
    "def historyplot(df, feature_name, kind='hist', bins=100, log=True):\n",
    "    dfSmall_encoded[feature_name].plot(kind=kind, bins=bins, figsize=(15,5), title=f'Verdeling van {feature_name}', edgecolor='black')\n",
    "    plt.show()\n",
    "\n",
    "\n",
    "figBoxVolt = plt.figure() #creates the figure for the boxplot\n",
    "figBoxVolt, (ax1, ax2) = plt.subplots(nrows=1, ncols=2, figsize = (25,10)) #adds axis to the figure.\n",
    "\n",
    "ax1.boxplot(dfSmall_encoded.volt,vert=False, patch_artist=True) #creates a horizontal boxplot with color.\n",
    "ax1.set_yticks([]) #deletes the ticks on the y-axis\n",
    "ax1.set_title(\"Verdeling datapunten in volt kolom\") #set's the title of the figure\n",
    "\n",
    "for volt in ['volt']:\n",
    "    historyplot(dfSmall_encoded, feature_name=volt, log=True, bins=100)"
   ]
  },
  {
   "cell_type": "markdown",
   "metadata": {},
   "source": [
    "### 4.3.3. Visuele inzichten rotate <a class=\"anchor\" id=\"Chapter4.3.3\"></a><br>"
   ]
  },
  {
   "cell_type": "markdown",
   "metadata": {},
   "source": [
    "### 4.3.4. Visuele inzichten pressure <a class=\"anchor\" id=\"Chapter4.3.4\"></a><br>"
   ]
  },
  {
   "cell_type": "markdown",
   "metadata": {},
   "source": [
    "### 4.3.5. Visuele inzichten vibration <a class=\"anchor\" id=\"Chapter4.3.5\"></a><br>"
   ]
  },
  {
   "cell_type": "code",
   "execution_count": 80,
   "metadata": {},
   "outputs": [
    {
     "data": {
      "image/png": "[encoded data removed]",
      "text/plain": [
       "<Figure size 1440x432 with 2 Axes>"
      ]
     },
     "metadata": {
      "needs_background": "light"
     },
     "output_type": "display_data"
    }
   ],
   "source": [
    "# vibration min = 21.952829\n",
    "# vibration max = 63.246018\n",
    "# bins: 20, 25, 30, 35, 40, 45, 50, 55, 60, 65, 70\n",
    "\n",
    "dfSmall_encoded['vibration'].describe()\n",
    "\n",
    "toCut = dfSmall_encoded.vibration\n",
    "labelsUsed = [\n",
    "    '20-25',\n",
    "    '25-30',\n",
    "    '30-35',\n",
    "    '35-40',\n",
    "    '40-45',\n",
    "    '45-50',\n",
    "    '50-55',\n",
    "    '55-60',\n",
    "    '60-65',\n",
    "    '65-70'\n",
    "]\n",
    "\n",
    "vibrationcat = pd.cut(toCut,bins=[20, 25, 30, 35, 40, 45, 50, 55, 60, 65, 70],\n",
    "    labels=labelsUsed)\n",
    "\n",
    "if 'vibration_class' not in dfSmall_encoded.columns:\n",
    "    dfSmall_encoded.insert(13,'vibration_class',vibrationcat) #Inserts the records into the new columns, but when executed again another code should be used(?)\n",
    "\n",
    "else:\n",
    "    dfSmall_encoded=dfSmall_encoded\n",
    "\n",
    "## Building the graphic\n",
    "\n",
    "# validation code to check the amount of failures within a rotation class\n",
    "# test = dfSmall['vibration'].groupby(dfSmall['vibration_class']).sum()\n",
    "# print(test)\n",
    "\n",
    "#Grouping only takes the [1] values in failure\n",
    "vibrationGroupRotatedf = dfSmall_encoded['failure'].groupby(dfSmall_encoded['vibration_class']).sum().reset_index()\n",
    "x = vibrationGroupRotatedf['vibration_class']\n",
    "y = vibrationGroupRotatedf['failure']\n",
    "z = dfSmall_encoded['vibration'].groupby(dfSmall_encoded['vibration_class']).count()\n",
    "\n",
    "fig, (ax1, ax2) = plt.subplots(1, 2, figsize=(20,6))\n",
    "\n",
    "ax1.bar(x, y, label='failures per vibration klasse', align='center')\n",
    "ax1.set_title('Aantal failures per vibration klasse')\n",
    "ax1.set_ylabel('Aantal failures')\n",
    "ax1.set_xlabel('vibration klasse')\n",
    "ax1.legend()\n",
    "\n",
    "ax2.bar(x, z, label='Aantal voorkomende \\n waarnemingen per klasse', align='center')\n",
    "ax2.set_title('Aantal voorkomende waarnemingen in vibration klasse')\n",
    "ax2.set_ylabel('Aantal waarnemingen')\n",
    "ax2.set_xlabel('vibration klasse')\n",
    "ax2.legend()\n",
    "\n",
    "plt.show()"
   ]
  },
  {
   "cell_type": "markdown",
   "metadata": {},
   "source": [
    "### 4.3.6. Visuele inzichten age <a class=\"anchor\" id=\"Chapter4.3.6\"></a><br>"
   ]
  },
  {
   "cell_type": "markdown",
   "metadata": {},
   "source": [
    "# 5. Logistische Regressie <a class=\"anchor\" id=\"Chapter5\"></a><br>"
   ]
  },
  {
   "cell_type": "markdown",
   "metadata": {},
   "source": [
    "## 5.1. Predictive Modeling <a class=\"anchor\" id=\"Chapter5.1.\"></a><br>"
   ]
  },
  {
   "cell_type": "markdown",
   "metadata": {},
   "source": [
    "## 5.2. Output en evaluatie <a class=\"anchor\" id=\"Chapter5.2.\"></a><br>"
   ]
  },
  {
   "cell_type": "markdown",
   "metadata": {},
   "source": [
    "## 5.3. Conclusie <a class=\"anchor\" id=\"Chapter5.3.\"></a><br>"
   ]
  },
  {
   "cell_type": "markdown",
   "metadata": {},
   "source": [
    "# 6. Support Vector Machine <a class=\"anchor\" id=\"Chapter6\"></a><br>\n",
    "Dit hoofdstuk gaat in op het uitwerken van de Support Vector Machine. Het model wordt wederom op dezelfde manier gerealiseerd als de logistische regressie waarbij de features volt, rotation, pressure, vibration en age worden gebruikt voor het voorspellen van een failure van machines. Deze data is wederom afkomstig uit het dataframe dfSmall_oversampled en werd gekozen om de volgende redenenen:\n",
    "\n",
    "+ In dit dataframe zijn het aantal voorkomende Failures en Niet Failures gelijk getrokken (genivelleerd) waardoor verwacht wordt dat het aantal correct geclassificeerde samples/voorspellingen van Failures en Niet Failures door het model in balans zal zijn.\n",
    "+ Van de twee genivelleerde dataframes heeft dit dataframe het meeste aantal rijen data waardoor er meer data beschikbaar is om het model te trainen en te testen.\n",
    "+ In het Logistische regressie model werd dezelfde dataframe gebruikt waardoor deze ook hier wordt gebruikt. Zo kunnen de modellen met elkaar vergeleken worden.\n",
    "\n",
    "Het model wordt getraind op basis van de standaard parameters binnen de Suppor Vector Classifier (SVC) library van [Scikit Learn](https://scikit-learn.org/stable/modules/generated/sklearn.svm.SVC.html). Wederom wordt ook dit model niet geoptimaliseerd aangezien het van belang is eerst te kijken naar het best presterende model van de twee standaard modellen (logistische regressie en support vector machine), vervolgens wordt de best presterende hiervan verder uitgewerkt. Hiermee wordt het model dan ook het Preliminary Support Vector Machine model genoemd. Wanneer het Preliminary Support Vector Machine model is getraind wordt deze getest en vergeleken met het Preliminary Logistische Regressie Model om te kijken welke van deze twee beter presteert, vervolgens wordt de beste van deze verder uitgewerkt.\n",
    "\n",
    "Het bouwen van het model gebeurt aan de hand van verschillende stappen die in de volgende paragrafen wordt toegelicht.\n"
   ]
  },
  {
   "cell_type": "markdown",
   "metadata": {},
   "source": [
    "## 6.1. Predictive Modeling <a class=\"anchor\" id=\"Chapter6.1.\"></a><br>\n",
    "Deze paragraaf beschrijft de stappen voor het trainen van het Preliminary Support Vector Machine model toegelicht. Hierbij worden soortgelijke stappen doorlopen als in het eerste model. \n",
    "\n",
    "**Stap 1: Definiëren van de X-variabelen en de y-variabele**<br>\n",
    "De eerste stap betreft wederom het definiëren van de X en y variabelen. Dit wordt op dezelfde wijze gedaan als bij het Preliminary Logistische Regressie Model. Hierbij staan de X-variabelen voor de features die gehanteerd worden bij het trainen van het model en de y variabele de target. Zoals eerder vermeld zullen de X variabelen (features) de volt, rotate, pressure, vibration en age kolom betreffen. De y-variabele (target) zal de failure kolom betreffen. Onderstaande codeblok met commentaar toont het selecteren van de kolommen als X en y. "
   ]
  },
  {
   "cell_type": "code",
   "execution_count": 81,
   "metadata": {},
   "outputs": [],
   "source": [
    "##Het selecteren van de volt, rotate, pressure, vibration, age vanuit de dfSmall_oversampled dataframe\n",
    "XsvmVOne = dfSmall_oversampled[['volt', 'rotate', 'pressure', 'vibration', 'age']].copy()\n",
    "##Het selecteren van de failure kolom vanuit de dfSmall_oversampled dataframe\n",
    "ysvmVOne = dfSmall_oversampled['failure'].copy()"
   ]
  },
  {
   "cell_type": "markdown",
   "metadata": {},
   "source": [
    "**Stap 2: Het splitsen van de data**<br>\n",
    "Om het model te trainen en te testen is het van belang om de dataset samengesteld uit de voorgaande stap op te splitsen in verschillende subsets. Deze subsets betreffen de train en test dataset die middels de ```train_test_split``` methode worden opgesplitst. Iedere subset kent zijn eigen doel:\n",
    "\n",
    "+ Training dataset: deze sub-dataset wordt gebruikt om het model te trainen. De training sub-dataset zal bestaan uit 70% van de dataset.\n",
    "+ Validatie dataset: deze sub-dataset wordt gebruikt om het model te testen. Op basis van de test wordt de performance van het model geëvalueerd/beoordeeld. De validatie sub-dataset zal bestaan uit 30% van de dataset.\n",
    "\n",
    "Het onderstaande codeblok voorzien van commentaar splitst de dataset op in twee subsets."
   ]
  },
  {
   "cell_type": "code",
   "execution_count": 82,
   "metadata": {},
   "outputs": [
    {
     "name": "stdout",
     "output_type": "stream",
     "text": [
      "(70%) De shape van de trainingset (X-variabele Voltage, Rotation, Pressure, Vibration, Age & y-variabele Failure) \n",
      " (2650, 5) (2650,)\n",
      "(30%) De shape van de validatieset (X-variabele Voltage, Rotation, Pressure, Vibration, Age & y-variabele Failure) \n",
      " (1136, 5) (1136,)\n"
     ]
    }
   ],
   "source": [
    "## Opsplitsen van de dataset naar een training en validatie sub-dataset\n",
    "## De random state= 42 zorgt ervoor dat altijd hetzelfde resultaat (splitsing van de data) bereikt wordt. Dit is benodigd voor reproduceerbaarheid\n",
    "X_trainsvmVOne, X_validsvmVOne, y_trainsvmVOne, y_validsvmVOne = train_test_split(XsvmVOne, ysvmVOne, train_size=0.7, test_size=0.3, random_state=42)\n",
    "\n",
    "## Print de vorm van de sub-datasets (aantal rijen, aantal kolommen). Zo zijn er voor de X-variabelen in de trainingset 2650 rijen en 5 kolommen(== aantal features) aanwezig en voor de y-variabele ook 2650 rijen en 1 kolom.\n",
    "print(\"(70%) De shape van de trainingset (X-variabele Voltage, Rotation, Pressure, Vibration, Age & y-variabele Failure)\", \"\\n\", X_trainsvmVOne.shape, y_trainsvmVOne.shape)\n",
    "print(\"(30%) De shape van de validatieset (X-variabele Voltage, Rotation, Pressure, Vibration, Age & y-variabele Failure)\", \"\\n\", X_validsvmVOne.shape, y_validsvmVOne.shape)"
   ]
  },
  {
   "cell_type": "markdown",
   "metadata": {},
   "source": [
    "**Stap 3: Het trainen van het Preliminary Support Vector Machine model**<br>\n",
    "De derde stap betreft het trainen van het preliminary support vector machine model. Een Support Vector Machine algoritme kan gebruikt worden bij zowel classificatie als regressie vraagstukken. In het geval van het onderzoek heeft men te maken met een classificatie vraagstuk, en wordt het Support Vector Machine model benoemd als Support Vector Classifier (SVC). Het classificeren van de groepen (failures en non-failures) wordt bereikt doordat SVM op zoek gaat naar een *Optimal Hyperplane*. Een optimal hyperplane betreft de ideale grens waarmee groepen van elkaar gescheiden kunnen worden en waardoor vervolgens besloten kan worden tot welke groep een sample behoort. Een optimal Hyperplane kan zo gezien worden als een optimale \"beslissingsgrens\". *[Support Vector Machine - Simply Explained, Lilly Chen](https://towardsdatascience.com/support-vector-machine-simply-explained-fee28eba5496) en Data Science Week 7 - Hoorcollege, Zuyd Hogeschool*. Onderstaande afbeelding toont een visueel voorbeeld van een Support Vector Machine met de onderdelen. Vervolgens worden de onderdelen in de onderstaande tabel toegelicht. \n",
    "\n",
    "<img src='img/SVM_Example.png' width=300></img>\n",
    "\n",
    "|Onderdeel|Omschrijving|\n",
    "|---|---|\n",
    "|Optimal Hyperplane|De ideale lijn die wordt gevonden om samples te kunnen scheiden tussen groepen|\n",
    "|Maximised Margin|De uiterlijke margin die wordt gezien als grenswaarde voor de groepen. Beide groepen kennen een grenslijn en de ruimte hiertussen wordt de margin genoemd. Wanneer men een zogeheten *soft margin* toekent worden outliers sneller geaccepteerd, wanneer dit een *hard margin* betreft worden outliers niet snel geaccepteerd en is het model gevoelig voor outliers.|\n",
    "|Support Vector|Samples (metingen) die de grenzen voor de margin bepalen. Dit zijn de metingen die *op* de lijn liggen en hierdoor herkent kunnen worden.|\n",
    "\n",
    "Tot slot werkt een Support Vector Machine met dimensies en is het mogelijk een zogeheten kernel trick toe te passen. De truck hierbij is het in hogere dimensies plaatsen van de metingen door een kernel toe te passen. Zo is het mogelijk voor de Support Vector Machine een duidelijkere scheiding te maken tussen de punten om zo tot een duidelijkere margin te komen. \n",
    "\n",
    "Meer informatie over kernels is te vinden op de site van [TechVidVan](https://techvidvan.com/tutorials/svm-kernel-functions/#:~:text=A%20kernel%20is%20a%20function,number%20of%20dimensions%20using%20kernels.).\n",
    "\n",
    "Onderstaande codeblok toont het trainen van het model op basis van de eerder gedefinieerd X en y datasets."
   ]
  },
  {
   "cell_type": "code",
   "execution_count": 83,
   "metadata": {},
   "outputs": [
    {
     "name": "stdout",
     "output_type": "stream",
     "text": [
      "Standaard parameters SVM Model: {'C': 1.0, 'break_ties': False, 'cache_size': 200, 'class_weight': None, 'coef0': 0.0, 'decision_function_shape': 'ovr', 'degree': 3, 'gamma': 'scale', 'kernel': 'rbf', 'max_iter': -1, 'probability': False, 'random_state': 42, 'shrinking': True, 'tol': 0.001, 'verbose': False}\n"
     ]
    }
   ],
   "source": [
    "##Creërt het Preliminary SVM model en traint het model op basis van de training subset.\n",
    "##Random_state=42 voor reproduceerbaarheid\n",
    "svmVOne = SVC(random_state=42)\n",
    "##Het trainen van het model door de y op de X te fitten (trainen)\n",
    "svmVOne.fit(XsvmVOne, ysvmVOne)\n",
    "##Het printen van de gehanteerde standaard parameters\n",
    "print(\"Standaard parameters SVM Model:\", svmVOne.get_params())"
   ]
  },
  {
   "cell_type": "markdown",
   "metadata": {},
   "source": [
    "## 6.2. Output en evaluatie <a class=\"anchor\" id=\"Chapter6.2.\"></a><br>"
   ]
  },
  {
   "cell_type": "markdown",
   "metadata": {},
   "source": [
    "**Stap 4: Evalueren van het Preliminary Support Vector Machine**<br>\n",
    "Wanneer het model getraind is, is het wederom mogelijk het model te evalueren aan de hand van de eerder opgesplitste testset. Dit betreft een dataset van 30% van de gehele dataframe dfSmall_oversampled. De testset wordt echter alleen gebruikt voor het evalueren van het preliminary Support Vector Machine model, waarna het preliminary model af is, wordt deze zoals eerder vermeld later vergeleken met het Preliminary Logistic Regression model. \n",
    "\n",
    "Het evalueren gebeurt door gebruik te maken van een confusion matrix. Waarna deze geplot wordt (zie onderstaade codeblok) is het mogelijk de Accuracy, precision, Recall en sensitivity te berekenen. "
   ]
  },
  {
   "cell_type": "code",
   "execution_count": 84,
   "metadata": {},
   "outputs": [
    {
     "name": "stderr",
     "output_type": "stream",
     "text": [
      "D:\\01_Sander\\03_Programmas\\Serious shit\\Anaconda\\lib\\site-packages\\sklearn\\utils\\deprecation.py:87: FutureWarning: Function plot_confusion_matrix is deprecated; Function `plot_confusion_matrix` is deprecated in 1.0 and will be removed in 1.2. Use one of the class methods: ConfusionMatrixDisplay.from_predictions or ConfusionMatrixDisplay.from_estimator.\n",
      "  warnings.warn(msg, category=FutureWarning)\n"
     ]
    },
    {
     "data": {
      "text/plain": [
       "<sklearn.metrics._plot.confusion_matrix.ConfusionMatrixDisplay at 0x17c36f113c8>"
      ]
     },
     "execution_count": 84,
     "metadata": {},
     "output_type": "execute_result"
    },
    {
     "data": {
      "image/png": "[encoded data removed]",
      "text/plain": [
       "<Figure size 432x288 with 2 Axes>"
      ]
     },
     "metadata": {
      "needs_background": "light"
     },
     "output_type": "display_data"
    }
   ],
   "source": [
    "#Test het Preliminary SVM model op basis van de validatie sub-set en genereert een Confusion Matrix\n",
    "plot_confusion_matrix(svmVOne, X_validsvmVOne, y_validsvmVOne)"
   ]
  },
  {
   "cell_type": "markdown",
   "metadata": {},
   "source": [
    "Onderstaande tabel toont de berekening van de kentallen Accuracy, Precision, Recall en Specificity.\n",
    "\n",
    "|Kental|Formule|Berekening|Waarde| \n",
    "|---|:---:|---|---|\n",
    "|Accuracy|$\\dfrac{TP+TN}{TP+TN+FP+FN}$|$(440+322)/(440+322+155+219)$|0,671|\n",
    "|Precision|$\\dfrac{TP}{TP+FP}$|$(440)/(440+219)$|0,668|\n",
    "|Recall/Sensitivity|$\\dfrac{TP}{TP+FN}$|$(440)/(440+155)$|0,739|\n",
    "|Specificity|$\\dfrac{TN}{TN+FP}$|$(322)/(322+219)$|0,595|\n",
    "|False Negative Rate/Miss rate|$\\dfrac{FN}{FN+TP}$|$(155)/(155+440)$|0,260|\n",
    "|False Positive Rate/Fall-out|$\\dfrac{FP}{FP+TN}$|$(219)/(219+322)$|0,405|"
   ]
  },
  {
   "cell_type": "markdown",
   "metadata": {},
   "source": [
    "**Stap 5: Evaluatie preliminary Support Vector Machine model**<br>\n",
    "Bovenstaande kentallen tonen verschillende waardes. Hierbij dient in gedachten gehouden te worden dat de miss rate en de fall-out rate zo laag mogelijk dienen te zijn aangezien dit de tegenhangers zijn van de *goede voorspellingen*. Dit betekent dat de Miss Rate met een percentage van 26% vrij goed is maar de fall-out rate richting de 50% gaat (wat betekent dat de andere helft afneemt). De Miss rate betreft de tegenhanger van de recall/sensitivity en de fall-out range betreft de tegenhanger van de specificity. Zo zouden deze ook berekent kunnen worden als: \n",
    "\n",
    "+ False Negative Rate = 1-recall\n",
    "+ False Positive Rate = 1-specificity\n",
    "\n",
    "Hiernaast dienen de Accuracy, Precision, Recall en Specificity zo hoog mogelijk te zijn. Echter, wanneer deze 100% (1) zijn is dit verdacht. Tevens is het een goed teken dat de waardes relatief dicht op elkaar liggen. Dit betekent ook dat er voldoende nieuwe data was om voorspellingen te maken aangezien er geen grote verschillen ontstaan in de voorspelde waardes. \n",
    "\n",
    "Met een Accuracy van 67,1%, Precision van 66,8%, Recall van 73,9% en een Specificity van 59,5% valt niet direct te zeggen of het model geoptimaliseerd is en de standaard parameters juist heeft toegepast. Dit moet blijken uit de algehele vergelijking tussen de twee preliminary modellen (logistic regression als support vector machines) wat terug te lezen in het volgende hoofdstuk. "
   ]
  },
  {
   "cell_type": "markdown",
   "metadata": {},
   "source": [
    "# 7. Vergelijking Preliminary modellen <a class=\"anchor\" id=\"Chapter7.\"></a><br>\n",
    "Dit hoofdstuk gaat in op het vergelijken van de eerder opgestelde Preliminary Machine Learning modellen (logistic regression en Support Vector Machine). Hierbij wordt eerst naar de model specifieke validatiesets gekeken (die zijn opgesplitst gedurende het trainen van de specifieke modellen) waarna vervolgens de in hoofdstuk 3 gedefinieerde dfSmall_oversampled_test dataframe als testset wordt gehanteerd. Dit wordt zo gezien als compleet nieuwe data die door beiden modellen wordt gevoerd om uiteindelijk tot een conclusie te komen welk model verder uitgewerkt zal worden. "
   ]
  },
  {
   "cell_type": "markdown",
   "metadata": {},
   "source": [
    "## 7.1. Vergelijking Preliminary modellen op basis van model specifieke validatiesets <a class=\"anchor\" id=\"Chapter7.1.\"></a><br>\n",
    "Om een tijdelijke conclusie te trekken betreffende het beter presterende model is het mogelijk de scores van beide preliminary modellen naast elkaar te leggen. Aangezien deze op dezelfde wijze zijn getraind met de standaard parameters wordt het inzichtelijk gemaakt welk model er in eerste instantie het beste presteert (getest op de specifieke validatie sets wat een totaal van 30% van de gedefinieerde dataframe dfSmall_oversampled betreft). Onderstaande tabel toont een overzicht van de scores per model samen met een overzicht omtrent het best presterende model op basis van de kentallen binnen classificatie (accuracy, recall, etc.). Hierbij is het van belang dat onthouden wordt dat deze validaties zijn gebeurd op een random train_test_split binnen het dfSmall_oversampled dataframe.\n",
    "\n",
    "|Kental|Waarde Preliminary Logistic Regression|Waarde Preliminary SVM|Beter presterend model|\n",
    "|---|:---:|:---:|---|\n",
    "|Accuracy|67,87%|67,1%|Logistic Regression|\n",
    "|Recall/Sensitivity|72,27%|73,9%|Support Vector Machine|\n",
    "|Specificity|63,03%|59,5%|Logistic Regression|\n",
    "|Precision|(WIP)|66,8%|(WIP)|\n",
    "|False Negative Rate/Miss Rate|27,73%|26%|Logistic Regression|\n",
    "|False Positive Rate/False Alarm Rate|36,97%|40,5%|Support Vector Machine|\n",
    "\n",
    "Uit bovenstaande tabel blijkt dat ... in eerste instantie beter scoort, om dit te bevestigen (of juist te ontkrachten) wordt de eerder gedefinieerde dataframe dfSmall_oversampled_test vanaf dit punt als testset gehanteerd. Deze test set wordt door beide modellen gevoerd om te kijken welk model nu beter presteert. Dit gebeurt in onderstaande code waarna vervolgens een evaluatie over beiden wordt gedaan. Deze evaluatie wordt ook wel de conclusie (omtrent het beter presterend model) genoemd."
   ]
  },
  {
   "cell_type": "markdown",
   "metadata": {},
   "source": [
    "## 7.2. Vergelijking Preliminary modellen op basis van generieke dfSmall_oversampled_test set <a class=\"anchor\" id=\"Chapter7.2.\"></a><br>\n",
    "Zoals bovenstaand genoemd werd voorheen een vergelijking gedaan van de modellen waarbij ieder model een andere samenstelling van de validatieset had. Ze hadden beiden wel een totaal van 30% van de rijen erin zitten maar niet *exact* dezelfde rijen. Om zo een algehele conclusie te kunnen doen omtrent het beter presterend model wordt de in hoofdstuk 3 gedefinieerde dfSmall_oversampled_test door de getrainde modellen heen gevoerd en geëvalueerd op dezelfde wijze als voorheen (door gebruik van de confusion matrix). "
   ]
  },
  {
   "cell_type": "markdown",
   "metadata": {},
   "source": [
    "**Stap 1: Opnieuw definieren van de X en y variabele uit het dataframe dfSmall_oversampled_test** <br>\n",
    "De eerste stap hierbij is wederom de X en y definiëren voor de dfSmall_oversampled_test dataframe. Dit is terug te zien in onderstaande codeblok waarbij op dezelfde wijze X en y worden gedefinieerd. Deze eerste stap betreft een generieke stap die voor zowel het Preliminary Logistic Regression model als het Preliminary Support Vector Machine model geldt."
   ]
  },
  {
   "cell_type": "code",
   "execution_count": 88,
   "metadata": {},
   "outputs": [],
   "source": [
    "##Het opnieuw selecteren van een X en y variabele, dit maal uit het dataframe dfSmall_oversampled_test\n",
    "##Het selecteren van de volt, rotate, pressure, vibration, age vanuit de dfSmall_oversampled_test dataframe en het plaatsen in een nieuwe X variabele\n",
    "XsvmVOneTest = dfSmall_oversampled_test[['volt', 'rotate', 'pressure', 'vibration', 'age']].copy()\n",
    "##Het selecteren van de failure kolom vanuit de dfSmall_oversampled_test dataframe en het plaatsen in een nieuwe y variabele\n",
    "ysvmVOneTest = dfSmall_oversampled_test['failure'].copy()"
   ]
  },
  {
   "cell_type": "markdown",
   "metadata": {},
   "source": [
    "**Stap 2: Het plotten van een confusion matrix voor het Preliminary Logistic Regression model**<br>\n",
    "Onderstaande code toont het plotten van een confusion matrix van de nieuwe voorspellingen gemaakt door het Preliminary Logistic Regression model op basis van de dataframe dfSmall_oversampled_test."
   ]
  },
  {
   "cell_type": "code",
   "execution_count": null,
   "metadata": {},
   "outputs": [],
   "source": [
    "plot_confusion_matrix(LRmodelv1, XsvmVOneTest, ysvmVOneTest)"
   ]
  },
  {
   "cell_type": "markdown",
   "metadata": {},
   "source": [
    "**Stap 3: Het plotten van een confusion matrix voor het Preliminary Support Vector Machine model**<br>\n",
    "Onderstaande code toont het plotten van een confusion matrix van de nieuwe voorspellingen gemaakt door het Preliminary Support Vector Machine model op basis van de dataframe dfSmall_oversampled_test."
   ]
  },
  {
   "cell_type": "code",
   "execution_count": null,
   "metadata": {},
   "outputs": [],
   "source": [
    "plot_confusion_matrix(svmVOne, XsvmVOneTest, ysvmVOneTest)"
   ]
  },
  {
   "cell_type": "markdown",
   "metadata": {},
   "source": [
    "**Stap 4: Het berekenen van kentallen en opnieuw evalueren beter presterend model**<br>\n",
    "De laatste stap voordat het mogelijk is om een conclusie te trekken omtrent het beter presterend model is het opnieuw evalueren van de kentallen van beide preliminary modellen, dit maal zoals beschreven op basis van een losse test dataset die gedurende het voorproces nog niet door de modellen was 'gezien' (geheel nieuwe data betreft). Beide preliminary modellen hebben zo een voorspelling gedaan over deze data en op dit punt wordt het mogelijk gemaakt een conclusie te trekken over welk model het beste presteert. De uiteindelijke waarden zijn terug te zien in onderstaande tabel\n",
    "\n",
    "|Kental|Formule|Berekening Preliminary Logistic Regression Model|Berekening Preliminary Support Vector Machine|Waarde Logistic Regression|Waarde Support Vector Machine|Best presterend model|\n",
    "|---|:---:|---|---|---|---|---|\n",
    "|Accuracy|$\\dfrac{TP+TN}{TP+TN+FP+FN}$||||||\n",
    "|Recall/Sensitivity|$\\dfrac{TP}{TP+FN}$||||||\n",
    "|Specificity|$\\dfrac{TN}{TN+FP}$||||||\n",
    "|Precision|$\\dfrac{TP}{TP+FP}$||||||\n",
    "|False Negative Rate/Miss Rate|$\\dfrac{FN}{FN+TP}$||||||\n",
    "|False Positive Rate/False Alarm Rate|$\\dfrac{FP}{FP+TN}$||||||"
   ]
  },
  {
   "cell_type": "markdown",
   "metadata": {},
   "source": [
    "## 7.3. Conclusie best presterend Preliminary Model <a class=\"anchor\" id=\"Chapter7.3.\"></a><br>"
   ]
  },
  {
   "cell_type": "markdown",
   "metadata": {},
   "source": [
    "# 7. Eindconclusie <a class=\"anchor\" id=\"Chapter7.\"></a><br>"
   ]
  },
  {
   "cell_type": "markdown",
   "metadata": {},
   "source": [
    "# 8. Discussie <a class=\"anchor\" id=\"Chapter8.\"></a><br>"
   ]
  },
  {
   "cell_type": "markdown",
   "metadata": {},
   "source": [
    "# Literatuurlijst <br>\n",
    "\n",
    "{1} https://www.fiixsoftware.com/maintenance-strategies/predictive-maintenance/ <br>\n",
    "{2} https://www.fiixsoftware.com/maintenance-strategies/reactive-maintenance/ <br>\n",
    "{3} https://www.fiixsoftware.com/maintenance-strategies/preventative-maintenance/ <br>"
   ]
  }
 ],
 "metadata": {
  "interpreter": {
   "hash": "01ab45f3ee86d7021ac4a7b632c3bd0a262d7b9f8d2eee48d079bad2876dad4c"
  },
  "kernelspec": {
   "display_name": "Python 3.7.3 64-bit ('base': conda)",
   "language": "python",
   "name": "python3"
  },
  "language_info": {
   "codemirror_mode": {
    "name": "ipython",
    "version": 3
   },
   "file_extension": ".py",
   "mimetype": "text/x-python",
   "name": "python",
   "nbconvert_exporter": "python",
   "pygments_lexer": "ipython3",
   "version": "3.7.11"
  },
  "orig_nbformat": 4
 },
 "nbformat": 4,
 "nbformat_minor": 2
}
