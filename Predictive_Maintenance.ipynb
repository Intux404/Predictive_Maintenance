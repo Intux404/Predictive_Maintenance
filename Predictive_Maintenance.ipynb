{
 "cells": [
  {
   "cell_type": "markdown",
   "metadata": {},
   "source": [
    "# Predictive Maintenance\n",
    "\n",
    "## Inleiding\n",
    "\n",
    "**Auteurs:** R. Coenen, Y. Dera, M. Vliex & S. van Wesel <br>\n",
    "**TODO** Inleiding verder afschrijven\n",
    "\n",
    "## Inhoudsopgave\n",
    "\n",
    "* [1. Data selectie](#DataSelectie)\n",
    "* [1.1. Achtergrond informatie](#AchtergrondInfo)\n",
    "* [1.2. Theoretisch kader](#TheoretischKader)\n",
    "* [1.3. Doel](#Doel)\n",
    "* [2. Data preparatie](#DataPreparatie)\n",
    "* [2.1. Data profiling](#DataProfiling)\n",
    "* [2.2. Data Cleaning](#DataCleaning)\n",
    "* [2.3. Data Wrangling](#DataWrangling)\n",
    "* [3. Uitwerkingen en algoritmen](#Uitwerkingen)\n",
    "\n",
    "---"
   ]
  },
  {
   "cell_type": "markdown",
   "metadata": {},
   "source": [
    "# 1. Data selectie <a class=\"anchor\" id=\"DataSelectie\"></a><br>\n",
    "Vanuit de opdrachtgever is vraag gekomen aan de slag te gaan met machine learning op het gebied van predictive maintenance. Hierbij heeft de opdrachtgever de projectgroep in staat gesteld op zoek te gaan naar een dataset die betrekking heeft op het voorspellen van onderhoud van machines. De aard van deze machines is vrij om te kiezen, ook zal de projectgroep zich gaan verdiepen in specifieke machines."
   ]
  },
  {
   "cell_type": "markdown",
   "metadata": {},
   "source": [
    "## 1.1. Achtergrond informatie <a class=\"anchor\" id=\"AchtergrondInfo\"></a>\n",
    "De dataset die gehanteerd wordt voor het onderzoek is gevonden via [Kaggle](https://www.kaggle.com/) met de naam \"Microsoft Azure Predictive Maintenance\". De dataset is te raadplegen via de [*Website van Kaggle*](https://www.kaggle.com/arnabbiswas1/microsoft-azure-predictive-maintenance) {1}. De dataset is een verzameling van een totaal van 5 bestanden met een totaal van 18 kolommen die overlap met elkaar kennen. Hiermee wordt bedoelt dat in sommige kollomen dezelfde kolomnamen terugkomen (een voorbeeld hiervan is het machineID). Hiernaast is de bron oorspronkelijk afkomstig van [Azure AI Notebooks for predictive Maintenance](https://docs.microsoft.com/nl-nl/azure/architecture/data-science-process/predictive-maintenance-playbook#training-resources-for-predictive-maintenance) {2}, maar aangezien de downloadlink niet meer op de site van Azure te vinden is, is deze beschikbaar gesteld op Kaggle. Op basis van de 18 kolommen is het mogelijk onderhoud van machines te voorspellen, wat deze kolommen betekenen is terug te vinden in [paragraaf 2.1.2.](#TyperenData). \n",
    "\n",
    "Aan de projectgroep is de opdracht verstrekt om op zoek te gaan naar een dataset die betrekking heeft op de monitoring van apparatuur/machines in combinatie met sensoren. Op basis van deze sensor informatie zou o.a. een predictie gemaakt kunnen worden over de resterende levensduur van een apparaat en/of component evenals wanneer onderhoud wenselijk is. \n",
    "\n",
    "De doelstelling is, om op basis van een (preprocessed) dataset een onderzoek uit te voeren en een pipeline te realiseren die aan de slag gaat met deze (ruwe) data en dit omzet naar een predictie model. Dit binnen een Jupyter Notebook en in combinatie met Python scripts.\n",
    "\n",
    "In een introductie gesprek zijn de volgende 3 typeringen van onderhoud aan bod gekomen:\n",
    "\n",
    "<b>Reactive (reactief)</b> - Onderhoud uitvoeren zodra er een probleem is<br>\n",
    "Probleem: onverwachte storingen kunnen duur (kosten) en potentieel gevaarlijk zijn\n",
    "\n",
    "<b>Scheuduled (gepland)</b> - Onderhoud uitvoeren op basis van een (regelmatig) schema<br>\n",
    "Probleem: onnodig onderhoud kan verspilling zijn; mogelijk worden niet alle storingen verholpen\n",
    "\n",
    "<b>Predictive (voorspellend)</b> - Voorspellen wanneer zich problemen zullen voordoen<br>\n",
    "Probleem: moeilijk om nauwkeurige voorspellingen te doen voor complexe apparatuur\n",
    "\n",
    "Kortweg gezegd is het doel om kosten te verminden door te voorspellen wanneer onderhoud nodig is. \n",
    "\n",
    "De projectgroep is aan de slag gegaan met het zoeken naar datasets en eenieder heeft verschillende datasets ingebracht om mee aan te slag te gaan. Vervolgens is de keuze gemaakt voor één dataset, de Microsoft Azure Predictive Maintenance dataset, zoals beschikbaar gesteld op <a href=\"https://www.kaggle.com/arnabbiswas1/microsoft-azure-predictive-maintenance\" title=\"Azure dataset\">Kaggle</a>. \n",
    "\n",
    "Deze (voorbeeld) data is afkomstig van het Microsoft project \"Azure AI Notebooks for Predictive Maintenance\" (welke per 15 oktober 2020 beëndigd is). De data is echter nog altijd toegankelijk om te gebruiken.\n",
    "\n",
    "Deze dataset kan volgens Microsoft gebruikt worden om aan te slag te gaan met machine learning models gerelateerd aan predictive maintenance, ofwel het voorspellen van onderhoud.\n",
    "\n",
    "De dataset bestaat uit een vijftal CSV (door komma gescheiden) bestanden, namelijk errors, fouten, machines, onderhoud en telemetrie en beslaat bijna een miljoen rijen.\n",
    "\n",
    "Iets dieper uitgediept zien de datasets er als volgt uit:\n",
    "\n",
    "• <b>Machinecondities en -gebruik</b>: Geeft de omstandigheden van de machine in gebruik weer, bijvoorbeeld door sensoren verzamelde gegevens;<br>\n",
    "• <b>Faal geschiedenis</b>: De storingshistorie van een machine of een component binnen de machine;<br>\n",
    "• <b>Onderhoudshistorie</b>: De reparatiegeschiedenis van een machine, bijvoorbeeld foutcodes, eerdere onderhoudsactiviteiten of vervanging van componenten.<br>\n",
    "• <b>Machine eigenschapen</b>: De kenmerken van een machine, bijv. CPU, merk en model, locatie.\n",
    "\n",
    "Op detailniveau bestaan de CSV bestanden uit de volgende gegevens:<br><br>\n",
    "• <b>Telemetrie tijd data</b>: Bevat data, op uur niveau, over de rotatie, druk en trillingen; verzameld over 10 machines (in het jaar 2015);<br>\n",
    "• <b>Error</b>: Dit zijn fouten die de machines ondervinden wanneer ze in werking/actief zijn. Aangezien deze fouten de machines niet uitschakelen, worden zij niet als verstoringen beschouwd. (De foutdatum en -tijd worden afgerond op het dichtstbijzijnde uur, aangezien de telemetriegegevens om het uur worden verzameld);<br>\n",
    "• <b>Onderhoud</b>: Wanneer een onderdeel van een machine wordt vervangen, wordt dat als een record in deze tabel vastgelegd. Componenten worden in twee situaties vervangen:<br><br> \n",
    "-> 1. Tijdens het reguliere geplande bezoek vervangt de technicus het onderdeel (proactief onderhoud);<br><br>\n",
    "-> 2. Een onderdeel gaat kapot en de technicus voert een ongepland onderhoud uit om het onderdeel te vervangen (reactief onderhoud). (Dit wordt beschouwd als een storing en de overeenkomstige gegevens worden vastgelegd onder verstoringen. De onderhoudsgegevens hebben zowel betrekking op 2014 als op 2015. Deze gegevens worden afgerond op het dichtstbijzijnde uur, aangezien de telemetriegegevens om het uur worden verzameld).<br><br>\n",
    "• <b>Verstoringen</b>: Elk record staat voor de vervanging van een onderdeel als gevolg van een defect. Deze gegevens zijn een deelverzameling van de onderhoudsgegevens. (Deze gegevens worden afgerond op het dichtstbijzijnde uur, aangezien de telemetriegegevens om het uur worden verzameld)<br>\n",
    "• <b>Metadata</b>: Model type en leeftijd van de machines\n",
    "\n",
    "---"
   ]
  },
  {
   "cell_type": "markdown",
   "metadata": {},
   "source": [
    "## 1.2. Theoretisch kader <a class=\"anchor\" id=\"TheoretischKader\"></a><br>\n",
    "\n",
    "> Inhoud\n",
    "> + [Introductie](#TKIntroductie)\n",
    "> + [Predictive Maintenance](#TKPredictiveMaint)\n",
    "\n",
    "### Introductie <a class=\"anchor\" id=\"TKIntroductie\"></a>\n",
    "\n",
    "### 1.2.1. Predictive maintenance <a class=\"anchor\" id=\"TKPredictiveMaint\"></a>\n",
    "Predictive maintenance is een techniek dat gebruik maakt van data analyse tools en technieken om afwijkingen in een organisatie en mogelijke gebreken in apparatuur en processen vroegtijdig te detecteren zodat deze afgehandeld kunnen worden nog vóór dat deze resulteren in een fout. [FiixSoftware.com](https://www.fiixsoftware.com/maintenance-strategies/predictive-maintenance/) {3}. Enerzijds focust predictive maintenance zich op het voorkomen van [reactive maintenance]([#TKReactiveMaint](https://www.fiixsoftware.com/maintenance-strategies/reactive-maintenance/)), waarbij het anderzijds de kosten voor [preventive maintenance]([#TKPreventiveMaint](https://www.fiixsoftware.com/maintenance-strategies/preventative-maintenance/)) probeert te verlagen."
   ]
  },
  {
   "cell_type": "markdown",
   "metadata": {},
   "source": [
    "## 1.3. Doel <a class=\"anchor\" id=\"Doel\"></a><br>\n",
    "Het doel van het project betreft het inzichtelijk maken van de mogelijkheden van het gebruik van machine learning binnen predictive maintenance richting de opdrachtgever. Hierbij zal de projectgroep zich verdiepen in een open dataset (waarover de opdrachtgever geen kennis noch eigendom heeft), gericht op predictive maintenance. Dit betekent dat vanuit het perspectief van data gezocht wordt naar inzichten en er geen specifiek probleem aanwezig is. Hiermee wordt het project gekenmerkt met een data driven benadering.\n",
    "\n",
    "---"
   ]
  },
  {
   "cell_type": "code",
   "execution_count": null,
   "metadata": {},
   "outputs": [],
   "source": [
    "import pandas as pd\n",
    "import seaborn as sb"
   ]
  },
  {
   "cell_type": "markdown",
   "metadata": {},
   "source": [
    "# 2. Data preparatie <a class=\"anchor\" id=\"DataPreparatie\"></a><br>\n",
    "Het volgende hoofdstuk behandeld deze viertal fases en beschrijft de activiteiten die plaats hebben gevonden binnen deze fases."
   ]
  },
  {
   "cell_type": "markdown",
   "metadata": {},
   "source": [
    "## 2.1. Data profiling <a class=\"anchor\" id=\"DataProfiling\"></a><br>\n",
    "Data profiling is van belang eerste inzichten te krijgen, deze paragraaf gaat in op het inladen van de data en de eerste inzichten verkrijgen waarna de paragraaf [visuele inzichten](#VisInzicht) (na het [samenvoegen van de data](#DataWrangling)) ingaat op visualisaties die van belang zijn nog vóór het trainen van de modellen. Ook worden de attributen van de dataset beschreven die later mogelijk als feature gedefinieerd worden om een goed beeld te krijgen wat de waardes in de kolommen voorstellen. Hiervoor is een data dictionary opgesteld in deze paragraaf. "
   ]
  },
  {
   "cell_type": "markdown",
   "metadata": {},
   "source": [
    "### 2.1.1. Inladen van de data <a class=\"anchor\" id=\"InladenData\"></a><br>\n",
    "Om aan de slag te kunnen gaan met de data, dient deze eerst ingeladen te worden. Deze dataset, afkomstig van Kaggle, bevat een cijftal .CSV (kommagescheiden) bestanden, die in zijn totaliteit uit 18 kolommen en 876.100 rijen bestaat. Het inladen van de data kan gebeuren aan de hand van de Pandas module binnen Python. Hiervoor wordt de regel code ```import pandas as pd``` uitgevoerd. Hiermee wordt de Pandas module geïmporteerd en hernoemd naar 'pd' zodat de module met deze afkorting aangeroepen kan worden i.p.v. het voluit schrijven van de modulenaam. Wanneer Pandas is geïmporteerd kunnen de bronbestanden ingeladen worden in allen een aparte dataframe. Dit gebeurd middels de volgende regels code: \n",
    "\n",
    "```\n",
    "dfTelemetry = pd.read_csv ('Data\\PdM_telemetry.csv')\n",
    "dfErrors = pd.read_csv ('Data\\PdM_errors.csv')\n",
    "dfFailures = pd.read_csv ('Data\\PdM_failures.csv')\n",
    "dfMachines = pd.read_csv ('Data\\PdM_machines.csv')\n",
    "dfMaint = pd.read_csv ('Data\\PdM_maint.csv')\n",
    "```"
   ]
  },
  {
   "cell_type": "code",
   "execution_count": null,
   "metadata": {},
   "outputs": [],
   "source": [
    "import pandas as pd"
   ]
  },
  {
   "cell_type": "code",
   "execution_count": null,
   "metadata": {},
   "outputs": [],
   "source": [
    "dfTelemetry = pd.read_csv ('Data\\PdM_telemetry.csv')\n",
    "dfErrors = pd.read_csv ('Data\\PdM_errors.csv')\n",
    "dfFailures = pd.read_csv ('Data\\PdM_failures.csv')\n",
    "dfMachines = pd.read_csv ('Data\\PdM_machines.csv')\n",
    "dfMaint = pd.read_csv ('Data\\PdM_maint.csv')"
   ]
  },
  {
   "cell_type": "markdown",
   "metadata": {},
   "source": [
    "Deze regels code zorgen ervoor dat de juiste CSV (kommagescheiden bestanden) ingeladen worden. Deze code zorgt er voor dat er een \"data frame object\" terug gegeven wordt; dit kan gezien worden als een soort van Excel bestand. De df(naam) code (bijv. 'dfTelemetry') zorgt ervoor dat deze dataframes snel opgeroepen kunnen worden. Met onderstaande code kan er een voorbeeld van het data frame getoond worden inclusief een vertoning van de rijen en kolommen. In dit geval wordt het dataframe Telemetry (meetgegevens) inzichtelijk gemaakt middels de regel code ```dfTelemetry```."
   ]
  },
  {
   "cell_type": "code",
   "execution_count": null,
   "metadata": {},
   "outputs": [],
   "source": [
    "dfTelemetry"
   ]
  },
  {
   "cell_type": "markdown",
   "metadata": {},
   "source": [
    "### 2.1.2. Typeren van de data <a class=\"anchor\" id=\"TyperenData\"></a>\n",
    "\n",
    "**Format** <a class=\"anchor\" id=\"Format\"></a><br>\n",
    "Deze dataset bevat gestructureerde gegevens. Iedere atribuut valt onder een categorie. De dataset zelf bevat, op moment van verkrijgen, nog uit een vijftal losse CSV bestanden. Deze staan los van elkaar en dienen nog, middels relaties, gekoppeld te worden eaan elkaar. Zie voor meer informatie hoofdstuk 2.3 'Data Wrangling'.\n",
    "\n",
    "**Structuur** <a class=\"anchor\" id=\"Structuur\"></a><br>\n",
    "Het data format betreft dus een CSV bestand. Een CSV-bestand (door komma’s gescheiden waarden) is een bestandstype, In CSV-bestanden wordt informatie niet in kolommen opgeslagen, maar wordt deze gescheiden door komma’s.\n",
    "\n",
    "**Context** <a class=\"anchor\" id=\"Context\"></a><br>\n",
    "De volgende kolommen zijn terug te vinden in de datasets:\n",
    "\n",
    "*Tabel 1: Data Dictionary*\n",
    "\n",
    "| Feature   | Omschrijving | Voorbeeld data    | Data Type | Type variabele | Meeteenheid | (Oorspronkelijke) databron |\n",
    "| ----------| -------------| ----------------- | ----------| ---------------| ------------|  --------------------------|\n",
    "| machineID | Iedere machine wordt gekenmerkt door een uniek identificatienummer | 1 | Int64 | Kwalitatief (discreet) | n.v.t | PdM_machines.csv |\n",
    "| model     | Er zijn verschillende soorten modellen, die gekenmerkt worden door een modelnummer | model 3 | text | Kwalitatief (discreet) | n.v.t |PdM_machines.csv |\n",
    "| age       | De leeftijd van de machines/compontenten | 18 | Int64 | Kwantitatief (discreet) | Maanden | PdM_machines.csv |\n",
    "| datetime  | Geeft de datum en tijd weer | 3-1-2015 07:00:00 | datetime | Kwantitatief (continue) | Uren, minuten, seconde | PdM_errors.csv     |\n",
    "| errorID   | Iedere error wordt gekenmerkt door een (uniek) error nummer | error1 | text | Kwalitatief (discreet) | n.v.t | PdM_errors.csv     |\n",
    "| failure   | Geeft aan welk component gefaald is | comp4 | text | Kwalitatief (discreet) | Binair | PdM_failures.csv |\n",
    "| comp      | Ieder component wordt gekenmerkt door een componentnummer | comp2 | text | Kwalitatief (discreet) | n.v.t | PdM_maint.csv |\n",
    "| volt      | De elektrische spanning in volt | 176217853015625 | Int64 | Kwantitatief (continue)| voltage ($V$) | PdM_maint.csv |\n",
    "| rotate    | Aantal rotaties per minuut | 418504078221616   | Int64 | Kwantitatief (continue) | Rotaties per minuut ($RPM$) | PdM_maint.csv  |\n",
    "| pressure  | Uitgeoefende druk in Kilo pascal (=0,01 bar) | 113077935462083   | Int64 | Kwantitatief (continue) | Kilo Pascal ($kPa$) (1 kPa = 0,01 bar) | PdM_maint.csv  |\n",
    "| vibration | Periodieke beweging van een voorwerp of medium | 450876857639276 | Int64 | Kwantitatief (continue) | Herz ($Hz$) | PdM_maint.csv |\n",
    "\n",
    "**Statistische eigenschappen** <a class=\"anchor\" id=\"StatisEigen\"></a><br>\n",
    "Statistische eigenschappen geven een beeld van kentallen binnen de statistiek. Hieronder worden onder anderen gemiddelden, standaardafwijkingen, kwartielen en het aantal rijen verstaan. Dit wordt gedaan door de regel code ```<df>.describe()``` uit te voeren. Hier dient aan opgemerkt te worden dat de .describe() functie alleen werkt voor integer datatypes. Een object is niet relevant te berekenen. Hiernaast wordt de regel code ```df.info()``` uitgevoerd om het aantal null-waardes in de kolommen op te vragen. Voor iedere losse tabel worden deze regels code uitgevoerd in onderstaande 5 codeblokken. \n"
   ]
  },
  {
   "cell_type": "code",
   "execution_count": null,
   "metadata": {},
   "outputs": [],
   "source": [
    "dfTelemetry.head()"
   ]
  },
  {
   "cell_type": "code",
   "execution_count": null,
   "metadata": {},
   "outputs": [],
   "source": [
    "# Statistische eigenschappen van MachineID\n",
    "print(dfErrors.describe())\n",
    "#Non-null values voor alle kolommen, in totaal 3919 rijen voor alle rijen (geen lege waardes)\n",
    "print(dfErrors.info())"
   ]
  },
  {
   "cell_type": "code",
   "execution_count": null,
   "metadata": {},
   "outputs": [],
   "source": [
    "# Statistische eigenschappen van MachineID\n",
    "print(dfFailures.describe())\n",
    "#Non-null values voor alle kolommen, in totaal 761 rijen voor alle rijen (geen lege waardes)\n",
    "print(dfFailures.info())"
   ]
  },
  {
   "cell_type": "code",
   "execution_count": null,
   "metadata": {},
   "outputs": [],
   "source": [
    "# Statistische eigenschappen van MachineID en leeftijd van de machine\n",
    "print(dfMachines.describe())\n",
    "#Non-null values voor alle kolommen, in totaal 100 rijen voor alle rijen (geen lege waardes)\n",
    "print(dfMachines.info())"
   ]
  },
  {
   "cell_type": "code",
   "execution_count": null,
   "metadata": {},
   "outputs": [],
   "source": [
    "# Statistische eigenschappen van MachineID \n",
    "print(dfMaint.describe())\n",
    "#Non-null values voor alle kolommen, in totaal 3286 rijen voor alle rijen (geen lege waardes)\n",
    "print(dfMaint.info())"
   ]
  },
  {
   "cell_type": "code",
   "execution_count": null,
   "metadata": {},
   "outputs": [],
   "source": [
    "# Statistische eigenschappen van MachineID, voltage, rotatie, druk en vibratie\n",
    "print(dfTelemetry.describe())\n",
    "#Non-null values voor alle kolommen, in totaal 876.100 rijen voor alle rijen (geen lege waardes)\n",
    "print(dfTelemetry.info())"
   ]
  },
  {
   "cell_type": "markdown",
   "metadata": {},
   "source": [
    "## 2.2. Data Wrangling <a class=\"anchor\" id=\"DataWrangling\"></a>\n",
    "Data wrangling betreft het op elkaar laten passen van de data. Tot nu toe betreffen het 5 losse datasets die allen op elkaar dienen te passen. Dat zal in deze paragraaf aan bod komen.  \n",
    "\n",
    "De eerste stap van het op elkaar laten passen is het inzichtelijk maken van het datamodel. Middels gebruik te maken van [Microsoft PowerBI](https://powerbi.microsoft.com/nl-nl/) wordt een model opgesteld waarbij de relaties tussen de tabellen geïdentificeerd kunnen worden. Dit heeft als resultaat het onderstaat Entity Attribute Relation Diagram (EARD):\n",
    "\n",
    "<img src=\"img/Oorspronkelijk_dataModel.png\" alt=\"oorspronkelijk datamodel\" width=\"650\"/><br>\n",
    "*Oorspronkelijk datamodel*"
   ]
  },
  {
   "cell_type": "code",
   "execution_count": 294,
   "metadata": {},
   "outputs": [
    {
     "data": {
      "text/html": [
       "<div>\n",
       "<style scoped>\n",
       "    .dataframe tbody tr th:only-of-type {\n",
       "        vertical-align: middle;\n",
       "    }\n",
       "\n",
       "    .dataframe tbody tr th {\n",
       "        vertical-align: top;\n",
       "    }\n",
       "\n",
       "    .dataframe thead th {\n",
       "        text-align: right;\n",
       "    }\n",
       "</style>\n",
       "<table border=\"1\" class=\"dataframe\">\n",
       "  <thead>\n",
       "    <tr style=\"text-align: right;\">\n",
       "      <th></th>\n",
       "      <th>datetime</th>\n",
       "      <th>machineID</th>\n",
       "      <th>comp</th>\n",
       "      <th>failure</th>\n",
       "      <th>model</th>\n",
       "      <th>age</th>\n",
       "      <th>volt</th>\n",
       "      <th>rotate</th>\n",
       "      <th>pressure</th>\n",
       "      <th>vibration</th>\n",
       "      <th>Error1</th>\n",
       "      <th>Error2</th>\n",
       "      <th>Error3</th>\n",
       "      <th>Error4</th>\n",
       "      <th>Error5</th>\n",
       "    </tr>\n",
       "  </thead>\n",
       "  <tbody>\n",
       "    <tr>\n",
       "      <th>0</th>\n",
       "      <td>2015-01-05 06:00:00</td>\n",
       "      <td>1</td>\n",
       "      <td>comp4</td>\n",
       "      <td>1</td>\n",
       "      <td>model3</td>\n",
       "      <td>18</td>\n",
       "      <td>179.303153</td>\n",
       "      <td>499.777962</td>\n",
       "      <td>111.833028</td>\n",
       "      <td>52.383097</td>\n",
       "      <td>0</td>\n",
       "      <td>0</td>\n",
       "      <td>0</td>\n",
       "      <td>0</td>\n",
       "      <td>0</td>\n",
       "    </tr>\n",
       "    <tr>\n",
       "      <th>1</th>\n",
       "      <td>2015-01-05 06:00:00</td>\n",
       "      <td>1</td>\n",
       "      <td>comp1</td>\n",
       "      <td>0</td>\n",
       "      <td>model3</td>\n",
       "      <td>18</td>\n",
       "      <td>179.303153</td>\n",
       "      <td>499.777962</td>\n",
       "      <td>111.833028</td>\n",
       "      <td>52.383097</td>\n",
       "      <td>0</td>\n",
       "      <td>0</td>\n",
       "      <td>0</td>\n",
       "      <td>0</td>\n",
       "      <td>0</td>\n",
       "    </tr>\n",
       "    <tr>\n",
       "      <th>2</th>\n",
       "      <td>2015-01-20 06:00:00</td>\n",
       "      <td>1</td>\n",
       "      <td>comp3</td>\n",
       "      <td>0</td>\n",
       "      <td>model3</td>\n",
       "      <td>18</td>\n",
       "      <td>157.774510</td>\n",
       "      <td>442.816748</td>\n",
       "      <td>105.160692</td>\n",
       "      <td>42.135127</td>\n",
       "      <td>0</td>\n",
       "      <td>0</td>\n",
       "      <td>0</td>\n",
       "      <td>0</td>\n",
       "      <td>0</td>\n",
       "    </tr>\n",
       "    <tr>\n",
       "      <th>3</th>\n",
       "      <td>2015-01-20 06:00:00</td>\n",
       "      <td>1</td>\n",
       "      <td>comp1</td>\n",
       "      <td>0</td>\n",
       "      <td>model3</td>\n",
       "      <td>18</td>\n",
       "      <td>157.774510</td>\n",
       "      <td>442.816748</td>\n",
       "      <td>105.160692</td>\n",
       "      <td>42.135127</td>\n",
       "      <td>0</td>\n",
       "      <td>0</td>\n",
       "      <td>0</td>\n",
       "      <td>0</td>\n",
       "      <td>0</td>\n",
       "    </tr>\n",
       "    <tr>\n",
       "      <th>4</th>\n",
       "      <td>2015-02-04 06:00:00</td>\n",
       "      <td>1</td>\n",
       "      <td>comp4</td>\n",
       "      <td>0</td>\n",
       "      <td>model3</td>\n",
       "      <td>18</td>\n",
       "      <td>198.120032</td>\n",
       "      <td>438.210053</td>\n",
       "      <td>89.040265</td>\n",
       "      <td>41.887215</td>\n",
       "      <td>0</td>\n",
       "      <td>0</td>\n",
       "      <td>0</td>\n",
       "      <td>0</td>\n",
       "      <td>0</td>\n",
       "    </tr>\n",
       "    <tr>\n",
       "      <th>...</th>\n",
       "      <td>...</td>\n",
       "      <td>...</td>\n",
       "      <td>...</td>\n",
       "      <td>...</td>\n",
       "      <td>...</td>\n",
       "      <td>...</td>\n",
       "      <td>...</td>\n",
       "      <td>...</td>\n",
       "      <td>...</td>\n",
       "      <td>...</td>\n",
       "      <td>...</td>\n",
       "      <td>...</td>\n",
       "      <td>...</td>\n",
       "      <td>...</td>\n",
       "      <td>...</td>\n",
       "    </tr>\n",
       "    <tr>\n",
       "      <th>2881</th>\n",
       "      <td>2015-10-10 06:00:00</td>\n",
       "      <td>100</td>\n",
       "      <td>comp3</td>\n",
       "      <td>0</td>\n",
       "      <td>model4</td>\n",
       "      <td>5</td>\n",
       "      <td>191.267582</td>\n",
       "      <td>452.270685</td>\n",
       "      <td>110.231390</td>\n",
       "      <td>39.153878</td>\n",
       "      <td>0</td>\n",
       "      <td>0</td>\n",
       "      <td>0</td>\n",
       "      <td>0</td>\n",
       "      <td>0</td>\n",
       "    </tr>\n",
       "    <tr>\n",
       "      <th>2882</th>\n",
       "      <td>2015-10-25 06:00:00</td>\n",
       "      <td>100</td>\n",
       "      <td>comp4</td>\n",
       "      <td>0</td>\n",
       "      <td>model4</td>\n",
       "      <td>5</td>\n",
       "      <td>153.588549</td>\n",
       "      <td>413.098829</td>\n",
       "      <td>95.530613</td>\n",
       "      <td>43.282421</td>\n",
       "      <td>0</td>\n",
       "      <td>0</td>\n",
       "      <td>0</td>\n",
       "      <td>0</td>\n",
       "      <td>0</td>\n",
       "    </tr>\n",
       "    <tr>\n",
       "      <th>2883</th>\n",
       "      <td>2015-11-09 06:00:00</td>\n",
       "      <td>100</td>\n",
       "      <td>comp4</td>\n",
       "      <td>0</td>\n",
       "      <td>model4</td>\n",
       "      <td>5</td>\n",
       "      <td>145.024948</td>\n",
       "      <td>364.167929</td>\n",
       "      <td>95.938735</td>\n",
       "      <td>41.263920</td>\n",
       "      <td>0</td>\n",
       "      <td>0</td>\n",
       "      <td>0</td>\n",
       "      <td>0</td>\n",
       "      <td>0</td>\n",
       "    </tr>\n",
       "    <tr>\n",
       "      <th>2884</th>\n",
       "      <td>2015-12-09 06:00:00</td>\n",
       "      <td>100</td>\n",
       "      <td>comp2</td>\n",
       "      <td>1</td>\n",
       "      <td>model4</td>\n",
       "      <td>5</td>\n",
       "      <td>144.720190</td>\n",
       "      <td>377.188361</td>\n",
       "      <td>109.995936</td>\n",
       "      <td>28.433400</td>\n",
       "      <td>0</td>\n",
       "      <td>0</td>\n",
       "      <td>0</td>\n",
       "      <td>0</td>\n",
       "      <td>0</td>\n",
       "    </tr>\n",
       "    <tr>\n",
       "      <th>2885</th>\n",
       "      <td>2015-12-24 06:00:00</td>\n",
       "      <td>100</td>\n",
       "      <td>comp2</td>\n",
       "      <td>0</td>\n",
       "      <td>model4</td>\n",
       "      <td>5</td>\n",
       "      <td>154.408466</td>\n",
       "      <td>535.776651</td>\n",
       "      <td>102.614263</td>\n",
       "      <td>30.723456</td>\n",
       "      <td>0</td>\n",
       "      <td>0</td>\n",
       "      <td>0</td>\n",
       "      <td>0</td>\n",
       "      <td>0</td>\n",
       "    </tr>\n",
       "  </tbody>\n",
       "</table>\n",
       "<p>2886 rows × 15 columns</p>\n",
       "</div>"
      ],
      "text/plain": [
       "                 datetime  machineID   comp  failure   model  age        volt  \\\n",
       "0     2015-01-05 06:00:00          1  comp4        1  model3   18  179.303153   \n",
       "1     2015-01-05 06:00:00          1  comp1        0  model3   18  179.303153   \n",
       "2     2015-01-20 06:00:00          1  comp3        0  model3   18  157.774510   \n",
       "3     2015-01-20 06:00:00          1  comp1        0  model3   18  157.774510   \n",
       "4     2015-02-04 06:00:00          1  comp4        0  model3   18  198.120032   \n",
       "...                   ...        ...    ...      ...     ...  ...         ...   \n",
       "2881  2015-10-10 06:00:00        100  comp3        0  model4    5  191.267582   \n",
       "2882  2015-10-25 06:00:00        100  comp4        0  model4    5  153.588549   \n",
       "2883  2015-11-09 06:00:00        100  comp4        0  model4    5  145.024948   \n",
       "2884  2015-12-09 06:00:00        100  comp2        1  model4    5  144.720190   \n",
       "2885  2015-12-24 06:00:00        100  comp2        0  model4    5  154.408466   \n",
       "\n",
       "          rotate    pressure  vibration  Error1  Error2  Error3  Error4  \\\n",
       "0     499.777962  111.833028  52.383097       0       0       0       0   \n",
       "1     499.777962  111.833028  52.383097       0       0       0       0   \n",
       "2     442.816748  105.160692  42.135127       0       0       0       0   \n",
       "3     442.816748  105.160692  42.135127       0       0       0       0   \n",
       "4     438.210053   89.040265  41.887215       0       0       0       0   \n",
       "...          ...         ...        ...     ...     ...     ...     ...   \n",
       "2881  452.270685  110.231390  39.153878       0       0       0       0   \n",
       "2882  413.098829   95.530613  43.282421       0       0       0       0   \n",
       "2883  364.167929   95.938735  41.263920       0       0       0       0   \n",
       "2884  377.188361  109.995936  28.433400       0       0       0       0   \n",
       "2885  535.776651  102.614263  30.723456       0       0       0       0   \n",
       "\n",
       "      Error5  \n",
       "0          0  \n",
       "1          0  \n",
       "2          0  \n",
       "3          0  \n",
       "4          0  \n",
       "...      ...  \n",
       "2881       0  \n",
       "2882       0  \n",
       "2883       0  \n",
       "2884       0  \n",
       "2885       0  \n",
       "\n",
       "[2886 rows x 15 columns]"
      ]
     },
     "execution_count": 294,
     "metadata": {},
     "output_type": "execute_result"
    }
   ],
   "source": [
    "#pandas lib for dataframe operations\n",
    "import pandas as pd\n",
    "#numpy lib for two-dimensional arrays\n",
    "import numpy as np\n",
    "#scikit learn lib for visualising data\n",
    "import sklearn as sk\n",
    "#matplot lib for visualising data\n",
    "import matplotlib.pyplot as plt\n",
    "from matplotlib import pyplot\n",
    "#seaborn lib for visualising more fancy which is based on the matplot lib\n",
    "import seaborn as sb\n",
    "import math as math\n",
    "from sklearn.linear_model import LogisticRegression #Imports logistic regression method from sklearn lib.\n",
    "from sklearn.metrics import classification_report, confusion_matrix #Imports confusion matrix for validation \n",
    "from sklearn.model_selection import train_test_split #Importing train_test_split method from scikitlearn\n",
    "\n",
    "# Loading all data files\n",
    "dfTelemetry = pd.read_csv ('data\\PdM_telemetry.csv')\n",
    "dfErrors = pd.read_csv ('data\\PdM_errors.csv')\n",
    "dfFailures = pd.read_csv ('data\\PdM_failures.csv')\n",
    "dfMachines = pd.read_csv ('data\\PdM_machines.csv')\n",
    "dfMaint = pd.read_csv ('data\\PdM_maint.csv')\n",
    "\n",
    "#Merging the tables into the dataframe\n",
    "\n",
    "# #Left join failures on maintenance to create df1\n",
    "df1 = pd.merge(dfMaint, dfFailures, how='left', left_on=['datetime', 'machineID', 'comp'], right_on = ['datetime', 'machineID', 'failure'])\n",
    "df1['failure'] = df1['failure'].fillna(0) #indicates maint was not a failure\n",
    "df1.loc[((df1.failure == 'comp1') | (df1.failure == 'comp2') | (df1.failure == 'comp3') | (df1.failure == 'comp4')), 'failure'] = '1' #indicates maintenance was a failure\n",
    "df1['failure'] = df1['failure'].astype(int)\n",
    "\n",
    "# #Clean error table to create df2, df2 = cleansed dfErrors tbl. \n",
    "df2 = dfErrors\n",
    "df2['Error1'] = 0\n",
    "df2['Error2'] = 0\n",
    "df2['Error3'] = 0\n",
    "df2['Error4'] = 0\n",
    "df2['Error5'] = 0\n",
    "\n",
    "df2.loc[(df2['errorID'] == 'error1'), 'Error1'] = 1\n",
    "df2.loc[(df2['errorID'] == 'error2'), 'Error2'] = 1\n",
    "df2.loc[(df2['errorID'] == 'error3'), 'Error3'] = 1\n",
    "df2.loc[(df2['errorID'] == 'error4'), 'Error4'] = 1\n",
    "df2.loc[(df2['errorID'] == 'error5'), 'Error5'] = 1\n",
    "\n",
    "# df2 = df2.groupby(['machineID', 'datetime']).sum() #Groups on all cols.\n",
    "df2 = df2.groupby(['datetime', 'machineID'])[[f'Error{n}' for n in range (1,6)]].sum() #Groups errorID cols only\n",
    "df2\n",
    "\n",
    "##Create df3 by joining dfTelemetry on df2\n",
    "df3 = pd.merge(dfTelemetry, df2, how='left', left_on=['machineID', 'datetime'], right_on=['machineID', 'datetime'])\n",
    "\n",
    "df3['Error1'] = df3['Error1'].fillna(0)\n",
    "df3['Error2'] = df3['Error2'].fillna(0)\n",
    "df3['Error3'] = df3['Error3'].fillna(0)\n",
    "df3['Error4'] = df3['Error4'].fillna(0)\n",
    "df3['Error5'] = df3['Error5'].fillna(0)\n",
    "\n",
    "df3.Error1 = df3.Error1.astype(int)\n",
    "df3.Error2 = df3.Error2.astype(int)\n",
    "df3.Error3 = df3.Error3.astype(int)\n",
    "df3.Error4 = df3.Error4.astype(int)\n",
    "df3.Error5 = df3.Error5.astype(int)\n",
    "\n",
    "## Create df4 by joining machines on df3\n",
    "df4 = pd.merge(dfMachines, df3, how='right', left_on=['machineID'], right_on=['machineID'])\n",
    "df4\n",
    "\n",
    "##Create dfSmall by inner joining df1 on df4\n",
    "dfSmall = pd.merge(df1, df4)\n",
    "# dfSmall\n",
    "\n",
    "## Create df5 by joining df1 on df4\n",
    "df5 = pd.merge(df1, df4, how='right', left_on=['machineID', 'datetime'], right_on=['machineID', 'datetime'])\n",
    "df = df5\n",
    "dfSmall"
   ]
  },
  {
   "cell_type": "markdown",
   "metadata": {},
   "source": [
    "## 2.3. Feature engineering en selectie <a class=\"anchor\" id=\"FeatureEngine\"></a><br>\n",
    "Deze paragraaf gaat in op het achterhalen van correlaties in de kolommen van de gehele dataset (df). Hiernaast wordt target- en feature selectie gedaan waarna visuele inzichten van deze kolommen worden gemaakt. Op deze manier wordt er gericht inzicht verkregen in de kolommen van de dataset en ontstaat er een beeld van het doel van het voorspellen. "
   ]
  },
  {
   "cell_type": "markdown",
   "metadata": {},
   "source": [
    "### 2.3.1. Correlatie heatmap"
   ]
  },
  {
   "cell_type": "code",
   "execution_count": 295,
   "metadata": {},
   "outputs": [
    {
     "data": {
      "text/plain": [
       "<matplotlib.axes._subplots.AxesSubplot at 0x2bc0d795a20>"
      ]
     },
     "execution_count": 295,
     "metadata": {},
     "output_type": "execute_result"
    },
    {
     "data": {
      "image/png": "[encoded data removed]",
      "text/plain": [
       "<Figure size 1080x576 with 2 Axes>"
      ]
     },
     "metadata": {},
     "output_type": "display_data"
    }
   ],
   "source": [
    "plt.figure(figsize=[15,8])\n",
    "sb.heatmap(dfSmall.corr(),annot=True)"
   ]
  },
  {
   "cell_type": "markdown",
   "metadata": {},
   "source": [
    "### 2.3.2. Target en Feature selectie"
   ]
  },
  {
   "cell_type": "markdown",
   "metadata": {},
   "source": [
    "### 2.3.3. Visuele inzichten <a class=\"anchor\" id=\"VisInzicht\"></a><br>"
   ]
  },
  {
   "cell_type": "markdown",
   "metadata": {},
   "source": [
    "<br>\n",
    "<br>\n",
    "<br>\n",
    "<br>\n",
    "<br>\n",
    "<br>\n",
    "<br>\n",
    "<br>\n",
    "<br>"
   ]
  },
  {
   "cell_type": "markdown",
   "metadata": {},
   "source": [
    "## 2.4. Data cleaning <a class=\"anchor\" id=\"DataCleaning\"></a>"
   ]
  },
  {
   "cell_type": "markdown",
   "metadata": {},
   "source": [
    "# 3. Uitwerkingen en algoritmen"
   ]
  },
  {
   "cell_type": "markdown",
   "metadata": {},
   "source": [
    "<br>\n",
    "<br>\n",
    "<br>\n",
    "<br>\n",
    "<br>\n",
    "<br>\n",
    "<br>\n",
    "<br>\n",
    "<br>"
   ]
  },
  {
   "cell_type": "code",
   "execution_count": null,
   "metadata": {},
   "outputs": [],
   "source": [
    "import pandas as pd\n",
    "import numpy as np\n",
    "import sklearn as sk\n",
    "import matplotlib.pyplot as plt\n",
    "from matplotlib import pyplot"
   ]
  },
  {
   "cell_type": "code",
   "execution_count": null,
   "metadata": {},
   "outputs": [],
   "source": [
    "dfTelemetry = pd.read_csv ('data\\PdM_telemetry.csv')\n",
    "dfErrors = pd.read_csv ('data\\PdM_errors.csv')\n",
    "dfFailures = pd.read_csv ('data\\PdM_failures.csv')\n",
    "dfMachines = pd.read_csv ('data\\PdM_machines.csv')\n",
    "dfMaint = pd.read_csv ('data\\PdM_maint.csv')\n",
    "print (dfTelemetry.columns)\n",
    "print (dfErrors.columns)\n",
    "print (dfFailures.columns)\n",
    "print (dfMachines.columns)\n",
    "print (dfMaint.columns)\n",
    "\n",
    "# print (dfTelemetry.dtypes)\n",
    "# dfErrors.errorID.to_string()\n",
    "# print (dfErrors.errorID.dtypes)\n",
    "# print (dfFailures.dtypes)\n",
    "# print (dfMachines.dtypes)\n",
    "# print (dfMaint.dtypes)\n",
    "\n",
    "# df = pd.concat((dfTelemetry, dfErrors, dfFailures, dfMachines, dfMaint))\n",
    "# df.head(800)\n",
    "# df.dtypes"
   ]
  },
  {
   "cell_type": "markdown",
   "metadata": {},
   "source": [
    "# Bibliografie\n",
    "+ [Microsoft Predictive Maintenance](https://www.kaggle.com/arnabbiswas1/microsoft-azure-predictive-maintenance) {1}\n",
    "+ [What is predictive maintenance?](https://www.fiixsoftware.com/maintenance-strategies/predictive-maintenance/) {2}"
   ]
  }
 ],
 "metadata": {
  "interpreter": {
   "hash": "df91481e84a2b848202e6e50f0fbb9aa107aded72c389e66e2482a76ade2318d"
  },
  "kernelspec": {
   "display_name": "Python 3.7.2 64-bit",
   "language": "python",
   "name": "python3"
  },
  "language_info": {
   "codemirror_mode": {
    "name": "ipython",
    "version": 3
   },
   "file_extension": ".py",
   "mimetype": "text/x-python",
   "name": "python",
   "nbconvert_exporter": "python",
   "pygments_lexer": "ipython3",
   "version": "3.7.3"
  },
  "orig_nbformat": 4
 },
 "nbformat": 4,
 "nbformat_minor": 2
}
