{
 "cells": [
  {
   "cell_type": "markdown",
   "metadata": {},
   "source": [
    "# Predictive Maintenance\n",
    "\n",
    "## Inleiding\n",
    "\n",
    "**Auteurs:** R. Coenen, Y. Dera, M. Vliex & S. van Wesel <br>\n",
    "**TODO** Inleiding verder afschrijven\n",
    "\n",
    "## Inhoudsopgave\n",
    "\n",
    "* [1. Data selectie](#DataSelectie)\n",
    "* [1.1. Achtergrond informatie](#AchtergrondInfo)\n",
    "* [1.2. Theoretisch kader](#TheoretischKader)\n",
    "* [1.3. Doel](#Doel)\n",
    "* [2. Data preparatie](#DataPreparatie)\n",
    "* [2.1. Data profiling](#DataProfiling)\n",
    "* [2.2. Data Cleaning](#DataCleaning)\n",
    "* [2.3. Data Wrangling](#DataWrangling)\n",
    "* [3. Uitwerkingen en algoritmen](#Uitwerkingen)\n",
    "\n",
    "---"
   ]
  },
  {
   "cell_type": "markdown",
   "metadata": {},
   "source": [
    "# 1. Data selectie <a class=\"anchor\" id=\"DataSelectie\"></a>"
   ]
  },
  {
   "cell_type": "markdown",
   "metadata": {},
   "source": [
    "## 1.1. Achtergrond informatie <a class=\"anchor\" id=\"AchtergrondInfo\"></a>"
   ]
  },
  {
   "cell_type": "markdown",
   "metadata": {},
   "source": [
    "## 1.2. Theoretisch kader <a class=\"anchor\" id=\"TheoretischKader\"></a>"
   ]
  },
  {
   "cell_type": "markdown",
   "metadata": {},
   "source": [
    "## 1.3. Doel <a class=\"anchor\" id=\"Doel\"></a>"
   ]
  },
  {
   "cell_type": "markdown",
   "metadata": {},
   "source": [
    "# 2. Data preparatie <a class=\"anchor\" id=\"DataPreparatie\"></a>"
   ]
  },
  {
   "cell_type": "markdown",
   "metadata": {},
   "source": [
    "## 2.1. Data profiling <a class=\"anchor\" id=\"DataProfiling\"></a>"
   ]
  },
  {
   "cell_type": "markdown",
   "metadata": {},
   "source": [
    "### 2.1.1. Inladen van de data <a class=\"anchor\" id=\"InladenData\"></a>"
   ]
  },
  {
   "cell_type": "markdown",
   "metadata": {},
   "source": [
    "### 2.1.2. Typeren van de data <a class=\"anchor\" id=\"TyperenData\"></a>\n",
    "\n",
    "**Format** <br>\n",
    "**Structuur** <br>\n",
    "**Context**<br>"
   ]
  },
  {
   "cell_type": "markdown",
   "metadata": {},
   "source": [
    "## 2.2. Data cleaning <a class=\"anchor\" id=\"DataCleaning\"></a>"
   ]
  },
  {
   "cell_type": "markdown",
   "metadata": {},
   "source": [
    "## 2.3. Data Wrangling <a class=\"anchor\" id=\"DataWrangling\"></a>\n",
    "Data wrangling betreft het op elkaar laten passen van de data. Tot nu toe betreffen het 5 losse datasets die allen op elkaar dienen te passen. Dat zal in deze paragraaf aan bod komen.  "
   ]
  },
  {
   "cell_type": "markdown",
   "metadata": {},
   "source": [
    "# 3. Uitwerkingen en algoritmen"
   ]
  },
  {
   "cell_type": "markdown",
   "metadata": {},
   "source": [
    "<br>\n",
    "<br>\n",
    "<br>\n",
    "<br>\n",
    "<br>\n",
    "<br>\n",
    "<br>\n",
    "<br>\n",
    "<br>"
   ]
  },
  {
   "cell_type": "code",
   "execution_count": null,
   "metadata": {},
   "outputs": [],
   "source": [
    "import pandas as pd\n",
    "import numpy as np\n",
    "import sklearn as sk\n",
    "import matplotlib.pyplot as plt\n",
    "from matplotlib import pyplot"
   ]
  },
  {
   "cell_type": "code",
   "execution_count": null,
   "metadata": {},
   "outputs": [],
   "source": [
    "dfTelemetry = pd.read_csv ('data\\PdM_telemetry.csv')\n",
    "dfErrors = pd.read_csv ('data\\PdM_errors.csv')\n",
    "dfFailures = pd.read_csv ('data\\PdM_failures.csv')\n",
    "dfMachines = pd.read_csv ('data\\PdM_machines.csv')\n",
    "dfMaint = pd.read_csv ('data\\PdM_maint.csv')\n",
    "# print (dfTelemetry.columns)\n",
    "# print (dfErrors.columns)\n",
    "# print (dfFailures.columns)\n",
    "# print (dfMachines.columns)\n",
    "# print (dfMaint.columns)\n",
    "\n",
    "# print (dfTelemetry.dtypes)\n",
    "# dfErrors.errorID.to_string()\n",
    "# print (dfErrors.errorID.dtypes)\n",
    "# print (dfFailures.dtypes)\n",
    "# print (dfMachines.dtypes)\n",
    "# print (dfMaint.dtypes)\n",
    "\n",
    "df = pd.concat((dfTelemetry, dfErrors, dfFailures, dfMachines, dfMaint))\n",
    "df.head(800)\n",
    "df.dtypes"
   ]
  }
 ],
 "metadata": {
  "interpreter": {
   "hash": "df91481e84a2b848202e6e50f0fbb9aa107aded72c389e66e2482a76ade2318d"
  },
  "kernelspec": {
   "display_name": "Python 3.7.2 64-bit",
   "language": "python",
   "name": "python3"
  },
  "language_info": {
   "codemirror_mode": {
    "name": "ipython",
    "version": 3
   },
   "file_extension": ".py",
   "mimetype": "text/x-python",
   "name": "python",
   "nbconvert_exporter": "python",
   "pygments_lexer": "ipython3",
   "version": "3.7.3"
  },
  "orig_nbformat": 4
 },
 "nbformat": 4,
 "nbformat_minor": 2
}
